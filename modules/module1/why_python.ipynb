{
 "cells": [
  {
   "cell_type": "markdown",
   "metadata": {},
   "source": [
    "# Introducing Python\n",
    "\n",
    "As our previous notebook explored, there are lots of available programming languages. Within the faculty for this course each of the following languages is the primary programming language for at least one of the faculty or teaching assistants\n",
    "\n",
    "* C/C++\n",
    "* Java\n",
    "* Matlab\n",
    "* Perl \n",
    "* Python\n",
    "* R\n",
    "\n",
    "\"Data science\" can be done with any of these languages (and many others), but probably the most buzz currently is around Python and R. Each language has its strengths and weaknesses. \n",
    "\n",
    "\n",
    "# Why Python\n",
    "\n",
    "We chose Python for this course because it is \n",
    "\n",
    "1. A language that can do about anything\n",
    "    * Python is being used in small startups, giant corporations like Google and Microsoft, and Government scientific and engineering enterprises like NASA and Lawrence Livermore National Laboratory\n",
    "1. Is very popular in data science\n",
    "1. And is a great first programming language to learn\n",
    "\n",
    ">Python has become the most popular language for majors at the top computer science departments (Philip Guo, \"Python is Now the Most Popular Introductory Teaching Language at Top U.S. Universities\"). Motivations for Python as the first language are its simple semantics and syntax [Stefik2013], leading to students making fewer mistakes, feeling more confidence, and having a better grasp of programming concepts relative to peers taught with more traditional, lower-level languages such as C or Java [Koulouri2014].... Since Python is a multi-paradigm programming language, it offer great pedagogical flexibility....Python is also an active language with many open source projects and employers looking for Python programmers (\"Is Python Becoming the King of the Data Science Forest?\", \"The RedMonk Programming Language Rankings: January 2015\").\n",
    "\n",
    "\n",
    "# Why Should You Use Python?\n",
    "\n",
    "*   It is free\n",
    "*   It is platform independent\n",
    "*   It is flexible\n",
    "*   It has  clean and simple syntax, semantics, and style\n",
    "    * [\"An Empirical Investigation into Programming Language Syntax\"](http://dl.acm.org/citation.cfm?id=2534973)\n",
    "*   *Lots of built in tools and third party libraries*\n",
    "*   Easy to integrate with existing programs\n",
    "\n",
    "\n",
    "# Python isn't the fastest language \n",
    "\n",
    "Not Fast (But Not Really Slow Either)\n",
    "\n",
    "[See comparison of language speed julia.org).](http://julialang.org/)\n",
    "\n",
    "\n",
    "\n",
    "## But...Where does speed matter most for you?\n",
    "*  Execution?\n",
    "*  Development?\n",
    "\n",
    "\n",
    "# To wrap up\n",
    "\n",
    "## Someone's take on R vs Python\n",
    "    \n",
    "![Python-vs-R](../../media/R-vs-Python-216-2.png)\n",
    "\n"
   ]
  },
  {
   "cell_type": "code",
   "execution_count": null,
   "metadata": {},
   "outputs": [],
   "source": []
  },
  {
   "cell_type": "code",
   "execution_count": null,
   "metadata": {},
   "outputs": [],
   "source": []
  }
 ],
 "metadata": {
  "kernelspec": {
   "display_name": "Python 3",
   "language": "python",
   "name": "python3"
  },
  "language_info": {
   "codemirror_mode": {
    "name": "ipython",
    "version": 3
   },
   "file_extension": ".py",
   "mimetype": "text/x-python",
   "name": "python",
   "nbconvert_exporter": "python",
   "pygments_lexer": "ipython3",
   "version": "3.7.3"
  },
  "latex_envs": {
   "LaTeX_envs_menu_present": true,
   "autoclose": false,
   "autocomplete": true,
   "bibliofile": "biblio.bib",
   "cite_by": "apalike",
   "current_citInitial": 1,
   "eqLabelWithNumbers": true,
   "eqNumInitial": 1,
   "hotkeys": {
    "equation": "Ctrl-E",
    "itemize": "Ctrl-I"
   },
   "labels_anchors": false,
   "latex_user_defs": false,
   "report_style_numbering": false,
   "user_envs_cfg": false
  }
 },
 "nbformat": 4,
 "nbformat_minor": 1
}
