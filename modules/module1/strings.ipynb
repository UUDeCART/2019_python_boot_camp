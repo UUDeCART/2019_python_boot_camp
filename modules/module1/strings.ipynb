{
 "cells": [
  {
   "cell_type": "markdown",
   "metadata": {},
   "source": [
    "<html>\n",
    "<table width=\"100%\" cellspacing=\"2\" cellpadding=\"2\" border=\"1\">\n",
    "<tbody>\n",
    "<tr>\n",
    "<td valign=\"center\" align=\"center\" width=\"25%\"><img src=\"../../media/decartes.jpg\"\n",
    "alt=\"DeCART Icon\" width=\"128\" height=\"171\"><br>\n",
    "</td>\n",
    "<td valign=\"center\" align=\"center\" width=\"75%\">\n",
    "<h1 align=\"center\"><font size=\"+3\">DeCART Summer School<br>\n",
    "for<br>\n",
    "Biomedical Data Science</font></h1></td>\n",
    "<td valign=\"center\" align=\"center\" width=\"25%\"><img\n",
    "src=\"../../media/U_Health_stacked_png_red.png\" alt=\"Utah Health\n",
    "Logo\" width=\"128\" height=\"134\"><br>\n",
    "</td>\n",
    "</tr>\n",
    "</tbody>\n",
    "</table>\n",
    "<br>\n",
    "</html>\n",
    "\n",
    "# Text and Medicine\n",
    "\n",
    "It is estimated that 75% of all information in the health record is in free-text form, such as radiology or pathology reports, nursing notes, and discharge summaries. Consequently, text processing is one of the most important data processing tasks in medicine.\n",
    "\n",
    "# Strings and Lists in Python\n",
    "\n",
    "Two of the most important data structures we will be using in Python are [strings](https://goo.gl/EEoJHd) and [lists](https://docs.python.org/3/library/stdtypes.html?highlight=strings#lists). While both are considered examples of sequences in Python, strings will be essentially a native data type for us, representing medical texts, genomic sequences, and ICD codes, for example, while lists and tuples will serve as collections where we keep related data."
   ]
  },
  {
   "cell_type": "markdown",
   "metadata": {},
   "source": [
    "### Strings\n",
    "* Strings are **immutable** sequences of characters. \n",
    "    * Immutable is a very important. Once created strings cannot be modified. Instead of modifying a string we will always be creating a new string that is derived from our first string.\n",
    "\n"
   ]
  },
  {
   "cell_type": "markdown",
   "metadata": {},
   "source": [
    "Here are two example strings. ``code`` may look numeric but it is a unique identifier without numeric meaning."
   ]
  },
  {
   "cell_type": "code",
   "execution_count": null,
   "metadata": {},
   "outputs": [],
   "source": [
    "description = 'CHRONIC HEPATITIS C WITHOUT HEPATIC COMA'\n",
    "code  = \"\"\"070.54\"\"\"\n",
    "\n",
    "print(description)\n",
    "print(code)"
   ]
  },
  {
   "cell_type": "markdown",
   "metadata": {},
   "source": [
    "In Python 3.x all strings are unicode strings composed of [unicode](https://en.wikipedia.org/wiki/Unicode) characters. Every unicode character has a unique ordinal position in the unicode definition so we can ask via the [``ord``](https://docs.python.org/3/library/functions.html#ord) function what ordinal number corresponds to a specific character or via the [``chr``](https://docs.python.org/3/library/functions.html#chr) function what character (if any, an arbitrary integer might exceed the number of characters in the code) corresponds to an ordinal number.\n",
    "\n",
    "The first 256 characters of a Unicode string are the ASCII characters:\n",
    "\n",
    "![Table of ASCII Characters](https://upload.wikimedia.org/wikipedia/commons/thumb/7/7b/Ascii_Table-nocolor.svg/800px-Ascii_Table-nocolor.svg.png)"
   ]
  },
  {
   "cell_type": "code",
   "execution_count": 10,
   "metadata": {},
   "outputs": [
    {
     "name": "stdout",
     "output_type": "stream",
     "text": [
      "Y\n",
      "ᘪ\n",
      "핦\n",
      "339\n",
      "97\n",
      "54620\n"
     ]
    }
   ],
   "source": [
    "print(chr(89))\n",
    "print(chr(5674))\n",
    "print(chr(54630))\n",
    "\n",
    "print(ord(\"œ\"))\n",
    "\n",
    "print(ord(\"a\"))\n",
    "print(ord(\"한\"))"
   ]
  },
  {
   "cell_type": "code",
   "execution_count": 27,
   "metadata": {},
   "outputs": [
    {
     "data": {
      "text/plain": [
       "'CDEFGHIJKLMNOPQRSTUVWXYZ'"
      ]
     },
     "execution_count": 27,
     "metadata": {},
     "output_type": "execute_result"
    }
   ],
   "source": [
    "def charRange(startChar=\"A\", endChar=\"Z\", inc = 1):\n",
    "    startOrd = ord(startChar)\n",
    "    endOrd = ord(endChar)\n",
    "    return \"\".join([chr(i) for i in range(startOrd, endOrd+1, inc)])\n",
    "        \n",
    "charRange(\"C\")\n",
    "    "
   ]
  },
  {
   "cell_type": "markdown",
   "metadata": {},
   "source": [
    "### Comparing Characters Means Comparing their ordinal value"
   ]
  },
  {
   "cell_type": "code",
   "execution_count": 22,
   "metadata": {},
   "outputs": [
    {
     "name": "stdout",
     "output_type": "stream",
     "text": [
      "False\n",
      "True\n"
     ]
    }
   ],
   "source": [
    "print('a' < 'A')\n",
    "print(\"aBc\" < \"abc\")"
   ]
  },
  {
   "cell_type": "markdown",
   "metadata": {},
   "source": [
    "In the evolution of computer character representations, English upper case letters were defined before lower case letters and thus have a lower ordinal value."
   ]
  },
  {
   "cell_type": "code",
   "execution_count": null,
   "metadata": {},
   "outputs": [],
   "source": [
    "print(\".\" < \"A\")\n",
    "print(\".\" < \"1\")"
   ]
  },
  {
   "cell_type": "markdown",
   "metadata": {},
   "source": [
    "## Strings: Accessing Data\n",
    "* We can access individual characters in a string with a square bracket ([]) syntax.\n",
    "* Python sequences start at 0. That is, the first element in the sequence is accessed by the number 0 (zero).\n",
    "\n",
    "## Exercise\n",
    "For the string \n",
    "\n",
    "```Python\n",
    "mystring = \"\"\"Termination of Swan-Ganz catheter within the proximal right main pulmonary.\"\"\"\n",
    "```\n",
    "What is the value of ``mystring[19]``?"
   ]
  },
  {
   "cell_type": "code",
   "execution_count": 37,
   "metadata": {},
   "outputs": [],
   "source": [
    "from quizzes.string_quizzes import *"
   ]
  },
  {
   "cell_type": "code",
   "execution_count": 38,
   "metadata": {},
   "outputs": [
    {
     "name": "stdout",
     "output_type": "stream",
     "text": [
      "- is the correct value\n"
     ]
    }
   ],
   "source": [
    "string_index1_quiz(\"-\")"
   ]
  },
  {
   "cell_type": "markdown",
   "metadata": {},
   "source": [
    "## Exercise\n",
    "\n",
    "For ``mystring`` defined above, what do you think will happen if you type\n",
    "\n",
    "```Python\n",
    "mystring[-4]\n",
    "```\n",
    "?\n",
    "\n",
    "Test your guess below."
   ]
  },
  {
   "cell_type": "code",
   "execution_count": 39,
   "metadata": {},
   "outputs": [
    {
     "name": "stdout",
     "output_type": "stream",
     "text": [
      "a is the correct value\n"
     ]
    }
   ],
   "source": [
    "string_index2_quiz(\"a\")"
   ]
  },
  {
   "cell_type": "markdown",
   "metadata": {},
   "source": [
    "## **Slicing**\n",
    "\n",
    "* You can access a segment of a string using a slicing notation: **STRING[start:stop:increment]**\n",
    "    * start is inclusive\n",
    "    * **stop is exclusive**\n",
    "* start, stop and increment all have default values\n",
    "    * start: 0\n",
    "    * stop: Length of string\n",
    "    * increment: 1"
   ]
  },
  {
   "cell_type": "code",
   "execution_count": 41,
   "metadata": {},
   "outputs": [
    {
     "name": "stdout",
     "output_type": "stream",
     "text": [
      "Termination of Swan-Ganz catheter within the proximal right main pulmonary.\n",
      "T\n",
      "n\n",
      "Termination o\n",
      "f Swan-Ganz catheter within the proximal right main pulmonary.\n",
      "Triaino wnGn ahtrwti h rxmlrgtmi umnr.\n"
     ]
    }
   ],
   "source": [
    "description = mystring\n",
    "print(description)\n",
    "print(description[0])\n",
    "print(description[5])\n",
    "print(description[0:13])\n",
    "print(description[13:])\n",
    "print(description[::2])"
   ]
  },
  {
   "cell_type": "markdown",
   "metadata": {},
   "source": [
    "## Exercise\n",
    "\n",
    "What are the slicing start and end indices needed to extract the substring \n",
    "```Python\n",
    "Swan-Ganz catheter\n",
    "```\n",
    "from ``mystring``?"
   ]
  },
  {
   "cell_type": "code",
   "execution_count": 53,
   "metadata": {},
   "outputs": [
    {
     "name": "stdout",
     "output_type": "stream",
     "text": [
      "Swan-Ganz catheter\n"
     ]
    }
   ],
   "source": [
    "str = \"Swan-Ganz catheter\"\n",
    "start = mystring.find(str)\n",
    "length = len(str)\n",
    "print(mystring[start:start +length])\n"
   ]
  },
  {
   "cell_type": "markdown",
   "metadata": {},
   "source": [
    "# Strings: Attributes and Methods\n",
    "* Strings are objects that have **attributes** and **methods**\n",
    "    * **attributes** think nouns (things strings have)\n",
    "    * **methods** think verbs (things strings do)\n",
    "* You can access **attributes** and **methods** using the 'dot' (.) notation\n",
    "* You can learn about the **attributes** and **methods** using tab completion and **help()**"
   ]
  },
  {
   "cell_type": "code",
   "execution_count": 54,
   "metadata": {},
   "outputs": [
    {
     "data": {
      "text/plain": [
       "False"
      ]
     },
     "execution_count": 54,
     "metadata": {},
     "output_type": "execute_result"
    }
   ],
   "source": [
    "description.isupper()"
   ]
  },
  {
   "cell_type": "code",
   "execution_count": 61,
   "metadata": {},
   "outputs": [
    {
     "name": "stdout",
     "output_type": "stream",
     "text": [
      "Help on built-in function isalnum:\n",
      "\n",
      "isalnum() method of builtins.str instance\n",
      "    Return True if the string is an alpha-numeric string, False otherwise.\n",
      "    \n",
      "    A string is alpha-numeric if all characters in the string are alpha-numeric and\n",
      "    there is at least one character in the string.\n",
      "\n"
     ]
    }
   ],
   "source": [
    "help(mystring.isalnum)"
   ]
  },
  {
   "cell_type": "code",
   "execution_count": 62,
   "metadata": {},
   "outputs": [
    {
     "data": {
      "text/plain": [
       "False"
      ]
     },
     "execution_count": 62,
     "metadata": {},
     "output_type": "execute_result"
    }
   ],
   "source": [
    "mystring.isalnum()"
   ]
  },
  {
   "cell_type": "markdown",
   "metadata": {},
   "source": [
    "Why did this evaluate to False?"
   ]
  },
  {
   "cell_type": "markdown",
   "metadata": {},
   "source": [
    "##  Splitting Strings\n",
    "\n",
    "A common manipulation of strings is splitting a string into a list of substrings\n",
    "* Split the string with a specified delimiter (defaults to a white space)\n",
    "* Returns a **list** (to be discussed later) of substrings"
   ]
  },
  {
   "cell_type": "code",
   "execution_count": 57,
   "metadata": {},
   "outputs": [
    {
     "name": "stdout",
     "output_type": "stream",
     "text": [
      "Help on built-in function split:\n",
      "\n",
      "split(sep=None, maxsplit=-1) method of builtins.str instance\n",
      "    Return a list of the words in the string, using sep as the delimiter string.\n",
      "    \n",
      "    sep\n",
      "      The delimiter according which to split the string.\n",
      "      None (the default value) means split according to any whitespace,\n",
      "      and discard empty strings from the result.\n",
      "    maxsplit\n",
      "      Maximum number of splits to do.\n",
      "      -1 (the default value) means no limit.\n",
      "\n"
     ]
    }
   ],
   "source": [
    "a = '1,2,3,4,5'\n",
    "help(a.split)"
   ]
  },
  {
   "cell_type": "code",
   "execution_count": 58,
   "metadata": {},
   "outputs": [
    {
     "data": {
      "text/plain": [
       "['1,2,3,4,5']"
      ]
     },
     "execution_count": 58,
     "metadata": {},
     "output_type": "execute_result"
    }
   ],
   "source": [
    "a.split()"
   ]
  },
  {
   "cell_type": "code",
   "execution_count": 59,
   "metadata": {},
   "outputs": [
    {
     "data": {
      "text/plain": [
       "['1', '2', '3', '4', '5']"
      ]
     },
     "execution_count": 59,
     "metadata": {},
     "output_type": "execute_result"
    }
   ],
   "source": [
    "a.split(',')"
   ]
  },
  {
   "cell_type": "code",
   "execution_count": 60,
   "metadata": {},
   "outputs": [
    {
     "name": "stdout",
     "output_type": "stream",
     "text": [
      "['resp', 'care', 'pt', 'received', 'on', 'psv', 'mode,', 'per', 'team', 'peep', 'placed', 'back', 'on', 'at', '5', 'cmH20.', 'initially', 'pt', 'requiring', 'ps', '12,', 'now', 'on', '8', 'for', 'progression', 'of', 'weaning.', 'tolerating', 'fair', 'with', 'rr', 'approx', '25-32', 'range.', \"mdi's\", 'given', 'q4h,', 'flovent', 'started', 'at', '8', 'p.', 'bid.', 'cuff', 'leak', 'seems', 'more', 'constant', 'today,', '?worse', 'with', 'peep', 'on,', 'cuff', 'pressure', 'kept', 'at', '30', 'cmH20', 'with', '10', \"cc's\", 'in', 'cuff,', 'to', 'seal', 'it', 'would', 'require', 'cuff', 'pressure', 'of', '45', 'cmh20.', 'IP', 'evaluated', 'and', 'chooses', 'not', 'to', 'replace', 'trach', 'at', 'this', 'time,', 'maintain', 'cuff', 'pressure', 'at', '30.', 'c/w', 'slow', 'wean,', 'progress', 'to', 'trach', 'mask', 'as', 'soon', 'as', 'possible.']\n"
     ]
    }
   ],
   "source": [
    "note =\"\"\"resp care\n",
    "pt received on psv mode, per team peep placed back on at 5 cmH20. initially pt requiring ps 12, now on 8 for progression of weaning. tolerating fair with rr approx 25-32 range. mdi's given q4h, flovent started at 8 p. bid. cuff leak seems more constant today, ?worse with peep on, cuff pressure kept at 30 cmH20 with 10 cc's in cuff, to seal it would require cuff pressure of 45 cmh20. IP evaluated and chooses not to replace trach at this time, maintain cuff pressure at 30. c/w slow wean, progress to trach mask as soon as possible.\"\"\"\n",
    "\n",
    "print(note.split())"
   ]
  },
  {
   "cell_type": "markdown",
   "metadata": {},
   "source": [
    "##  Joining Strings\n",
    "* **join()** is the inverse of **split()**\n",
    "* Base string becomes the delimiter"
   ]
  },
  {
   "cell_type": "code",
   "execution_count": 66,
   "metadata": {},
   "outputs": [
    {
     "name": "stdout",
     "output_type": "stream",
     "text": [
      "['1', '2', '3', '4', '5']\n",
      "12345\n"
     ]
    }
   ],
   "source": [
    "number_list = a.split(\",\")\n",
    "print(number_list)\n",
    "print(''.join(number_list))"
   ]
  },
  {
   "cell_type": "code",
   "execution_count": 67,
   "metadata": {},
   "outputs": [
    {
     "data": {
      "text/plain": [
       "[1, 2, 3, 4, 5]"
      ]
     },
     "execution_count": 67,
     "metadata": {},
     "output_type": "execute_result"
    }
   ],
   "source": [
    "[int(i) for i in a.split(\",\")]"
   ]
  },
  {
   "cell_type": "code",
   "execution_count": 69,
   "metadata": {},
   "outputs": [
    {
     "name": "stdout",
     "output_type": "stream",
     "text": [
      "12345\n"
     ]
    }
   ],
   "source": [
    "print( ''.join(number_list))"
   ]
  },
  {
   "cell_type": "code",
   "execution_count": 65,
   "metadata": {},
   "outputs": [
    {
     "name": "stdout",
     "output_type": "stream",
     "text": [
      "1,2,3,4,5\n",
      "1, 2, 3, 4, 5\n",
      "1this will look messy2this will look messy3this will look messy4this will look messy5\n"
     ]
    }
   ],
   "source": [
    "print(','.join(number_list))\n",
    "print(', '.join(number_list))\n",
    "print( 'this will look messy'.join(number_list))         "
   ]
  },
  {
   "cell_type": "markdown",
   "metadata": {},
   "source": [
    "# String methods for preprocessing/modifying\n",
    "* Note that since strings are **immutable** these methods don't change the string, but return a *new* string\n",
    "* **lower()**: converts all characters to lower case\n",
    "* **upper()**: converts all characters to upper case\n",
    "* **replace(a,b)**: replaces all occurrences of a in string with b (e.g., replacing tabs with spaces)"
   ]
  },
  {
   "cell_type": "code",
   "execution_count": 70,
   "metadata": {},
   "outputs": [
    {
     "name": "stdout",
     "output_type": "stream",
     "text": [
      "PLANL: ADMIN K-EXCELATE. 3% NS WITH Q2H NA LEVELS. NEURO EXAM Q1H. MONITOR I/O, RESP STATUS. MRI TODAY AFTER QUESTIONAIRE COMPLETED. CALL H.O. WITH CHANGES.\n",
      "------------------------------------------\n",
      "planl: admin k-excelate. 3% ns with q2h na levels. neuro exam q1h. monitor i/o, resp status. mri today after questionaire completed. call h.o. with changes.\n",
      "------------------------------------------\n",
      "PLANL: Admin K-excelate. 3% NS with q2h Na levels. Neuro exam q1h. Monitor I/O, resp status. MRI today after questionaire completed. Call H.O. with changes.\n"
     ]
    }
   ],
   "source": [
    "note2 = \"\"\"PLANL: Admin K-excelate. 3% NS with q2h Na levels. Neuro exam q1h. Monitor I/O, resp status. MRI today after questionaire completed. Call H.O. with changes.\"\"\"\n",
    "print(note2.upper())\n",
    "print(\"-\"*42)\n",
    "print(note2.lower())\n",
    "print(\"-\"*42)\n",
    "print(note2)"
   ]
  },
  {
   "cell_type": "code",
   "execution_count": 71,
   "metadata": {},
   "outputs": [
    {
     "name": "stdout",
     "output_type": "stream",
     "text": [
      "planl: aDMIN k-EXCELATE. 3% ns WITH Q2H nA LEVELS. nEURO EXAM Q1H. mONITOR i/o, RESP STATUS. mri TODAY AFTER QUESTIONAIRE COMPLETED. cALL h.o. WITH CHANGES.\n",
      "------------------------------------------\n",
      "PLANL: Admin K-excelZte. 3% NS with q2h NZ levels. Neuro exZm q1h. Monitor I/O, resp stZtus. MRI todZy Zfter questionZire completed. CZll H.O. with chZnges.\n",
      "------------------------------------------\n",
      "PLANL:AdminK-excelate.3%NSwithq2hNalevels.Neuroexamq1h.MonitorI/O,respstatus.MRItodayafterquestionairecompleted.CallH.O.withchanges.\n"
     ]
    }
   ],
   "source": [
    "print(note2.swapcase())\n",
    "print(\"-\"*42)\n",
    "\n",
    "print(note2.replace('a','Z'))\n",
    "print(\"-\"*42)\n",
    "\n",
    "print(note2.replace(' ','')) # replace spaces with empty string"
   ]
  },
  {
   "cell_type": "markdown",
   "metadata": {},
   "source": [
    "# String methods for evaluating\n",
    "*  You can check whether a string is \n",
    "    * alphanumeric\n",
    "    * is alpha\n",
    "    * is numeric\n",
    "    * is a whitespace\n",
    "    * is upper case\n",
    "    * is lower case\n",
    "    "
   ]
  },
  {
   "cell_type": "code",
   "execution_count": 72,
   "metadata": {},
   "outputs": [
    {
     "name": "stdout",
     "output_type": "stream",
     "text": [
      "True\n",
      "False\n",
      "True\n",
      "False\n"
     ]
    }
   ],
   "source": [
    "a='10'  \n",
    "print(a.isalnum())\n",
    "print(a.isalpha())\n",
    "print(a.isdigit())\n",
    "print(a.isspace())\n"
   ]
  },
  {
   "cell_type": "code",
   "execution_count": 73,
   "metadata": {},
   "outputs": [
    {
     "name": "stdout",
     "output_type": "stream",
     "text": [
      "True\n",
      "True\n",
      "False\n",
      "True\n"
     ]
    }
   ],
   "source": [
    "print('\\n'.isspace())\n",
    "print('\\t'.isspace())\n",
    "print('b'.isspace())\n",
    "print('b'.isalpha())"
   ]
  },
  {
   "cell_type": "markdown",
   "metadata": {},
   "source": [
    "## [Lists](https://docs.python.org/3/tutorial/introduction.html#lists)\n",
    "\n",
    "We've already seen a few lists in this notebook, but let's take a more detailed look\n",
    "\n",
    "* Lists are **mutable**, sequential collections of Python objects.\n",
    "* Objects can be heterogeneous \n",
    "    * I can have apples and oranges in my list\n",
    "* Lists can contain any Python object\n",
    "    * numbers\n",
    "    * strings,\n",
    "    * other lists\n",
    "    * functions\n",
    "    * etc.\n",
    "    \n",
    "## Creating Lists\n",
    "* Lists are specified with square brackets (**[]**)\n",
    "\n",
    "## Lists: Modifying Data\n",
    "\n",
    "Unlike strings, lists can be modfied. We can modify lists via list methods like sort and reverse or by assignment with slicing or indexing\n",
    "\n",
    "[Here](https://docs.python.org/3/tutorial/datastructures.html) is some more materials on lists from the Python tutorial."
   ]
  },
  {
   "cell_type": "code",
   "execution_count": 83,
   "metadata": {},
   "outputs": [],
   "source": [
    "demo_list = [1,\"two\",[3]]"
   ]
  },
  {
   "cell_type": "markdown",
   "metadata": {},
   "source": [
    "How could you learn what the following three list methods do using Python functions?\n",
    "* **sort()**\n",
    "* **reverse()**\n",
    "* **pop()**"
   ]
  },
  {
   "cell_type": "code",
   "execution_count": 84,
   "metadata": {},
   "outputs": [
    {
     "ename": "TypeError",
     "evalue": "'<' not supported between instances of 'str' and 'int'",
     "output_type": "error",
     "traceback": [
      "\u001b[0;31m---------------------------------------------------------------------------\u001b[0m",
      "\u001b[0;31mTypeError\u001b[0m                                 Traceback (most recent call last)",
      "\u001b[0;32m<ipython-input-84-c4a3eb5b0268>\u001b[0m in \u001b[0;36m<module>\u001b[0;34m\u001b[0m\n\u001b[0;32m----> 1\u001b[0;31m \u001b[0mdemo_list\u001b[0m\u001b[0;34m.\u001b[0m\u001b[0msort\u001b[0m\u001b[0;34m(\u001b[0m\u001b[0;34m)\u001b[0m\u001b[0;34m\u001b[0m\u001b[0;34m\u001b[0m\u001b[0m\n\u001b[0m",
      "\u001b[0;31mTypeError\u001b[0m: '<' not supported between instances of 'str' and 'int'"
     ]
    }
   ],
   "source": [
    "demo_list.sort()"
   ]
  }
 ],
 "metadata": {
  "kernelspec": {
   "display_name": "Python 3",
   "language": "python",
   "name": "python3"
  },
  "language_info": {
   "codemirror_mode": {
    "name": "ipython",
    "version": 3
   },
   "file_extension": ".py",
   "mimetype": "text/x-python",
   "name": "python",
   "nbconvert_exporter": "python",
   "pygments_lexer": "ipython3",
   "version": "3.7.3"
  }
 },
 "nbformat": 4,
 "nbformat_minor": 1
}
