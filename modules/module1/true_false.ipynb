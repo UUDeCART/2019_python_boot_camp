{
 "cells": [
  {
   "cell_type": "code",
   "execution_count": null,
   "metadata": {},
   "outputs": [],
   "source": [
    "from IPython.display import YouTubeVideo\n",
    "\n",
    "YouTubeVideo(\"ZLoEoF0LBp4\")"
   ]
  },
  {
   "cell_type": "markdown",
   "metadata": {
    "internals": {
     "slide_helper": "subslide_end",
     "slide_type": "subslide"
    },
    "slide_helper": "subslide_end",
    "slideshow": {
     "slide_type": "slide"
    }
   },
   "source": [
    "# Truth and Falsehood in Python\n",
    "\n",
    "In computer programs we are frequently framing questions about our data and doing conditional execution depending on whether our questions are answered as **True** or **False**.\n",
    "* Python provides a Boolean type that represents true (**True**) and false (**False**)\n",
    "* Objects that evaluate as False in Python\n",
    "    * **``False``**\n",
    "    * **``None``**\n",
    "    * **``0``**\n",
    "    * Empty Collections: \n",
    "        * **``\"\"``**: an empty string\n",
    "        * **``()``**: an empty tuple\n",
    "        * **``[]``**: an empty list\n",
    "        * **``{}``**: an empty dictionary\n",
    "        * **set([])**: an empty set\n",
    "* Everything else (mostly) evaluates as True\n",
    "* **bool()**: Converts any expression to a boolean value (if it can be evaluated as True or False)."
   ]
  },
  {
   "cell_type": "code",
   "execution_count": null,
   "metadata": {},
   "outputs": [],
   "source": [
    "print(bool(False))"
   ]
  },
  {
   "cell_type": "code",
   "execution_count": null,
   "metadata": {},
   "outputs": [],
   "source": [
    "print(bool([]))"
   ]
  },
  {
   "cell_type": "code",
   "execution_count": null,
   "metadata": {},
   "outputs": [],
   "source": [
    "print(bool([1]))"
   ]
  },
  {
   "cell_type": "code",
   "execution_count": null,
   "metadata": {},
   "outputs": [],
   "source": [
    "print(bool([0]))"
   ]
  },
  {
   "cell_type": "code",
   "execution_count": null,
   "metadata": {
    "internals": {
     "slide_helper": "subslide_end",
     "slide_type": "subslide"
    },
    "slide_helper": "slide_end",
    "slideshow": {
     "slide_type": "subslide"
    }
   },
   "outputs": [],
   "source": [
    "print(bool(2-2))"
   ]
  },
  {
   "cell_type": "markdown",
   "metadata": {
    "internals": {
     "slide_helper": "subslide_end",
     "slide_type": "subslide"
    },
    "slide_helper": "subslide_end",
    "slideshow": {
     "slide_type": "slide"
    }
   },
   "source": [
    "## Comparison Operators\n",
    "\n",
    "Python also defines comparison operators that evaluate as ``True`` or ``False``.\n",
    "\n",
    "* ``x == y`` **(pay attention to this one)**: equality (Is ``x`` equal to ``y``?)\n",
    "* ``x < y``, ``x > y``: less than (greater than): is ``x`` less than (greater than) ``y``?\n",
    "* ``x <= y``, ``x >= y``: less (greater) than or equal to: \n",
    "* ``x != y`` : Is ``x`` not equal to ``y``?\n",
    "* ``x is y``: Is ``x`` the same as ``y`` (that is, are ``x`` and ``y`` identical)?\n",
    "* ``x is not y``: Is ``x`` distinct from ``y``?\n",
    "* ``x in y``: is the element ``x`` in the collection ``y``?\n",
    "* ``x not in y``: is the element ``x`` not in the collection ``y``?\n"
   ]
  },
  {
   "cell_type": "markdown",
   "metadata": {
    "internals": {
     "slide_helper": "subslide_end",
     "slide_type": "subslide"
    },
    "slide_helper": "subslide_end",
    "slideshow": {
     "slide_type": "subslide"
    }
   },
   "source": [
    "## [Boolean Operators](http://docs.python.org/3/library/stdtypes.html?highlight=short%20circuit#boolean-operations-and-or-not)\n",
    "\n",
    "Python provides Boolean operators (named after George Booles) to modify and combine Boolean (True/False) values:\n",
    "\n",
    "* **``and``**\n",
    "    * x **and** y \n",
    "        * both x AND y must be true for the expression to be true\n",
    "* **or** \n",
    "    * x **or** y \n",
    "        * either x OR y must be true for the expression to be true\n",
    "* **``not``**\n",
    "    * **``not x``** is true if ``x`` is false\n",
    "\n",
    "\n",
    "\n",
    "### **and**/**or** *short circuit*\n",
    "* **and** evaluates right argument only if left argument is True\n",
    "    * Why?\n",
    "* **or** evaluates right argument only if left argument is False\n",
    "    * Why?\n"
   ]
  },
  {
   "cell_type": "markdown",
   "metadata": {},
   "source": [
    "## Exercise 1\n",
    "\n",
    "Given \n",
    "```Python\n",
    "x = 1; y = 0; z = 2\n",
    "```\n",
    "\n",
    "What would be the results of the following statements? Come up with answers first and then test them in a code cell\n",
    "```Python\n",
    "print(bool(x))\n",
    "print(bool(y))\n",
    "print(bool(z))\n",
    "bool(x) and bool(y) or bool(z)\n",
    "```"
   ]
  },
  {
   "cell_type": "code",
   "execution_count": 7,
   "metadata": {},
   "outputs": [
    {
     "data": {
      "text/plain": [
       "True"
      ]
     },
     "execution_count": 7,
     "metadata": {},
     "output_type": "execute_result"
    }
   ],
   "source": [
    "#1. T\n",
    "#2. F\n",
    "#3. T\n",
    "#4. T\n",
    "x = 1; y = 0; z = 2\n",
    "bool(x) and bool(y) or bool(z)\n"
   ]
  },
  {
   "cell_type": "markdown",
   "metadata": {},
   "source": [
    "## True and False and Numpy Arrays\n",
    "\n",
    "Numpy arrays will be central to our data analysis as they form the frameworks for all efficient computations of large numbers of nubmers.\n",
    "\n",
    "Numpy arrays have some deviation from the True/False description provided above. If I create an empty array, it evaluates as True, as we would expect."
   ]
  },
  {
   "cell_type": "code",
   "execution_count": 8,
   "metadata": {},
   "outputs": [],
   "source": [
    "import numpy as np"
   ]
  },
  {
   "cell_type": "code",
   "execution_count": null,
   "metadata": {},
   "outputs": [],
   "source": [
    "bool(np.array([]))"
   ]
  },
  {
   "cell_type": "markdown",
   "metadata": {},
   "source": [
    "If we create a one element array, it evaluates as Trues, as expected"
   ]
  },
  {
   "cell_type": "code",
   "execution_count": null,
   "metadata": {},
   "outputs": [],
   "source": [
    "bool(np.array([1]))"
   ]
  },
  {
   "cell_type": "markdown",
   "metadata": {},
   "source": [
    "However, things change as we create arrays with more than one element"
   ]
  },
  {
   "cell_type": "code",
   "execution_count": null,
   "metadata": {},
   "outputs": [],
   "source": [
    "bool(np.array([[1,2]]))\n"
   ]
  },
  {
   "cell_type": "markdown",
   "metadata": {},
   "source": [
    "So how do these ``any`` and ``all`` methods operate?"
   ]
  },
  {
   "cell_type": "code",
   "execution_count": null,
   "metadata": {},
   "outputs": [],
   "source": [
    "a = np.array([1,2,3,4])\n",
    "b = np.array([0,1,0,1])\n",
    "print(np.any(a))\n",
    "print(np.all(a))\n",
    "print(np.any(b))\n",
    "print(np.all(b))"
   ]
  },
  {
   "cell_type": "markdown",
   "metadata": {},
   "source": [
    "* [Logical Functions in Numpy](http://docs.scipy.org/doc/numpy/reference/routines.logic.html)"
   ]
  },
  {
   "cell_type": "markdown",
   "metadata": {},
   "source": [
    "## Exercise 2\n",
    "\n",
    "Given ``a`` and ``b`` as defined above, what do you think the results of the following two statements would be?\n",
    "\n",
    "```Python\n",
    "np.logical_or(a,b)\n",
    "np.logical_and(a,b)\n",
    "```"
   ]
  },
  {
   "cell_type": "code",
   "execution_count": null,
   "metadata": {},
   "outputs": [],
   "source": []
  }
 ],
 "metadata": {
  "kernelspec": {
   "display_name": "Python 3",
   "language": "python",
   "name": "python3"
  },
  "language_info": {
   "codemirror_mode": {
    "name": "ipython",
    "version": 3
   },
   "file_extension": ".py",
   "mimetype": "text/x-python",
   "name": "python",
   "nbconvert_exporter": "python",
   "pygments_lexer": "ipython3",
   "version": "3.7.3"
  }
 },
 "nbformat": 4,
 "nbformat_minor": 1
}
