{
 "cells": [
  {
   "cell_type": "markdown",
   "metadata": {},
   "source": [
    "# Steelers, Cowboys, and Bears\n",
    "## Using Sets to Explore American Football Teams\n",
    "### How Many Players Have Been on Each Team?"
   ]
  },
  {
   "cell_type": "code",
   "execution_count": 1,
   "metadata": {},
   "outputs": [
    {
     "name": "stdout",
     "output_type": "stream",
     "text": [
      "Requirement already satisfied: matplotlib_venn in /opt/conda/lib/python3.7/site-packages (0.11.5)\n",
      "Requirement already satisfied: matplotlib in /opt/conda/lib/python3.7/site-packages (from matplotlib_venn) (3.0.3)\n",
      "Requirement already satisfied: scipy in /opt/conda/lib/python3.7/site-packages (from matplotlib_venn) (1.2.1)\n",
      "Requirement already satisfied: numpy in /opt/conda/lib/python3.7/site-packages (from matplotlib_venn) (1.16.4)\n",
      "Requirement already satisfied: cycler>=0.10 in /opt/conda/lib/python3.7/site-packages (from matplotlib->matplotlib_venn) (0.10.0)\n",
      "Requirement already satisfied: kiwisolver>=1.0.1 in /opt/conda/lib/python3.7/site-packages (from matplotlib->matplotlib_venn) (1.1.0)\n",
      "Requirement already satisfied: pyparsing!=2.0.4,!=2.1.2,!=2.1.6,>=2.0.1 in /opt/conda/lib/python3.7/site-packages (from matplotlib->matplotlib_venn) (2.4.0)\n",
      "Requirement already satisfied: python-dateutil>=2.1 in /opt/conda/lib/python3.7/site-packages (from matplotlib->matplotlib_venn) (2.8.0)\n",
      "Requirement already satisfied: six in /opt/conda/lib/python3.7/site-packages (from cycler>=0.10->matplotlib->matplotlib_venn) (1.12.0)\n",
      "Requirement already satisfied: setuptools in /opt/conda/lib/python3.7/site-packages (from kiwisolver>=1.0.1->matplotlib->matplotlib_venn) (41.0.1)\n"
     ]
    }
   ],
   "source": [
    "!pip install matplotlib_venn"
   ]
  },
  {
   "cell_type": "code",
   "execution_count": 2,
   "metadata": {},
   "outputs": [],
   "source": [
    "import pickle\n",
    "from matplotlib_venn import venn2_circles, venn2, venn3\n",
    "import matplotlib.pyplot as plt"
   ]
  },
  {
   "cell_type": "code",
   "execution_count": 3,
   "metadata": {},
   "outputs": [],
   "source": [
    "with open(\"./football.pickle\",\"rb\") as f0:\n",
    "    teams = pickle.load(f0)"
   ]
  },
  {
   "cell_type": "markdown",
   "metadata": {},
   "source": [
    "#### ``teams`` is a [dictionary](https://docs.python.org/3/tutorial/datastructures.html#dictionaries) with\n",
    "\n",
    "* **keys** equal to name of football teams\n",
    "* **values** equal to a [**list**](https://docs.python.org/3.4/tutorial/introduction.html#lists) of all the players that have played on those teams"
   ]
  },
  {
   "cell_type": "code",
   "execution_count": 4,
   "metadata": {},
   "outputs": [
    {
     "data": {
      "text/plain": [
       "dict"
      ]
     },
     "execution_count": 4,
     "metadata": {},
     "output_type": "execute_result"
    }
   ],
   "source": [
    "type(teams)"
   ]
  },
  {
   "cell_type": "code",
   "execution_count": 7,
   "metadata": {},
   "outputs": [
    {
     "data": {
      "text/plain": [
       "dict_values([['Bobby Abrams', 'David Adams', 'Flozell Adams', 'Keith Adams', 'Vashone Adams', 'Herb Adderley', 'Margene Adkins', 'Tommie Agee', 'Troy Aikman', 'Chris Akins', 'Alex Albright', 'Vince Albritton', 'Ray Alexander', 'Darnell Alford', 'Gary Allen', 'Larry Allen', 'Lance Alworth', 'Antonio Anderson', 'Deon Anderson', 'Richie Anderson', 'George Andrie', 'Scott Ankrom', 'David Arkin', 'Jimmy Armstrong', 'Tyji Armstrong', 'Jim Arneson', 'Bob Asher', 'Dowe Aughtman', 'Miles Austin', 'Rob Awalt', 'Akin Ayodele', 'Remi Ayodele', 'Gene Babb', 'John Babinecz', 'Robert Bailey', 'Dan Bailey', 'Jesse Baker', 'Jon Baker', 'Matt Baker', 'Sam Baker', 'Brian Baldinger', 'Alex Barron', 'Gordon Banks', 'Marion Barber III', 'Rod Barksdale', 'Benny Barnes', 'Darian Barnes', 'Gary Barnes', 'Reggie Barnes', 'Rodrigo Barnes', 'Micheal Barrow', 'Marv Bateman', 'Bill Bates', 'Michael Bates', 'Michael Batiste', 'Craig Baynham', 'Arliss Beach', 'Bob Belden', 'Jason Bell', 'Martellus Bennett', 'Darren Benson', 'Bob Bercich', 'Adam Bergen', 'Joe Berger', 'Justin Beriault', 'Larry Bethea', 'Steve Beuerlein', 'Erik Bickerstaff', 'Dick Bielski', 'Terry Billups', 'Don Bishop', 'Eric Bjornson', 'Alois Blackwell', 'Kelly Blackwell', 'Willie Blade', 'Ricky Blake', 'Drew Bledsoe', 'Alvin Blount', 'Jim Boeke', 'Rocky Boiman', 'Chris Boniol', 'Nate Borden', 'Rich Borresen', 'Anthony Bowden', 'Joe Bowden', 'Tom Braatz', 'Byron Bradfute', 'Kerry Brady', 'Chris Brazzell', 'Bob Breunig', 'Alundis Brice', 'Zach Bridgeman', 'Greg Briggs', 'Lester Brinkley', 'Larry Brinson', 'Clyde Brock', 'Keith Brooking', 'Jamal Brooks', 'Jermaine Brooks', 'Kevin Brooks', 'Michael Brooks', 'Bob Brotzki', 'Willie Broughton', 'Courtney Brown', 'Eric Brown', 'Guy Brown', 'Larry Brown', 'Otto Brown', 'Darrick Brownlow', 'Antonio Bryant', 'Dez Bryant', 'Chris Brymer', 'David Buehler', 'Amos Bullocks', 'Cornell Burbage', 'Jackie Burkett', 'Kevin Burnett', 'Dave Burnette', 'Ron Burton', 'Bill Butler', 'Quincy Butler', 'Lee Roy Caffey', 'Dan Campbell', 'Alan Campos', 'Billy Cannon', 'Jr.', 'Barry Cantrell', 'Chris Canty', 'Warren Capone', 'Glenn Carano', 'Harold Carmichael', 'Bobby Carpenter', 'Duane Carrell', 'Leonardo Carson', 'Jon Carter', 'Quincy Carter', 'Shante Carver', 'Scott Case', 'Tony Casillas', 'Aveion Cason', 'Quinton Caver', 'Marc Cerqua', 'Sal Cesario', 'Robert Chancey', 'Thornton Chandler', 'Seronsa Charles', 'Louis Cheek', 'Randy Chevrier', 'Chris Chewning', 'Darrin Chiaverini', 'Ray Childress', 'Tashard Choice', 'Steve Cisowski', 'Morris Claiborne', 'Darryl Clack', 'Mike Clark', 'Monte Clark', 'Phil Clark', 'Franklin Clarke', 'Antonio Clay', 'Hayward Clay', 'DeVone Claybrooks', 'Dextor Clinkscale', 'Dexter Coakley', 'Garry Cobb', 'Larry Cole', 'Anthony Coleman', 'Kenyon Coleman', 'Lincoln Coleman', 'Marcus Coleman', 'Ralph Coleman', 'Reggie Collier', 'Javiar Collins', 'Jerome Collins', 'Marc Colombo', 'Jim Colvin', 'Bill Conaty', 'Jon Condo', 'Fred Cone', 'Mike Connelly', 'Bobby Joe Conrad', 'Chris Cooper', 'Jim Cooper', 'Reggie Cooper', 'Roger Cooper', 'Terrance Copper', 'Frank Cornish', 'Fred Cornwell', 'José Cortéz', 'Quentin Coryatt', 'Doug Cosbie', 'Vince Courville', 'Patrick Crayton', 'William Creeden', 'Willis Crockett', 'Gene Cronin', 'Tom Crowder', 'Billy Cundiff', 'Randall Cunningham', 'Richie Cunningham', 'Tony Curtis', 'Andy Cvercko', 'Tim Daniel', 'Dick Daniels', 'Woodrow Dantzler', 'Billy Davis', 'Donnie Davis', 'Keith Davis', 'Kyle Davis', 'Leonard Davis', 'Nathan Davis', 'Sonny Davis', 'Wendell Davis', 'Andrew Davison', 'Jack Del Rio', 'Pat Dennis', 'Doug Dennison', 'Steve DeOssie', 'Harold Deters', 'Buddy Dial', 'Jorge Diaz', 'Anthony Dickerson', 'Paul Dickson', 'John Diehl', 'Gennaro DiNapoli', 'Mike Ditka', 'James Dixon', 'Tony Dixon', 'Fred Doelling', 'Ray Donaldson', 'Doug Donley', 'Leon Donohue', 'Pat Donovan', 'Jim Doran', 'Karl Dorrell', 'Tony Dorsett', 'Char-ron Dorsey', 'Merrill Douglas', 'Mike Dowdle', 'Michael Downs', 'Kenny Duckett', 'Fred Dugan', 'Chris Duliban', 'Perry Dunn', 'L. G. Dupree', 'Billy Joe Dupree', 'John Dutton', 'Mike Dwyer', 'Ricky Easmon', 'Ron East', 'Chad Eaton', 'Dave Edwards', 'Dixon Edwards', 'Kelvin Edwards', 'Mario Edwards', 'Jim Eidson', 'Ebenezer Ekuban', 'Abram Elam', 'Onzy Elam', 'Lin Elliot', 'Greg Ellis', 'Demetric Evans', 'Thomas Everett', 'Jason Fabini', 'Mike Falls', 'Anthony Fasano', 'Ron Fellows', 'Jason Ferguson', 'Anthony Fieldings', 'Aaron Fields', 'Filip Filipović', 'Joe Fishback', 'Ray Fisher', 'John Fitzgerald', 'Harry Flaherty', 'John Flannery', 'Cory Fleming', 'Ryan Flinn', 'Richmond Flowers', 'Nick Folk', 'Lee Folkins', 'Steve Folsom', 'Bernard Ford', 'Ryan Fowler', 'Todd Fowler', 'Ron Francis', 'Tom Franckhauser', 'Bill Frank', 'Lance Frazier', 'Paul Frasier Andy Frederick', 'Tyler Fredrickson', 'Doug Free', 'Ben Fricke', 'Byron Frisch', 'Toni Fritsch', 'Ken Frost', 'Bob Fry', 'Jean Fugett', 'Scott Fujita', 'Oronde Gadsden', 'Mike Gaechter', 'Derrick Gainer', 'Scott Galbraith', 'Joey Galloway', 'Kenneth Gant', 'Kelvin Garmon', 'Jason Garrett', 'Judd Garrett', 'Walt Garrison', 'Everett Gay', 'Peter Gent', 'Eddie George', 'John Gesek', 'Sonny Gibbs', 'Aaron Gibson', 'Aaron Glenn', 'Terry Glenn', \"La'Roi Glover\", 'Junior Glymph', 'Randall Godfrey', 'Kevin Gogan', 'John Gonzaga', 'Daniel Gonzalez', 'Leon Gonzalez', 'Dwayne Goodrich', 'Mike Goolsby', 'Cornell Gowdy', 'Toby Gowin', 'Martín Gramática', 'Charlie Granger', 'Norm Granger', 'Orantes Grant', 'Jeff Grau', 'Clinton Greathouse', 'Alex Green', 'Allen Green', 'Cornell Green', 'Skyler Green', 'Forrest Gregg', 'Bill Gregory', 'Glynn Gregory', 'Bob Grottkau', 'Andre Gurode', 'Buzz Guy', 'Halvor Hagen', 'Charles Haley', 'Chris Hall', 'Lemanski Hall', 'Shea Halligan', 'Darren Hambrick', 'Troy Hambrick', 'Dean Hamel', 'Ken Hamlin', 'Ryan Hannam', 'Wayne Hansen', 'Linc Hardin', 'Darryl Hardy', 'Kevin Hardy', 'Alvin Harper', 'Dave Harper', 'Roger Harper', 'Reggie Harrell', 'Cliff Harris', 'Duriel Harris', 'Jackie Harris', 'Jimmy Harris', 'Rod Harris', 'Jason Hatcher', 'Duane Hawthorne', 'Bob Hayes', 'Wendell Hayes', 'Tommy Haynes', 'Harold Hays', 'Ennis Haywood', 'Don Healy', 'George Hegamin', 'Mike Hegman', 'Don Heinrich', 'Dale Hellestrae', 'Nate Hemsley', 'Thomas Henderson', 'Steve Hendrickson', 'Manny Hendrix', 'Tim Hendrix', 'Chad Hennings', 'Anthony Henry', 'Drew Henson', 'Bill Herchman', 'Efren Herrera', 'Edward Hervey', 'Mark Higgs', 'Alonzo Highsmith', 'Jon Hilbert', 'Bill Hill', 'Calvin Hill', 'Rod Hill', 'Tony Hill', 'Tony Hill', 'Damon Hodge', 'Tommy Hodson', 'Gary Hogeboom', 'Jesse Holley', 'Montrae Holland', 'Johnny Holloway', 'Ronnie Holmes', 'Clayton Holmes', 'Issiac Holt', 'Dennis Homan', 'Mitch Hoopes', 'Ray Horton', 'John Houser', 'Bill Houston', 'Carl Howard', 'David Howard', 'Percy Howard', 'Ron Howard', 'Chuck Howley', 'Billy Howton', 'Lynn Hoyem', 'Oliver Hoyte', 'Johnny Huggins', 'Randy Hughes', 'Tyrone Hughes', 'Buddy Humphrey', 'John Hunt', 'Monty Hunter', 'Pete Hunter', 'Jeff Hurd', 'Sam Hurd', 'Eric Hurt', 'Ed Husmann', 'Ken Hutcherson', 'Chad Hutchinson', 'Bruce Huther', 'Tony Hutson', 'Michael Irvin', 'Joe Isbell', 'Raghib Ismail', 'Alcender Jackson', 'Tim Jackson', 'Willie Jackson', 'Bradie James', 'Cedric James', 'Vontrell Jamison', 'Garth Jax', 'Jim Jeffcoat', 'Patrick Jeffers', 'Michael Jefferson', 'Mike Jenkins', 'Keith Jennings', 'Jim Jensen', 'John Jett', 'Al Johnson', 'Brad Johnson', 'Butch Johnson', 'Keyshawn Johnson', 'Mike Johnson', 'Mitch Johnson', 'Thomas Johnson', 'Undra Johnson', 'Walter Johnson', 'Daryl Johnston', 'Adam Jones', 'Dale Jones', 'E. J. Jones', 'Ed Jones', 'Felix Jones', 'James Jones', 'Jermaine Jones', 'Jimmie Jones', 'Julius Jones', 'Nathan Jones', 'Robert Jones', 'Bobby Jonsson', 'Lee Roy Jordan Eric Jackson Douglas Jackson', 'Jason Kaiser', 'Mike Keller', 'Derek Kennard', 'Crawford Ker', 'Gene Killian', 'Keylon Kincade', 'Steve Kiner', 'Angelo King', 'Mike Kiselak', 'Jon Kitna', 'Syd Kitson', 'Dick Klein', 'Frank Klein', 'Ricky Kloppe', 'Micah Knorr', 'Bernie Kosar', 'Kyle Kosier', 'Walt Kowalczyk', 'Craig Kupp', 'Jake Kupp', 'Aaron Kyle', 'Sean Lee', 'L.P. Ladouceur', 'David LaFleur', 'Scott Laidlaw', 'Bill Lang', 'Kareem Larrimore', 'Derrick Lassic', 'Babe Laufenberg', 'Robert Lavette', 'Burton Lawless', 'Ryan Leaf', 'Eddie LeBaron', 'ReShard Lee', 'Sean Lee', 'Matt Lehr', 'Tim Lester', 'Leon Lett', 'D.D. Lewis', 'Woodley Lewis', 'George Lilja', 'Bob Lilly', 'Kevin Lilly', 'Tony Liscio', 'Bruce Livingston', 'Warren Livingston', 'J. W. Lockett', 'Eugene Lockhart', 'Obert Logan', 'Bob Long', 'Dustin Long', 'Clint Longley', 'Billy Lothridge', 'Pete Lougheed', 'Reggie Love', 'Mike Lucky', 'Anthony Lucas', 'Wade Lynch', 'Brandon Mahoney', 'Arthur Mack', 'Louis Mackey', 'Dave Manders', 'Wade Manning', 'Brock Marion', 'Greg Marquess', 'Amos Marsh', 'James Marten', 'Harvey Martin', 'Jamar Martin', 'Kelvin Martin', 'Carlos Martinez', 'Russell Maryland', 'Ray Mathews', 'Kevin Mathis', 'Mat McBriar', 'Hurvin McCormack', 'Bob McCreary', 'David McDaniels', 'Paul McDonald', 'Tommy McDonald', 'Marques McFadden', 'Zachary McEwen', 'Tony McGee', 'Don McIlhenny', 'Toddrick McIntosh', 'Everett McIver', 'Jason McKie', 'Jeremy McKinney', 'Dennis McKinnon', 'James McKnight', 'Scott McLean', 'Ryan McNeil', 'Pat McQuistan', 'Chuck McSwain', 'Dale Memmelaar', 'Don Meredith', 'John Meyers', 'Joey Mickey', 'Hugh Millen', 'Anthony Miller', 'Jim Miller', 'Ernie Mills', 'Dwayne Missouri', 'Aaron Mitchell', 'Johnny Mitchell', 'Singor Mobley', 'Dickey Moegle', 'Jim Molinaro', 'Mike Montgomery', 'Matt Moore', 'Jim Mooty', 'Dennis Morgan', 'Quincy Morgan', 'Craig Morton', 'Lee Murchison', 'DeMarco Murray', 'Eddie Murray', 'Adrian Murrell', 'Greg Myers', 'Michael Myers', 'Godfrey Myles', 'Tom Myslinski Dennis Mitchell', 'Ralph Neely', 'Jim Neidhart', 'Ryan Neufeld', 'Robert Newhouse', 'Terence Newman', 'Timmy Newsome', 'Nate Newton', 'Dat Nguyen', 'John Niland', 'John Nix', 'Brandon Noble', 'Dick Nolan', 'Ben Noll', 'Danny Noonan', 'Pettis Norman', 'Anthony Norris', 'Jerry Norton', 'Ken Norton', 'Jay Novacek', 'Ed Nutting', 'Blaine Nye', 'Eric Ogbogu', 'Jeff Ogden', 'Igor Olshansky', \"Keith O'Neil\", 'Paul Oswald', 'Bob Otto', 'Jerry Overton', 'Billy Owens', 'Brig Owens', 'Terrell Owens', 'Akwasi Owusu-Ansah', 'Paul Olson', 'Craig Page', 'Solomon Page', 'Paul Palmer', 'Billy Parks', 'James Parrish', 'Tony Parrish', 'Jack Patera', 'Elvis Patterson', 'Drew Pearson', 'Preston Pearson', 'Rodney Peete', 'Steve Pelluer', 'Jesse Penn', 'George Peoples', 'Mac Percival', 'Don Perkins', 'Ray Perkins', 'Bob Perryman', 'Stephen Peterman', 'Kurt Petersen', 'Calvin Peterson', 'Rob Petitti', 'Kirk Phillips', 'Carl Pickens', 'Brett Pierce', 'Willie Pile', 'Cyril Pinder', 'Kavika Pittman', 'Kurt Ploeger', 'Lance Poimboeuf', 'Lousaka Polite', 'David Ponder', 'Garry Porterfield', 'Karl Powe', 'Jemeel Powell', 'Russell Powell', 'Phil Pozderac', 'Clayton Prewitt', 'Jim Price', 'Peerless Price', 'Cory Procter', 'Mickey Pruitt', 'Jethro Pugh', 'Duane Putnam', 'Mike Quinn', 'Tom Rafferty', 'Ken-Yon Rambo', 'Tom Randall', 'Sonny Randle', 'Jay Ratliff', 'Jamaica Rector', 'Beasley Reece', 'Guy Reese', 'Izell Reese', 'Danielle Rusler', 'Jacques Reeves', 'Mel Renfro', 'Mike Renfro', 'Lance Rentzel', 'Jerry Rhome', 'Curvin Richards', 'Golden Richards', 'Howard Richards', 'Gloster Richardson', 'Jamel Richardson', 'Colin Ridgway', 'Jim Ridlon', 'Earl Riley', 'Marco Rivera', 'John Roach', 'Alfredo Roberts', 'Jeff Robinson', 'Larry Robinson', 'Cliff Robertson Bill Roe', 'Bill Rogers', 'Jacob Rogers', 'Jeff Rohrer', 'Tony Romo', 'John Roper', 'Derek Ross', 'Dominique Ross', 'Oliver Ross', 'Reggie Rucker', 'Roger Ruzek', 'Sean Ryan', 'Jay Saldi', 'Brian Salonen', 'Jeff Sanchez', 'Bill Sandeman', 'Deion Sanders', 'O. J. Santiago', 'Broderick Sargent', 'Buzz Sawyer', 'Mike Saxon', 'Orlando Scandrick', 'Noel Scarlett', 'Greg Schaum', 'Ray Schoenke', 'Chris Schultz', 'Jim Schwantz', 'Steve Scifres', 'Chuck Scott', 'Darnay Scott', 'Herbert Scott', 'John Scott', 'Kevin Scott', 'Lynn Scott', 'Schad Scott Victor Scott', 'Scott Secules', 'Tim Seder', 'Ron Sellers', 'Gerald Sensabaugh', 'Rafael Septien', 'Scott Shanle', 'Randy Shannon', 'Robert Shaw', 'Joe Shearin', 'Derrick Shepard', 'Dave Sherer', 'Mike Sherrard', 'Joe Shields', 'Clay Shiver', 'Les Shy', 'Cleo Simmons', 'Dave Simmons', 'Victor Simmons', 'Al Singleton', 'Tony Slaton', 'Stan Smagala', 'Don Smerek', 'Artie Smith', 'Darrin Smith', 'Daryle Smith', 'Donald Smith', 'Emmitt Smith', 'J. D. Smith', 'Jackie Smith', 'Jim Ray Smith', 'Jimmy Smith', 'Kevin Smith', 'Myron Smith', 'Shaun Smith', 'Tarik Smith', 'Timmy Smith', 'Tody Smith', 'Tyron Smith', 'Vinson Smith', 'Waddell Smith', 'Zuriel Smith', 'Shannon Snell', 'Loren Snyder', 'Joe Soboleski', 'Jesse Solomon', 'Roland Solomon', 'Mike Solwold', 'Phillippi Sparks', 'Marcus Spears', 'Alonzo Spellman', 'Anthony Spencer', 'Sebron Spivey', 'Danny Spradlin', 'Ron Springs', 'Dave Stalls', 'Isaiah Stanback', 'Montavious Stanley', 'Roger Staubach', 'Markus Steele', 'Robert Steele', 'Larry Stephens', 'Mark Stepnoski', 'Curtis Stewart', 'Daleroy Stewart', 'Junior Siavii', 'Jim Stiger', 'Bryan Still', 'Tom Stincic', 'Clint Stoerner', 'Sim Stokes', 'Ron Stone', 'Cliff Stoudt', 'Omar Stoutmire', 'Otto Stowe', 'Les Strayhorn', 'Fred Strickland', 'Danny Stubbs', 'Darren Studstill', 'Oscar Sturgis', 'Andy Stynchula', 'Nicky Sualua', 'Shaun Suisham', 'Mike Sullivan', 'Russ Swan', 'Kevin Sweeney', 'Reggie Swinton', 'Don Talbert', 'Matt Tarullo', 'Junior Tautalatasi', 'Johnathan Taylor', 'Tony Taylor', 'George Teague', 'Derek Tennell', 'Vinny Testaverde', 'Anthony Thomas', 'Bill Thomas', 'Blair Thomas', 'Broderick Thomas', 'Dave Thomas', 'Duane Thomas', 'Ike Thomas', 'Joey Thomas', 'Robert Thomas', 'Broderick Thompson', 'Tyson Thompson', 'Andy Thorn', 'Bruce Thornton (CB)', 'Bruce Thornton (DL)', 'Kalen Thornton', 'Dennis Thurman', 'Kirk Timmer', 'Ken Tippins', 'Glen Titensor', 'Brandon Tolbert', 'Tony Tolbert', 'J. R. Tolver', 'Pat Toomay', 'Willie Townes', 'Greg Tremble', 'Billy Truax', 'Jerry Tubbs', 'B. J. Tucker', 'Jason Tucker', 'Ross Tucker', 'Torrin Tucker', 'Mark Tuinei', 'Jimmie Turner', 'Stephen Tyler', 'Mike Ulufale', 'Dimitrius Underwood', 'Jerheme Urban', 'Matt Vanderbeek', 'Mike Vanderjagt', 'Dick Van Raaphorst', 'Alan Veingrad', 'Tony Vidal', 'Danny Villanueva', 'Kurt Vollers Dustin Vaughan', 'Mark Walen', 'Gary Walker', 'Louie Walker', 'Malcolm Walker', 'Herschel Walker', 'Rodney Wallace', 'Everson Walls', 'Steve Walsh', 'Mike Walter', 'Tyson Walter', 'Bruce Walton', 'Dedric Ward', 'DeMarcus Ware', 'Derek Ware', 'Chris Warren', 'John Warren', 'James Washington', 'Mark Washington', 'Charlie Waters', 'Kendall Watkins', 'Randy Watts', 'Russell Wayt', 'Colston Weatherington', 'Claxton Welch', 'Norm Wells', 'Gary Westberry', 'Bryant Westbrook', 'James Whalen', 'Kenny Wheaton', 'Bob White', 'Chris White', 'Danny White', 'Gerald White', 'Randy WhiteTerry white RB', 'A.D. Whitfield', 'Fred Whittingham', 'Ron Widby', 'Dave Widell', 'John Wilbur', 'Sam Wilder', 'Marcellus Wiley', 'Michael Wiley', 'Charlie Williams', 'Kevin Williams', 'Erik Williams', 'Joe Williams', 'John Williams', 'Lenny Williams', 'Randal Williams', 'Robert Williams', 'Roy E. Williams', 'Roy L. Williams', 'Sherman Williams', 'Stepfret Williams', 'Tyrone Williams (WR)', 'Tyrone Williams (CB)', 'Ken Willis', 'Mitch Willis', 'Robert Wilson', 'Steve Wilson', 'Wade Wilson', 'Gary Wisener', 'Terry Witherspoon', 'Jason Witten', 'Darren Woodson', 'Rolly Woolsey', 'Barron Wortham', 'Alexander Wright', 'Anthony Wright', 'Brad Wright', 'Charles Wright', 'Rayfield Wright', 'Steve Wright', 'Maury Youmans', 'Cecil Young Charley Young', 'Ryan Young', 'Peppi Zellner', 'Luis Zendejas', 'Mike Zentic', 'Jeff Zimmerman'], ['Anthony Adams', 'Chester Adams', 'Gaines Adams', 'Al Afalava', 'Armando Allen', 'Jermaine Allen', 'Jerry Angelo*', 'Brad Anderson', 'Heartley Anderson*', 'Mark Anderson', 'Neal Anderson', 'Tom Andrews', 'Neill Armstrong*', 'Devin Aromashodu', 'Johan Asiata', 'Zac Atterberry', 'Brendon Ayanbadejo', 'Ervin Baldwin', 'Cody Balogh', 'Kirk Barton', 'Brett Basanez', 'Brian Baschnagel', 'Kurt Becker', 'Josh Beekman', 'Kahlil Bell', 'Earl Bennett', 'Cedric Benson', 'George Blanda', 'Marty Booker', 'Mark Bortz', 'Zackary Bowman', 'Mark Bradley', 'Zeke Bratkowski', 'Lance Briggs', 'Kevin Brock', 'John Broussard', 'Alex Brown', 'Ed Brown', 'Mike Brown', 'Dan Buenning*', 'Maury Buford', 'Rudy Bukich', 'Josh Bullocks', 'Rudy Burgess', 'Dick Butkus', 'Kevin Butler', 'Brian Cabral', 'Desmond Clark', \"'Joe Clermond'\", 'Marc Colombo', 'Curtis Conway', 'Jimmy Conzelman', 'Jim Covert', 'Jay Cutler', 'Jason Davis', 'Kellen Davis', 'Rashied Davis', 'Wendell Davis', 'Dahna Deleston', 'Richard Dentp', 'Mike Ditka', 'Jim Dooley', 'Chuck Dressen', 'Paddy Driscoll', 'Dave Duerson', 'Dusty Dvoracek', 'Candy Delazzer', 'Faust Delazzer', 'Paul \"Tiny\" Engebretsen', 'Curtis Enis', 'Earl Evans', 'Gary Famiglietti', 'Gary Fencik', 'Matt Forté', 'Leslie Frazier', 'Andy Frederick', 'Marcus Freeman', 'Steve Fuller', 'Thomas Gafford*', 'Justin Gage', 'Michael Gaines', 'Wentford Gaines', 'Roberto Garza', 'Willie Gault', 'Shaun Gayle', 'Dennis Gentry', 'Abe Gibron', 'Jarron Gilbert', 'Robbie Gould', 'Corey Graham', 'Ryan Grice-Mullen*', 'Brian Griese', 'Rex Grossman', 'George Halas*', 'Dan Hampton', 'Marcus Hamilton', 'Caleb Hanie', 'Tommie Harris', 'Marcus Harrison', 'Mike Hartenstine', 'Michael Haynes', 'Craig Heyward', 'Devin Hester', 'Jay Hilgenberg', 'Hunter Hillenmeyer', 'Merril Hoge', 'Stefan Humphries', 'Israel Idonije', 'Juaquin Iglesias', 'Dick Jauron', 'Luke Johnsos', 'Kevin Jones', 'Ralph Jones', 'Thomas Jones', 'Ken Kavanaugh', 'Tyrone Keys', 'Derek Kinder', 'Johnny Knox', 'Olin Kreutz', 'Joey LaRocque', 'Chris Leak*', 'Brandon Lloyd', 'Lance Louis', 'Sid Luckman', 'Johnny Lujack', 'Kevin Malast', 'Patrick Mannelly', 'James Manness', 'Danieal Manning', 'Ricky Manning, Jr.', 'Ken Margerum', 'Wilber Marshall', 'James Marten', 'Bernard Masterson', 'Brad Maynard', 'Henry Melton', 'Terrence Metcalf', 'Fontel Mines', 'Keith Molesworth', 'Marcus Monk', 'D.J. Moore', 'Emery Moorehead', 'Bam Morris', 'Johnny Morris', 'Jim Morrissey', 'Brad Muster', 'George McAfee', 'Trumaine McBride', 'Darrell McClover', 'Richmond McGee', 'Brandon McGowan', 'Jason McKie', 'Dennis McKinnon', 'Jim McMahon', 'Steve McMichael', 'Cade McNown', 'Bronko Nagurski', 'Anthony Oakley', 'Adewale Ogunleye', 'Greg Olsen', 'Frank Omiyale', 'Keith Ortego', 'Kyle Orton', 'Orlando Pace', 'Glenn Pakulak*', 'Jack Pardee', 'Frank Pauly', 'Kevin Payne', 'Walter \"Sweetness\" Payton', 'Eric Peterman', 'William Perry', 'Adrian N. Peterson', 'Reggie Phillips', 'Cyril J. Pontillo', 'Terrance K Porter', 'Jonathan Quinn', 'Dan Rains', 'Donovan Raiola', 'Tyler Reed', 'Mike Richardson', 'Brandon Rideau', 'Ron Rivera*', 'Nick Roach', 'Buddy Ryan', 'John St. Clair', 'Thomas Sanders', 'Gale Sayers', 'Kevin Shaffer', 'Tim Shaw', 'Mike \"Samurai\" Singeltary', 'Cole Slade', 'Samuel Slade', 'Lovie Smith*', 'Craig Steltz', 'Matt Suhey', 'John Tait', \"Will Ta'ufo'ou\", 'Ken Taylor', 'David Terrell', 'Tom Thayer', 'Cliff Thrift', 'Calvin Thomas', 'Charles Tillman', 'Pisa Tinoisamoa', 'Matt Toeaina', 'Mike Tomczak', 'Woodny Turenne', 'Bulldog Turner', 'Chester Taylor', 'Keith Traylor', 'Brian Urlacher', 'Keith Van Horne', 'Nathan Vasher', 'Bill Wade', 'Bobby Wade', 'Henry Waechter', 'Dave Wannstedt', 'Chris Williams', 'Jamar Williams', 'Otis Wilson', 'Rod Wilson', 'Garrett Wolfe', 'Donnell Woolford', 'Tim Wrightman', 'Chris Zorich'], ['Walter Abercrombie', 'Ed Adamchik', 'Bob Adams', 'Flozell Adams', 'Mike Adams', 'Mike Adams', 'Ben Agajanian', 'Dick Alban', 'Tom Alberghini', 'Art Albrecht', 'John Alderton', 'Brent Alexander', 'Chuck Allen', 'Cortez Allen', 'Duane Allen', 'Jimmy Allen', 'Lou Allen', 'Will Allen', 'Don Alley', 'John Allred', 'Lyneal Alston', 'Rudy Andabaker', 'Anthony Anderson', 'Art Anderson', 'Chet Anderson', 'Fred Anderson', 'Gary Anderson', 'Jesse Anderson', 'Larry Anderson', 'Mel Anderson', 'Ralph Anderson', 'Steve Apke', 'Dri Archer', 'Al Arndt', 'Dick Arndt', 'Brian Arnfelt', 'David Arnold', 'Jahine Arnold', 'Jay Arnold', 'Corwin \"Corrie\" Artman', 'Willie Asbury', 'Bert Askson', 'Dale Atkeson', 'Frank Atkinson', 'Steve August', 'Gene Augusterfer', 'Ocie Austin', 'Steve Avery', 'Buddy Aydelette', 'Rich Badar', 'Matt Bahr', 'Henry Bailey', 'Patrick Bailey', 'Rodney Bailey', 'Conway Baker', 'Dallas Baker', 'John Baker', 'Tim Baker', 'Lou Baldacci', 'Gary Ballman', 'Bob Balog', 'John Banaszak', 'Warren Bankston', 'Vince Banonis', 'Pete Barbolak', 'Ed Barker', 'Johnnie Barnes', 'Reggie Barnes', 'Walt Barnes', 'Tom Barnett', 'Fred Barry', 'Earl Bartlett', 'Mike Basrak', 'Dick Bassi', 'Baron Batch', 'Charlie Batch', 'Marco Battaglia', 'Arnaz Battle', 'Ainsley Battles', 'Kelvin Beachum', 'Byron Beams', 'Tom Beasley', 'Chuck Beatty', 'Ed Beatty', 'Wayland Becker', 'Mark Behning', 'Bert Bell', 'Kendrell Bell', \"Le'Veon Bell\", 'Myron Bell', 'Richard Bell', 'Theo Bell', 'George Belotti', 'Albert Bentley', 'Mitch Berger', 'Dave Bernard', 'Ed Bernet', 'Greg Best', 'Jerome Bettis', 'Tom Bettis', 'Frank Billock', 'Craig Bingham', 'John Binotto', 'Don Bishop', 'Harold Bishop', 'Charlie Bivins', 'Todd Blackledge', 'Will Blackwell', 'Antwon Blake', 'Brian Blankenship', 'Greg Blankenship', 'Rocky Bleier', 'Jeremy Bloom', 'Mel Blount', 'Fred Bohannon', 'Rocky Boiman', 'Nick Bolkovac', 'Randal Bond', 'Ernie Bonelli', 'Steve Bono', 'Ulish Booker', 'Clarence Booth', 'Kirk Botkin', 'Emil Boures', 'Tony Bova', 'R.J. Bowers', 'Bill Bowman', 'Sam Boyd', 'Jim Boyle', 'Ed Bradley', 'Charlie Bradshaw', 'Jim Bradshaw', 'Terry Bradshaw', 'Jeff Brady', 'Pat Brady', 'Jamaal Branch', 'Art Brandau', 'Jim Brandt', 'Maury Bray', 'Dave Brazil', 'Bill Breeden', 'Rod Breedlove', 'Gene Breen', 'Ed Brett', 'Pete Brewster', 'Eugene Bright', 'Bubby Brister', 'Jessie Britt', 'Ralph Britt', 'Barrett Brooks', 'Dorian Brooks', 'Al Brosky', 'Fred Broussard', 'Angelo Brovelli', 'Anthony Brown', 'Antonio Brown', 'Chad Brown', 'Chris Brown', 'Curtis Brown', 'Dante Brown', 'Dave Brown', 'Deauntae Brown', 'Dee Brown', 'Demetrius Brown', 'Ed Brown', 'Ernie Brown', 'J. B. Brown', 'Justin Brown', 'John Brown', 'Kris Brown', 'Lance Brown', 'Larry Brown', 'Levi Brown', 'Tom Brown', 'Bryant Browning', 'Henry \"Hank\" Bruder', 'Mark Bruener', 'Boyd Brumbaugh', 'Jim Brumfield', 'Dewey Brundage', 'Fred Bruney', 'John Bruno', 'Corbin Bryant', 'Fernando Bryant', 'Hubie Bryant', 'Martavis Bryant', 'Felix Bucek', 'Brentson Buckner', 'Carl Buda', 'Rudy Bukich', 'Chester \"Chet\" Bulger', 'Amos Bullocks', 'John Burleson', 'Joe Burnett', 'Len Burnett', 'Tom Burnette', 'Josh Burr', 'John Burrell', 'Plaxico Burress', 'Bill Butler', 'Crezdon Butler', 'Drew Butler', 'Jack Butler', 'Jim Butler', 'John Butler', 'Frank Bykowski', 'Larry Cabrelli', 'Bill Cahill', 'Ralph Calcagni', 'Dean Caliguire', 'Jack Call', 'Lee Calland', 'Chris Calloway', 'Tom Calvin', 'Paul Cameron', 'Bob Campbell', 'Dick Campbell', 'Don Campbell', 'Glenn Campbell', 'John Campbell', 'Leon Campbell', 'Russ Campbell', 'Scott Campbell', 'Rocco Canale', 'Wayne Capers', 'Jason Capizzi', 'Dick Capp', 'Dom Cara', 'Joe Cardwell', 'Preston Carpenter', 'Gregg Carr', 'Rodney Carter', 'Tyrone Carter', 'Chris Carter', 'Keith Cash', 'Cy Casper', 'Mark Catano', 'Drew Caylor', 'John Cenci', 'Garth Chamberlain', 'Lynn Chandnois', 'Justin Cheadle', 'Ernie Cheatham', 'Edgar Cherry', 'Chuck Cherundolo', 'Dick Christy', 'Joe Cibulas', 'Ben Ciccone', 'Gene Cichowski', 'Gus Cifelli', 'Bob Cifers', 'Jim Clack', 'Kendrick Clancy', 'Gail Clark', 'James Clark', 'Mike Clark', 'Reggie Clark', 'Ryan Clark', 'Spark Clark', 'John Clay', 'Harvey Clayton', 'Henry Clement', 'Johnny Clement', 'Kyle Clement', 'Jackie Cline', 'Tony Cline', 'Joey Clinkscales', 'Marvin Cobb', 'Zamir Cobb', 'Patrick Cobbs', 'Nakia Codie', 'Ricardo Colclough', 'Reggie Coldagelli', 'Robin Cole', 'Terry Cole', 'Andre Coleman', 'LaMonte Coleman', 'Max Coley', 'Mike Collier', 'Reggie Collier', 'Jack Collins', 'Willie Colon', 'Craig Colquitt', 'Chris Combs', 'Tony Compagno', 'Dick Compton', 'Merlyn Condit', 'Steve Conley', 'Dick Conn', 'Mike Connelly', 'Rameel Connor', 'Chris Conrad', 'Enio Conti', 'Joe Coomer', 'Adrian Cooper', 'Marquis Cooper', 'Sam Cooper', 'Lou Cordileone', 'Anthony Corley', 'Bob Coronado', 'Thomas Cosgrove', 'Jerricho Cotchery', 'Russell Cotton', 'Steve Courson', 'Brad Cousino', 'Russ Craft', 'Bill Cregar', 'Carl Crennel', 'Larry Critchfield', 'Winfield Croft', \"Da'Mon Cromartie-Smith\", 'Marshall Cropper', 'Joe Cugliari', 'Bennie Cunningham', 'Ron Curl', 'Don Currivan', 'Roy Curry', 'Matt Cushing', 'Randy Cuthbert', 'Bernard Dafney', 'Anthony Daigle', 'Ted Dailey', 'Ken Dallafior', 'Willie Daniel', 'Charles Davenport', 'Najeh Davenport', 'Bill Davidson', 'Kenny Davidson', 'Art Davis', 'Bruce Davis', 'Carey Davis', 'Charlie Davis', 'Dave Davis', 'Hall Davis', 'Henry Davis', 'Lorenzo Davis', 'Paul Davis', 'Robert Davis', 'Russell Davis', 'Sam Davis', 'Steve Davis', 'Travis Davis', 'Tommy Dawkins', 'Dermontti Dawson', 'Len Dawson', 'Nick DeCarbo', 'Art DeCarlo', 'David DeCastro', 'Jonathan Dekker', 'Harry Deligianis', 'Jack Deloplaine', 'DeLuca', 'George Demko', 'John Dempsey', 'Carmine DePascal', 'Henry DePaul', 'Dick Deranek', 'Dean Derby', 'Darrell Dess', 'Buddy Dial', 'Charlie Dickey', 'Richard Dickinson', 'Chuck Dicus', 'Mark Didio', 'Luby DiMeolo', 'Dean Dingman', 'Johnnie Dirden', 'Dennis Dixon', 'George Dobash', 'John Dockery', 'Dale Dodrill', 'Les Dodson', 'John Doehring', 'Chris Doering', 'Cliff Dolaway', 'Richard \"Dick\" Dolly', 'Allen \"Al\" Donelli', 'Rick Donnalley', 'Thom Dornbrook', 'Forrest Douds', 'Bob Dougherty', 'Bob Douglas', 'Larry Douglas', 'Dick Doyle', 'Theo Doyle', 'Al Drulis', 'Rick Druschel', 'Bill Dudley', 'Vontez Duff', 'Roger Duffy', 'Len Dugan', 'Gilford \"Cliff\" Duggan', 'Paul Duhart', 'Chuckie Dukes', 'Craig Dunaway', 'Karl Dunbar', 'Maurice Duncan', 'Tony Dungy', 'David Dunn', 'Gary Dunn', 'Bill Dutton', 'Jonathan Dwyer', 'Nick Eason', 'Vic Eaton', 'Terry Echols', 'Shayne Edge', 'Dave Edwards', 'Glen Edwards', 'Troy Edwards', 'Donnie Elder', 'Larry Elkins', 'Jim Elliott', 'Marv Ellstrom', 'Leo Elter', 'Nik Embernate', 'Carlos Emmons', 'Paul Engebretsen', 'Rick Engles', 'Rich Erenberg', 'Paul Ernster', 'Trai Essex', 'Tim Euhus', 'Donald Evans', 'Jon Evans', 'Ray Evans', 'Walt Evans', 'Thomas Everett', 'Ron Fair', 'Alan Faneca', 'Hebron Fangupo', 'John Farquhar', 'Venice Farrar', 'Ed Farrell', 'James Farrior', 'Kris Farris', \"Ta'ase Faumui\", 'Steve Fedell', 'Nick Feher', 'Bob Ferguson', 'Jim Ferranti', 'Lou Ferry', 'John Fiala', 'Ralph Fife', 'Deon Figures', 'Dan Fike', 'Francis Filchock', 'Jim Files', 'Jim Finks', 'Mike Finn', 'Doug Fisher', 'Everett Fisher', 'Ray Fisher', 'Max Fiske', 'Dick Flanagan', 'Tom Fletcher', 'Lethon Flowers', 'Fred Foggie', 'Lee Folkins', 'Vernon Foltz', 'Larry Foote', 'Darryl Ford', 'Henry Ford', 'Moses Ford', 'Todd Fordham', 'John Foruria', 'Barry Foster', 'Jayson Foster', 'Ramon Foster', 'Sid Fournet', 'Keyaron Fox', 'Sam Francis', 'Joe Frank', 'Andre Frazier', 'Lorenzo Freeman', 'Ernest French', 'Len Frketich', 'Chris Fuamatu-Maafala', 'Dick Fugler', 'Randy Fuller', 'Ed Fullerton', 'John \"Frenchy\" Fuqua', 'Steve Furness', 'Bob Gaddis', 'Bobby Gage', 'Larry Gagner', 'Wentford Gaines', 'Joey Galloway', 'Kendall Gammon', 'Wayne Gandy', 'Bob Gaona', 'Chris Gardocki', 'Bill Garnaas', 'Reggie Garrett', 'Gregg Garrity', 'Terence Garvin', 'Keith Gary', 'Joe Gasparella', 'Charlie Gauer', 'Jason Gavadza', 'William Gay', 'Cory Geason', 'Byron Gentry', 'Chris George', 'Matt George', 'Roy Gerela', 'Joe Geri', 'Oliver Gibson', 'Thaddeus Gibson', 'Marcus Gilbert', 'John Gildea', 'Jason Gildon', 'Scoop Gillespie', 'Joe Gilliam', 'Harry Gilmer', 'David Gilreath', 'Earl Girard', 'Joe Glamp', 'Glenn Glass', 'Fred Glatz', 'Gary Glick', 'Junior Glymph', 'Clark Goff', 'Robert Golden', 'George Gonda', 'Pete Gonzalez', 'John Goodman', 'John Goodson', 'Joey Goodspeed', 'Walt Gorinski', 'Preston Gothard', 'Mace Gouldsby', 'Cornell Gowdy', 'Theo Grabinski', 'Bruce Gradkowski', 'Neil Graff', 'Jeff Graham', 'Kenny Graham', 'Kent Graham', 'Russell Graham', 'Gordon Gravelle', 'Ray Graves', 'Tom Graves', 'Sam Gray', 'Bobby Joe Green', 'Eric Green', 'Johnny Green', 'Isaiah Green', 'Joe Greene', 'Kevin Greene', 'Tracey Greene', 'Norm Greeney', 'L. C. Greenwood', 'Larry Griffin', 'John Grigas', 'Tyler Grisham', 'Earl Gros', 'Randy Grossman', 'Bob Gunderman', 'Riley Gunnels', 'John Guy', 'Walt Hackett', 'Elmer Hackney', 'Clark Haggans', 'Mike Haggerty', 'Byron Haines', 'Russell Hairston', 'Dick Haley', 'Delton Hall', 'Ronnie Hall', 'Alan Haller', 'Jack Ham', 'Casey Hampton', 'Phil Handler', 'Bob Hanlon', 'Craig Hanneman', 'Terry Hanratty', 'Tom Hanson', 'Harbes', 'Lem Harkey', 'Matt Harper', 'Maurice Harper', 'Billy Harris', 'Franco Harris', 'Lou Harris', 'Orien Harris', 'Ra\\'Shon \"Sonny\" Harris', 'Tim Harris', 'Chester David \"Tuff\" Harris', 'Arnold Harrison', 'Bob Harrison', 'James Harrison', 'Nolan Harrison', 'Reggie Harrison', 'Jeff Hartings', 'Howard Hartley', 'Tom Hartnett', 'Justin Hartwig', 'Carlton Haselrig', 'Jim Haslett', 'Andre Hastings', 'Courtney Hawkins', 'Greg Hawthorne', 'Henry Hayduk', 'Jonathan Hayes', 'Rudy Hayes', 'Verron Haynes', 'George Hays', 'Ken Hebert', 'Ernie Hefferle', 'Bill Hegarty', 'Don Heinrich', 'Paul Held', 'Warren Heller', 'Jon Henderson', 'Dick Hendley', 'Kevin Henry', 'Mike Henry', 'Urban Henry', 'Dick Hensley', 'Ken Henson', 'Anthony Henton', 'Donald Herron', 'Noah Herron', 'Bill Hewitt', 'Cameron Heyward', 'Howard Hickey', 'Derek Hill', 'Harlon Hill', 'Jimmy Hill', 'Jerry Hillebrand', 'Tony Hills', 'John Hilton', 'Glen Ray Hines', 'Bryan Hinkle', 'Jack Hinkle', 'Mike Hinnant', 'Hal Hinte', 'Chuck Hinton', 'Claude Hipps', 'Joe Hoague', 'Dick Hoak', 'Pat Hodgson', 'Bob Hoel', 'Dave Hoffmann', 'Darrell Hogan', 'Merril Hoge', 'Bob Hohn', 'Chris Hoke', 'Bill Holcomb', 'Ed Holler', 'Corey Holliday', 'Joe Hollingsworth', 'Bernard \"Tony\" Holm', 'Walt Holmer', 'Earl Holmes', 'Ernie Holmes', 'Melvin Holmes', 'Santonio Holmes', 'Evander \"Ziggy\" Hood', 'Frank Hood', 'Allen Hooker', 'Dwayne Hooper', 'Chris Hope', 'Bill Hornick', 'Garry Howe', 'Glen Howe', 'Cal Hubbard', 'Chris Hubbard', 'Gene Hubka', 'Alan Huff', 'Chris Hughes', 'Connor Hughes', 'David Hughes', 'Dennis Hughes', 'Dick Hughes', 'George Hughes', 'Jed Hughes', 'Jay Hull', 'Cedric Humes', 'Mike Humpal', 'Al Humphrey', 'Art Hunter', 'Hal Hunter', 'Richard Huntley', 'Bill Hurley', 'Tunch Ilkin', 'John Itzel', 'Corey Ivy', 'Frank Ivy', 'Khori Ivy', 'Mortty Ivy', 'Chidi Iwuoma', 'George Izo', 'Alonzo Jackson', 'Earnest Jackson', 'John Jackson', 'Kenny Jackson', 'Lenzie Jackson', 'Cam Jacobs', 'Omar Jacobs', 'Dan James', 'Clarence Janecek', 'Val Jansante', 'Toimi Jarvi', 'Ralph Jecha', 'Roy Jefferson', 'Tom Jelley', 'A. J. Jenkins', 'John Jenkins', 'Erik Jensen', 'Tony Jeter', 'Johnson', 'Bill Johnson', 'Brandon Johnson', 'Charles Johnson', 'D. J. Johnson', 'David Johnson', 'Jason Johnson', 'John Henry Johnson', 'Jovon Johnson', 'Malcolm Johnson', 'Norm Johnson', 'Ron Johnson', 'Tim Johnson', 'Troy Johnson', 'Will Johnson', 'Chester \"Swede\" Johnston', 'Rex Johnston', 'Aaron Jones', 'Art Jones', 'Bruce Jones', 'Donta Jones', 'Felix Jones', 'Gary Jones', 'George Jones', 'Jarvis Jones', 'Mike Jones', 'Victor Jones', 'Darin Jordan', 'Tim Jorden', 'Terrance Joseph', 'Royal Kahler', 'George Kakasic', 'Dave Kalina', 'Todd Kalis', 'John Kapele', 'Jeremy Kapinos', 'John Karcis', 'Ed Karpowich', 'Ted Karras', 'George Kavel', 'Tom Keane', 'Tom Keating', 'Brett Keisel', 'Craig Keith', 'Marv Kellum', 'Jim Kelly', 'Chad Kelsay', 'Mose Kelsch', 'Chris Kemoeatu', 'Jack Kemp', 'Ray Kemp', 'George Kennard', 'John Kennerson', 'Gary Kerkorian', 'Brady Keys', 'Walter Kichefski', 'Max Kielbasa', 'Walt Kiesling', 'George Kiick', 'Pat Killorin', 'Frank Kilroy', 'Frank Kimble', 'Carlos King', 'Justin King', 'Phil King', 'Mark Kirchner', 'Ken Kirk', 'Levon Kirkland', 'Travis Kirschke', 'Ben Kish', 'Ed Kissell', 'Earl Klapstein', 'Dick Klein', 'Jack Klotz', 'John Klumb', 'Daryl Knox', 'Bob Kohrs', 'Jon Kolb', 'Elmer Kolberg', 'Chris Kolodziejski', 'John Kondrla', 'Ken Kortas', 'Jules Koshlap', 'Rich Kotite', 'Martin Kottler', 'Matt Kranchick', 'Dan Kreider', 'Joe Kresky', 'Clint Kriewaldt', 'Bill Krisher', 'Mike Kruczek', 'Joe Krupa', 'Larry Krutko', 'John Kuhn', 'Justin Kurpeikis', 'Roy Kurrasch', 'Zvonimir Kvaternik', 'Steve Lach', 'Dave LaCrosse', 'Bo Lacy', 'Pete Ladygo', 'Bill Lajousky', 'Carnell Lake', 'Joe Lamas', 'Frank Lambert', 'Jack Lambert', 'Lowell Lander', 'Mose Lantz', 'Chuck Lanza', 'Dan LaRose', 'Lou Lassahn', 'Dick Lasse', 'Johnny Lattner', 'Ted Laux', 'Hubbard Law', 'Ben Lawrence', 'Bobby Layne', 'Paul Lea', 'Bob Leahy', 'Gerald Leahy', 'Bernard Lee', 'Danzell Lee', 'Greg Lee', 'Herman Lee', 'John Lee', 'Dick Leftridge', 'Byron Leftwich', 'Doug Legursky', 'Ray Lemek', 'Matt Lentz', 'Jim Leonard', 'Tim Lester', 'John Letsinger', 'Lou Levanti', 'Jim Levey', 'Darcy Levy', 'Art Lewis', 'Frank Lewis', 'Joe Lewis', 'Keenan Lewis', 'Roy Lewis', 'Tim Lewis', 'Dave Liddick', 'Mike Lind', 'Louis Lipps', 'Gene Lipscomb', 'David Little', 'Carl Littlefield', 'Greg Lloyd', 'Steve Loch', 'Charles Lockett', 'Chuck Logan', 'Mike Logan', 'Stefan Logan', 'Bill Long', 'Jim Long', 'Joe Long', 'Terry Long', 'Ken Longenecker', 'Don Looney', 'Andre Lott', 'John Lott', 'Kamil Loud', 'Love', 'Duval Love', 'Reggie Lowe', 'Jack Lowther', 'Dick Lucas', 'Jeff Lucas', 'John Lucente', 'Alex Lukachick', 'Bob Luna', 'Booth Lusteg', 'Mitch Lyons', 'Bill Mack', 'Rico Mack', 'Bill Mackrides', 'Tommy Maddox', 'Anthony Madison', 'L.E. Madison', 'Mike Magac', 'George Magulick', 'Sean Mahan', 'Frank Maher', 'John Malecki', 'Joe Malkovich', 'Fran Mallick', 'Mark Malone', 'Jim Mandich', 'Ray Mansfield', 'Edgar Manske', 'Rod Manuel', 'Bobby Maples', 'Joseph Maras', 'Basilio Marchi', 'Ted Marchibroda', 'Jerry Marion', 'Henry Marker', 'Jeff Markland', 'Lou Marotti', 'Curtis Marsh', 'Marshie', 'Paul Martha', 'Emerson Martin', 'Johnny Martin', 'Ricky Martin', 'Tee Martin', 'Vernon Martin', 'Grant Mason', 'Bob Masters', 'Walt Masters', 'John Mastrangelo', 'Ed Matesic', 'Joe Matesic', 'Ray Mathews', 'Terance Mathis', 'Frank Mattioli', 'Marv Matuszak', 'Alvin Maxson', 'Ray May', 'Hayden Mayhew', 'Alvoid Mays', 'Damon Mays', 'Lee Mays', 'Jerry Mazzanti', 'Fred McAfee', 'Ryan McBean', 'Richie McCabe', 'Art McCaffray', 'Brice McCain', 'Don McCall', 'David McCann', 'John McCarthy', 'Jack McClairen', 'Willie McClung', 'Glenn McCombs', 'Dewey McConnell', 'Jamie McCoy', 'Antwon McCray', 'Daniel McCullers', 'Hugh McCullough', 'Karl McDade', 'Edward McDonald', 'Shaun McDonald', 'Coley McDonough', 'Paul McDonough', 'Kenny McEntyre', 'Bryant McFadden', 'Marv McFadden', 'Ben McGee', 'Rob McGovern', 'Thurman McGraw', 'Tyrone McGriff', 'Sean McHugh', 'Tim McKyer', 'Leon McLaughlin', 'Steve McLendon', 'John McMakin', 'Johnny \"Blood\" McNally', 'Ed McNamara', 'Bill McPeak', 'Tom McWilliams', 'Ed Meadows', 'Bryant Meeks', 'Charles Mehelich', 'Steve Meilinger', 'Rashard Mendenhall', 'Jamon Meredith', 'Albert \"Elmer\" Merkovsky', 'Mike Merriweather', 'Max Messner', 'Dennis Meyer', 'Fred Meyer', 'John Meyer', 'Ron Meyer', 'Bill Meyers', 'Bill Michael', 'Ed Michaels', 'Lou Michaels', 'Art Michalik', 'John Michelosen', 'Kelvin Middleton', 'Lou Midler', 'Barron Miles', 'Eddie Miles', 'Heath Miller', 'Jim Miller', 'Josh Miller', 'Mike Miller', 'Tom Miller', 'Ernie Mills', 'Freddie Milons', 'Henry Minarik', 'Tom Miner', 'Gene Mingo', 'Frank Minini', 'Michael Minter', 'Arthur Moats', 'Dick Modzelewski', 'Ed Modzelewski', 'Dicky Moegle', 'Tony Momsen', 'Bucky Moore', 'Lance Moore', 'Mewelde Moore', 'Red Moore', 'Gonzalo Morales', 'Sean Morey', 'Bob Morgan', 'Quincy Morgan', 'Tom Moriarty', 'Earl Morrall', 'Byron Morris', 'Jack Morris', 'Steve Morse', 'Rick Moser', 'Clure Mosher', 'Norm Mosley', 'Paul Moss', 'Marion Motley', 'Norm Mott', 'Derek Moye', 'Sam Mudie', 'Mike Mularkey', 'Lee Mulleneaux', 'Gerry Mullins', 'Ryan Mundy', 'Dick Murley', 'George Murphy', 'Earl Murray', 'Tom Myslinski', 'Gern Nagler', 'John Naioti', 'Martin Nance', 'Dick Nardi', 'Greasy Neale', 'Bill Nelsen', 'Darrell Nelson', 'Edmund Nelson', 'Carl Nery', 'Tom Newberry', 'Harry Newsome', 'Armand Niccolai', 'Allen Nichols', 'Bob Nichols', 'Elbie Nickel', 'Hardy Nickerson', 'George Nicksich Jr', 'George Nicksich Sr', 'John Nisby', 'Kent Nix', 'Mike Nixon', 'Mathias Nkwenti', 'Jeffrey Noble', 'Leo Nobile', 'Terry Nofsinger', 'Dan Nolan', 'John Noppenberg', 'Mark Nori', 'John Nosich', 'Shaun Nua', 'Buzz Nutter', 'Jerry Nuzum', \"Fran O'Brien\", \"Jack O'Brien\", 'Mel Odelli', 'Henry Odom', \"Pat O'Donahue\", \"Neil O'Donnell\", 'John Oehler', 'John Oelerich', 'A.J. Ofodile', 'Chukky Okobi', 'Chris Oldham', 'Ray Oldham', \"Dan O'Leary\", 'Stan Olejniczak', 'Oliver', 'Clarence Oliver', 'Jerry Olsavsky', 'Al Olszewski', \"Joe O'Malley\", \"Bob O'Neil\", 'Dennis Onkotz', 'David Opfar', 'Tony Orlandini', 'Bo Orlando', 'Ken Ormiston', 'Jimmy Orr', 'Chuck Ortmann', \"Terry O'Shea\", 'Paul Oswald', 'Darrick Owens', 'Lonnie Palelei', 'Tyler Palko', 'Jonathan Palmer', 'Michael Palmer', 'Tom Palmer', 'George Papach', 'Babe Parilli', 'Frank Parker', 'Willie Parker', 'Jeremy Parquet', 'James Parrish', 'Gordon Paschka', 'Frank Pastin', 'Frank Patrick[disambiguation needed]', 'John Patrick', 'Billy Patterson', 'Stan Pavkov', 'Scott Paxson', 'Clarence Peaks', 'Morgan Pears', 'Barry Pearson', 'Preston Pearson', 'Erric Pegram', 'Leon Pense', 'John Perko', 'George Perles', 'Pete Perreault', 'Darren Perry', 'Lowell Perry', 'John Petchel', 'Ted Petersen', 'Todd Peterson', 'John Petrella', 'Ken Phares', 'Marvin Philip', 'Joe Pierre', 'Roger Pillath', 'Ed Pine', 'Ray Pinney', 'Rocco Pirro', 'Mel Pittman', 'Dick Plasman', 'George Platukis', 'Mark Plevelich', 'Kirk Pointer', 'Frank Pokorny', 'Troy Polamalu', 'Frank Pollard', 'John Popovich', 'Joey Porter', 'Al Postus', 'Hank Poteat', 'Myron Pottios', 'Bill Potts', 'Mike Potts', 'Ernie Pough', 'Maurkice Pouncey', 'Shar Pourdanesh', 'Ryan Powdrell', 'Tim Powell', 'John Powers', 'Bill Priatko', 'Jimond Pugh', 'Rollin Putzier', 'Jesse Quatse', 'Jerry Quick', 'Jeff Quinn', 'Mike Quinn', 'Carroll Raborn', 'Alex Rado', 'George Rado', 'Vince Ragunas', 'Matt Raich', 'Pete Rajkovich', 'Buster Ramsey', 'Antwaan Randle El', 'Walt Rankin', 'Walter Rasby', 'Leo Raskowski', 'Randy Rasmussen', 'Eric Ravotti', 'Israel Raybon', 'Dave Reavis', 'Bert Rechichar', 'Redding', 'Isaac Redman', 'Jeff Reed', 'Dan Reeder', 'Cad Reese', 'Jerry Reese', 'Jordan Reffet', 'John Reger', 'Willie Reid', 'Will Renfro', 'Joe Repko', 'Jared Retkofsky', 'Randy Reutershan', 'Ray Reutt', 'Billy Reynolds', 'Jim Reynolds', 'Reznichak', 'Don Rhodes', 'Loran \"Dave\" Ribble', 'Perry Richards', 'Huey Richardson', 'Terry Richardson', 'Rodney Richmond', 'Tom Ricketts', 'Bill Riehl', 'Jay Riemersma', 'John Rienstra', 'Dick Riffle', 'Avon Riley', 'Cameron Riley', 'Gabriel Rivera', 'Jack Roberts', 'Bill Robinson', 'Ed Robinson', 'Gil Robinson', 'Jack Robinson', 'Willy Robinson', 'Marshall Robnett', 'Mike Rodak', 'Mark Rodenhauser', 'John Rodgers', 'Ben Roethlisberger', 'Fran Rogel', 'Cullen Rogers', 'Rondour', 'Gene Ronzani', 'Harvey Rooker', 'J.P. Rooney', 'Andres Roosna', 'Dedrick Roper', 'Jim Rorison', 'Oliver Ross', 'Allen Rossum', 'Pete Rostosky', 'Tom Rouen', 'Bob Rowley', 'John Rowser', 'Mark Royals', 'Orpheus Roye', 'Aubrey Rozzell', 'Eddie Rucinski', 'Grey Ruegamer', 'Guy Ruff', 'Ernie Ruple', 'Andy Russell', 'Gary Russell', 'Rod Rust', 'Rod Rutherford', 'Ed Ryan', 'Steve Sader', 'Troy Sadowski', 'Paul Salata', 'Chris Samp', 'John Sample', 'Don Samuel', 'Carl Samuelson', 'Kuan Sanchez', 'Lupe Sanchez', 'Sigurd Sandberg', 'Emmanuel Sanders', 'Wayne Sandefur', 'Chuck Sanders', 'John \"Jack\" Sanders', 'Watts Sanderson', 'Curtis Sandig', 'Mike Sandusky', 'Theron Sapp', 'Bill Saul', 'Sylvan Saumer', 'Weslye Saunders', 'Charley Scales', 'Shawn Scales', 'Jack Scarbath', 'Bernard Scherer', 'John Schiechl', 'John Schmidt', 'Ricky Schmitt', 'Bob Schmitz', 'Mike Schneck', 'Bob Schnelker', 'Karl Schuelke', 'Eberle Schultz', 'Elmer Schwartz', 'John Schweder', 'Glenn Scolnik', 'Chad Scott', 'Chris Scott', 'Jonathan Scott', 'Patrick Scott', 'Wilbert Scott', 'Joe Scudero', 'Todd Seabaugh', 'Charley Seabright', 'Ray Seals', 'Leon Searcy', 'Vic Sears', 'Mike Sebastian', 'Richard Seigler', 'Warren Seitz', 'Bernie Semes', 'Daniel Sepulveda', 'Brent Sexton', 'George Shaffer', 'Ron Shanklin', 'Rick Sharp', 'Bobby Shaw', 'Ryan Shazier', 'Chris Sheffield', 'Donnie Shell', 'Richard Shelton', 'Charlie Shepard', 'Leslie Shepherd', 'Stan Sheriff', 'Alex \"Allie\" Sherman', 'Bob Sherman', 'Ray Sherman', 'Dezmond Sherrod', 'Burrell Shields', 'Scott Shields', 'Dick Shiner', 'Jerry Shipkey', 'A.Q. Shipley', 'Bill Shockley', 'Jim Shorter', 'Bret Shugarts', 'Hubert Shurtz', 'Don Shy', 'John Simerson', 'Tracy Simien', 'Milt Simington', 'Jason Simmons', 'Jerry Simmons', 'Kendall Simmons', 'Bob Simms', 'Jackie Simpson', 'Tim Simpson', 'Willie Simpson', 'Darryl Sims', 'Frank Sinkovitz', 'George Sirochman', 'Vince Sites', 'Paul Skansi', 'Joe Skladany', 'Nick Skorich', 'Ed Skoronski', 'Walt Slater', 'Stan Smagala', 'Alex Smail', 'Fred Small', 'Joe Smaltz', 'Aaron Smith', 'Anthony Smith', 'Ben Smith', 'Billy Ray Smith, Sr.', 'Bobby Smith', 'Dave Smith', 'Hal Smith', 'Jeff Smith', 'Jim Smith', 'Kevin Smith', 'Laverne Smith', 'Marvel Smith', 'Ron Smith', 'Steve Smith', 'Stu Smith', 'Truett Smith', 'Ray Snell', 'Bill Snyder', 'Bob Snyder', 'John Sodaski', 'Bob Soleau', 'Ariel Solomon', 'George Somers', 'Ross Sorce', 'Jamil Soriano', 'Wilbur \"Bill\" Sortet', 'Frank Souchak', 'Souffley', 'Matt Spaeth', 'Chad Spann', 'Todd Spencer', 'John Spezzaferro', 'Jack Spinks', 'Francis St. Paul', 'Brian St. Pierre', 'Jeremy Staat', 'Jon Staggers', 'Brenden StaI', 'Duce Staley', 'John Stallworth', 'Ronald Stanley', 'Jack Stanton', 'Darnell Stapleton', 'Pat Stark', 'Rohn Stark', 'Max Starks', 'Ben Starret', 'Larry Station', 'Ernie Stautner', 'Joel Steed', 'Ernest Steele', 'Ron Stehouwer', 'Brian Stenger', 'Paul Stenn', 'Jamain Stephens', 'Kent Stephenson', 'Dean Steward', 'George Stewart', 'Kordell Stewart', 'Ken Stilley', 'John Stock', 'Mark Stock', 'Ed Stofko', 'Dwight Stone', 'Matt Storm', 'Cliff Stoudt', 'Glen Stough', 'Tyronne Stowe', 'Eli Strand', 'Rick Strom', 'Walter Strosser', 'George Strugar', 'Art Strutt', 'Dan Stryzinski', 'Justin Strzelczyk', 'Nick Studen', 'Russell Stuvaints', 'Steve Suhey', 'Shaun Suisham', 'George Sulima', 'Chris Sullivan', 'Frank Sullivan', 'Robert Sullivan', 'Frank Summers', 'Charley Sumner', 'Sal Sunseri', 'Don Sutherin', 'Mike Sutton', 'Ricky Sutton', 'John Swain', 'Lynn Swann', 'Limas Sweed', 'Calvin Sweeney', 'Jim Sweeney', 'Willie Sydnor', 'Stevenson Sylvester', 'Walt Szot', 'Bill Tanguay', 'Maa Tanuvasa', 'George Tarasovic', 'Jess Tatum', 'Eric Taylor', 'Hugh Taylor', 'Ike Taylor', 'Jim Taylor', 'Lionel Taylor', 'Mike Taylor', 'Lou Tepe', 'Nat Terry', 'Ray Tesser', 'Larry Tharpe', 'Ryan Thelwell', 'Yancey Thigpen', 'Ben Thomas', 'Cam Thomas', 'Clendon Thomas', 'J. T. Thomas', 'Mark Thomas', 'Shamarko Thomas', 'Tuffy Thompson', 'Donnel Thompson', 'Leroy Thompson', 'Tommy Thompson', 'Weegie Thompson', 'Sidney Thornton', 'Bob Thurbon', 'Andrae Thurman', 'Morgan Tiller', 'Lawrence Timmons', 'Sid Tinsley', 'George Titus', 'Silas J. Titus', 'Loren Toews', 'Charley Tolar', 'Lou Tomasetti', 'Andy Tomasic', 'Mike Tomczak', 'Dick Tomlinson', 'Clarence Tommerson', 'LaVern Torgeson', 'Brandon Torrey', 'John Tosi', 'Erik Totten', 'Deshea Townsend', 'Tom Tracy', 'David Trout', 'Lou Tsoutsouvas', 'B.J. Tucker', 'Erroll Tucker', 'Anthony Tuggle', 'Stephon Tuitt', 'Jerame Tuman', 'Dan Turk', 'John Turley', 'Trevis Turner', 'Rich Tylski', 'Joe Tyrrell', 'Tim Tyrrell', 'David Upchurch', 'Paul Uram', 'Kraig Urbik', 'Valenti', 'Zack Valentine', 'Bob Valesente', 'Bruce Van Dyke', 'Lenny Vandermade', 'Frank Varrichione', 'Harp Vaughan', 'Elton Veals', 'Craig Veasey', 'Ross Ventrone', 'Vic Vidoni', 'Justin Vincent', 'Keydrick Vincent', 'Shawn Vincent', 'Stahle Vincent', 'Kimo von Oelhoffen', 'Lloyd Voss', 'Mike Vrabel', 'Bob Wade', 'Tommy Wade', 'Clint Wager', 'Mike Wagner', 'Bobby Walden', 'Gerran Walker', 'Richard Walker', 'Sammy Walker', 'J. T. Wall', 'Cody Wallace', 'Mike Wallace', 'Ray Wallace', 'Rian Wallace', 'Will Walls', 'Bill Walsh', 'Frank Walton', 'Joe Walton', 'Ted Walton', 'Hines Ward', 'Buist \"Buss\" Warren', 'Greg Warren', 'Xavier Warren', 'Anthony Washington', 'Clarence Washington', 'Dewayne Washington', 'Nate Washington', 'Robert Washington', 'Sam Washington', 'Tom Watkins', 'Allan Watson', 'Sid Watson', 'B. W. Webb', 'Elnardo Webster', 'George Webster', 'Mike Webster', 'Thurlow Weed', 'Henry Weinberg', 'Izzy Weinstock', 'Henry \"Heinie\" Weisenbaugh', 'Billy Wells', 'Joe Wendlick', 'Ralph Wenzel', 'Ralph Wenzel', 'Isaac West', 'Ed Westfall', 'Damon Wetzel', 'Markus Wheaton', 'Ernie Wheeler', 'Tommy Whelan', 'Mark Whipple', 'Byron White', 'Dwight White', 'Paul White', 'Hans Wiederkehr', 'Joe Wiehl', 'Paul Wiggins', 'J.R. Wilburn', 'Solomon Wilcots', 'Jack Wiley', 'Eric Wilkerson', 'Albert Williams', 'Brandon Williams', 'Dave Williams', 'Don Williams', 'Eric Williams', 'Erwin Williams', 'Gerald Williams', 'Jerrol Williams', 'Joe Williams', 'Joe J. Williams', 'John L. Williams', 'Payton Williams', 'Ray Williams', 'Renauld Williams', 'Robert Williams', 'Sidney Williams', 'Vince Williams', 'Warren Williams', 'Willie Williams', 'Fred Williamson', 'Keith Willis', 'Billy Wilson', 'Cedrick Wilson', 'Frank Wilson', 'Gordon Wilson', 'Kion Wilson', 'Chuck Winfrey', 'Brad Wing', 'Blake Wingle', 'Dennis Winston', 'Al Wistert', 'Mike Withycombe', 'Jon Witman', 'Jim Wolf', 'Craig Wolfley', 'Will Wolford', 'Joe Womack', 'Ken Woodard', 'David Woodley', 'LaMarr Woodley', 'Dwayne Woodruff', 'Al Woods', 'Donovan Woods', 'Rick Woods', 'Marv Woodson', 'Rod Woodson', 'Donnell Woolford', 'Jason Worilds', 'Tim Worley', 'John \"Dutch\" Woudenberg', 'Lud Wray', 'Lowe Wren', 'Anthony Wright', 'Destry Wright', 'Al Wukits', 'Frank Wydo', 'Al Young', 'Albert Young', 'Dick Young', 'Theo Young', 'Walter Young', 'Paul Younger', 'John Yurchey', 'Stan Zajdel', 'Silvio Zaninelli', 'Zeher', 'Amos Zereoue', 'Jeff Zgonina', 'Leroy Zimmerman', 'Joe Zombek', 'Frank Zoppetti']])"
      ]
     },
     "execution_count": 7,
     "metadata": {},
     "output_type": "execute_result"
    }
   ],
   "source": [
    "teams.keys()\n",
    "teams.values()"
   ]
  },
  {
   "cell_type": "code",
   "execution_count": 6,
   "metadata": {},
   "outputs": [
    {
     "data": {
      "text/plain": [
       "list"
      ]
     },
     "execution_count": 6,
     "metadata": {},
     "output_type": "execute_result"
    }
   ],
   "source": [
    "type(teams['steelers'])"
   ]
  },
  {
   "cell_type": "markdown",
   "metadata": {},
   "source": [
    "### Let's look at the list of Steelers players"
   ]
  },
  {
   "cell_type": "markdown",
   "metadata": {},
   "source": [
    "### Size of a collection\n",
    "\n",
    "Every Python collection has a size (length) associated with it. This is a measure of how many objects are in the collection. This is accessed through the **``len()``** function. (Remember our definition of a function: it takes something in (in this case a collection) and returns something (in this case the length of the collection)."
   ]
  },
  {
   "cell_type": "code",
   "execution_count": 8,
   "metadata": {},
   "outputs": [
    {
     "name": "stdout",
     "output_type": "stream",
     "text": [
      "3\n",
      "1668\n"
     ]
    }
   ],
   "source": [
    "print(len(teams))\n",
    "print(len(teams['steelers']))"
   ]
  },
  {
   "cell_type": "markdown",
   "metadata": {},
   "source": [
    "### We can create a **set** from the **list** of Steelers players\n",
    "\n",
    "#### Python has a ``set()`` function that takes another type of collection (e.g. a list) and creates a set"
   ]
  },
  {
   "cell_type": "code",
   "execution_count": 18,
   "metadata": {},
   "outputs": [
    {
     "data": {
      "text/plain": [
       "1666"
      ]
     },
     "execution_count": 18,
     "metadata": {},
     "output_type": "execute_result"
    }
   ],
   "source": [
    "steelers_set = set(teams['steelers'])\n",
    "len(steelers_set)"
   ]
  },
  {
   "cell_type": "markdown",
   "metadata": {},
   "source": [
    "### Why are the sizes (lengths) of the two sets different?\n",
    "\n",
    "* Lists do not have to have unique elements, but sets do (definition of a set). There are two names that two sets of players shared.\n",
    "\n",
    "#### Python Aside finding the duplicate players\n",
    "\n",
    "We're focusing on Python [**sets**](https://docs.python.org/3.4/tutorial/datastructures.html#sets), but here is a way to find the names using a Python [**Counter**](https://docs.python.org/3/library/collections.html#collections.Counter). Quite simply, Counters count things. They can then return the most commonly occuring items that they counted."
   ]
  },
  {
   "cell_type": "code",
   "execution_count": 9,
   "metadata": {},
   "outputs": [
    {
     "data": {
      "text/plain": [
       "[('Mike Adams', 2),\n",
       " ('Ralph Wenzel', 2),\n",
       " ('Walter Abercrombie', 1),\n",
       " ('Ed Adamchik', 1),\n",
       " ('Bob Adams', 1),\n",
       " ('Flozell Adams', 1),\n",
       " ('Ben Agajanian', 1),\n",
       " ('Dick Alban', 1),\n",
       " ('Tom Alberghini', 1),\n",
       " ('Art Albrecht', 1)]"
      ]
     },
     "execution_count": 9,
     "metadata": {},
     "output_type": "execute_result"
    }
   ],
   "source": [
    "from collections import Counter\n",
    "\n",
    "steelers_count = Counter(teams['steelers'])\n",
    "steelers_count.most_common(10)"
   ]
  },
  {
   "cell_type": "markdown",
   "metadata": {},
   "source": [
    "#### So there have been two Ralph Wenzel (who would have thought!) and two Mike Adams (not so surprising). Or perhaps they were n the team at two seperate times."
   ]
  },
  {
   "cell_type": "markdown",
   "metadata": {},
   "source": [
    "### Now let's make sets for the other two teams"
   ]
  },
  {
   "cell_type": "code",
   "execution_count": 16,
   "metadata": {},
   "outputs": [
    {
     "data": {
      "text/plain": [
       "(225, 954)"
      ]
     },
     "execution_count": 16,
     "metadata": {},
     "output_type": "execute_result"
    }
   ],
   "source": [
    "bears_set = set(teams['bears'])\n",
    "cowboys_set = set(teams['cowboys'])\n",
    "\n",
    "len(bears_set),len(cowboys_set)"
   ]
  },
  {
   "cell_type": "markdown",
   "metadata": {},
   "source": [
    "### Let's look at the sets with a Venn diagram"
   ]
  },
  {
   "cell_type": "code",
   "execution_count": 19,
   "metadata": {},
   "outputs": [
    {
     "data": {
      "text/plain": [
       "<matplotlib_venn._common.VennDiagram at 0x7fa987667cf8>"
      ]
     },
     "execution_count": 19,
     "metadata": {},
     "output_type": "execute_result"
    },
    {
     "data": {
      "image/png": "[encoded data removed]",
      "text/plain": [
       "<Figure size 432x288 with 1 Axes>"
      ]
     },
     "metadata": {},
     "output_type": "display_data"
    }
   ],
   "source": [
    "venn3([steelers_set, cowboys_set, bears_set],(\"Steelers\",\"Cowboys\",\"Bears\"))"
   ]
  },
  {
   "cell_type": "markdown",
   "metadata": {},
   "source": [
    "### Anything Seem Suspicious About These Data?\n",
    "\n",
    "* The [Chicago Bears](https://en.wikipedia.org/wiki/Chicago_Bears) are a very old football team, dating back to 1919. Do we really believe that there have been eight times as many [Steelers](https://en.wikipedia.org/wiki/Pittsburgh_Steelers) (founded 1933) and over four times as many [Cowboys](https://en.wikipedia.org/wiki/Dallas_Cowboys) (founded 1960)?\n",
    "    * Maybe something problematic with our Wikipedia data? \n",
    "    * Check against another source?"
   ]
  },
  {
   "cell_type": "markdown",
   "metadata": {},
   "source": [
    "#### Which Steelers have also been Cowboys or Bears?\n",
    "\n",
    "This question involves \n",
    "\n",
    "* three sets (Steelers, Cowboys, and Bears)\n",
    "* two set operations\n",
    "    * \"have also been\" $\\rightarrow$ **AND** $\\rightarrow$ **INTERSECTION**\n",
    "    * \"or\" $\\rightarrow$ **UNION**\n",
    "\n",
    "##### We can write this out in set notation\n",
    "\n",
    "$ \\text{Steelers} \\cap (\\text{Cowboys} \\cup \\text{Bears})$"
   ]
  },
  {
   "cell_type": "code",
   "execution_count": null,
   "metadata": {},
   "outputs": [],
   "source": [
    "steelers_on_other_teams = steelers_set.intersection(\n",
    "                               bears_set.union(cowboys_set))\n",
    "print(\"There have been %d Steelers that have played on other teams.\"\\\n",
    "      %len(steelers_on_other_teams))\n",
    "print(\"These Steelers are\")\n",
    "print(steelers_on_other_teams)\n"
   ]
  },
  {
   "cell_type": "markdown",
   "metadata": {},
   "source": [
    "####  What players have played on all three teams?\n",
    "\n",
    "This question involves three sets (Steelers, Cowboys, Bears) and two Set operations: **Intersection** and **Intersection.**\n",
    "\n",
    "##### Writing this in set notation\n",
    "\n",
    "$ \\text{Steelers} \\cap \\text{Cowboys} \\cap \\text{Bears}$\n"
   ]
  },
  {
   "cell_type": "code",
   "execution_count": null,
   "metadata": {},
   "outputs": [],
   "source": [
    "steelers_set.intersection(bears_set.intersection(cowboys_set))"
   ]
  },
  {
   "cell_type": "markdown",
   "metadata": {},
   "source": [
    "#### Note that this is Consistent with the Venn diagram above"
   ]
  },
  {
   "cell_type": "code",
   "execution_count": null,
   "metadata": {},
   "outputs": [],
   "source": []
  },
  {
   "cell_type": "code",
   "execution_count": null,
   "metadata": {},
   "outputs": [],
   "source": []
  }
 ],
 "metadata": {
  "kernelspec": {
   "display_name": "Python 3",
   "language": "python",
   "name": "python3"
  },
  "language_info": {
   "codemirror_mode": {
    "name": "ipython",
    "version": 3
   },
   "file_extension": ".py",
   "mimetype": "text/x-python",
   "name": "python",
   "nbconvert_exporter": "python",
   "pygments_lexer": "ipython3",
   "version": "3.7.3"
  }
 },
 "nbformat": 4,
 "nbformat_minor": 1
}
