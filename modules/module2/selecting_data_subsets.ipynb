{
 "cells": [
  {
   "cell_type": "markdown",
   "metadata": {},
   "source": [
    "# Selecting Data Subsets\n",
    "\n",
    "We often end up with more data than we can reasonably explore, so it becomes important to be able to select subsets of our data. We will explore three approaches (not completely independent)\n",
    "\n",
    "1. Slicing\n",
    "1. Filtering\n",
    "1. Random selection"
   ]
  },
  {
   "cell_type": "code",
   "execution_count": null,
   "metadata": {},
   "outputs": [],
   "source": [
    "%matplotlib inline"
   ]
  },
  {
   "cell_type": "code",
   "execution_count": null,
   "metadata": {},
   "outputs": [],
   "source": [
    "import os\n",
    "import glob\n",
    "import numpy as np\n",
    "import random\n",
    "import matplotlib.pyplot as plt\n",
    "import utils\n",
    "import numpy.random\n",
    "import pandas as pd"
   ]
  },
  {
   "cell_type": "code",
   "execution_count": null,
   "metadata": {},
   "outputs": [],
   "source": [
    "DATADIR = os.path.join(os.path.expanduser(\"~\"),\"DATA\")\n",
    "HRDIR = os.path.join(DATADIR,\"Numerics\", \"mimic2\", \"hr\", \"subjects\")\n",
    "hr_files = os.listdir(HRDIR)"
   ]
  },
  {
   "cell_type": "code",
   "execution_count": null,
   "metadata": {},
   "outputs": [],
   "source": []
  },
  {
   "cell_type": "markdown",
   "metadata": {},
   "source": [
    "## Slicing\n",
    "\n",
    "Plotting our nearly 4000 patients is not too meaningful. We can use **slicing.** Slicing is a way of grabbing chunks of data from a sequence, such as a string or a list. The slicing notation is\n",
    "\n",
    "* **SEQUENCE[start:stop:increment]**\n",
    "    * start is inclusive\n",
    "    * **stop is exclusive**\n",
    "* start, stop and increment all have default values\n",
    "    * start: 0\n",
    "    * stop: Length of string\n",
    "    * increment: 1"
   ]
  },
  {
   "cell_type": "code",
   "execution_count": null,
   "metadata": {},
   "outputs": [],
   "source": [
    "demo_string = \"Brian E. Chapman, Ph.D.\"\n",
    "print(demo_string)\n",
    "\n",
    "# print just the frist name\n",
    "print(demo_string[:5])\n",
    "\n",
    "# print just the last name\n",
    "print(demo_string[9:16])\n",
    "\n",
    "# print every other character\n",
    "\n",
    "print(demo_string[::2])"
   ]
  },
  {
   "cell_type": "markdown",
   "metadata": {},
   "source": [
    "#### We can use slicing to select subsets of our patients"
   ]
  },
  {
   "cell_type": "code",
   "execution_count": null,
   "metadata": {},
   "outputs": [],
   "source": [
    "print(\"Selecting first 5 files\\n\", hr_files[5:10])\n",
    "print(\"Selecting last 10 files\\n\", hr_files[-10:]) # Python allows us to index from the end of the sequence with a negative number\n",
    "print(\"Selecting every other file between 20 and 40\", hr_files[20:40:2])"
   ]
  },
  {
   "cell_type": "markdown",
   "metadata": {},
   "source": [
    "## Filtering Data"
   ]
  },
  {
   "cell_type": "code",
   "execution_count": null,
   "metadata": {},
   "outputs": [],
   "source": [
    "for f in hr_files:\n",
    "    \n",
    "    plt.plot(utils.get_data(os.path.join(HRDIR,f)))"
   ]
  },
  {
   "cell_type": "markdown",
   "metadata": {},
   "source": [
    "Looking at this initial plot, we can see that we have lots of spikes of non-physiologic zero values for the heart rate as well as some supiciously high values. While it is conceivable that someone might momentarily have a heart rate of zero, these seem more like data entry errors and we would probably like to drop these values. We can do this easily with list comprehension which allows us to filter which values we keep with if statements. "
   ]
  },
  {
   "cell_type": "code",
   "execution_count": null,
   "metadata": {},
   "outputs": [],
   "source": [
    "long_data = utils.get_data(os.path.join(HRDIR,'21280.txt'))\n",
    "\n",
    "plt.plot(long_data)\n",
    "print(np.max(long_data))"
   ]
  },
  {
   "cell_type": "markdown",
   "metadata": {},
   "source": [
    "#### Using list comprehensions to drop zero values"
   ]
  },
  {
   "cell_type": "code",
   "execution_count": null,
   "metadata": {},
   "outputs": [],
   "source": [
    "plt.plot([d for d in long_data if d > 0])"
   ]
  },
  {
   "cell_type": "markdown",
   "metadata": {},
   "source": [
    "#### We can also use list comprehension to limit to a range of values"
   ]
  },
  {
   "cell_type": "code",
   "execution_count": null,
   "metadata": {},
   "outputs": [],
   "source": [
    "plt.plot([d for d in long_data if 0 < d < 160])"
   ]
  },
  {
   "cell_type": "markdown",
   "metadata": {},
   "source": [
    "#### We can also use the data itself to define bounds\n",
    "\n",
    "* What would be a reasonable choice for b in our filtering below?"
   ]
  },
  {
   "cell_type": "code",
   "execution_count": null,
   "metadata": {},
   "outputs": [],
   "source": [
    "m = long_data.mean()\n",
    "std = long_data.std()\n",
    "b=1.0\n",
    "plt.plot([d for d in long_data if m-b*std < d < m+b*std])"
   ]
  },
  {
   "cell_type": "markdown",
   "metadata": {},
   "source": []
  },
  {
   "cell_type": "markdown",
   "metadata": {},
   "source": [
    "## Randomly Selecting Data\n",
    "\n",
    "Python comes with the [``random``](https://docs.python.org/3/library/random.html) module that contains functions for generating pseudo-random nubmers, shuffling data, and randomly choosing a value from a collection. We can use the ``random.choice`` function to choose one file or use the ``random.shuffle()`` function to randomly shuffle our data and then using slicing to select some number of them."
   ]
  },
  {
   "cell_type": "code",
   "execution_count": null,
   "metadata": {},
   "outputs": [],
   "source": [
    "for i in range(5):\n",
    "    print(random.choice(hr_files))"
   ]
  },
  {
   "cell_type": "code",
   "execution_count": null,
   "metadata": {},
   "outputs": [],
   "source": [
    "hr_files_copy = hr_files[:]\n",
    "random.shuffle(hr_files_copy) # modifies the list in place\n",
    "print(hr_files_copy[:5])"
   ]
  },
  {
   "cell_type": "markdown",
   "metadata": {},
   "source": [
    "#### Numpy also provides functionality for randomly selecting values from an array\n",
    "* [``numpy.random.choice``](http://docs.scipy.org/doc/numpy/reference/generated/numpy.random.choice.html)\n",
    "* [``numpy.random.shuffle``](http://docs.scipy.org/doc/numpy/reference/generated/numpy.random.shuffle.html#numpy.random.shuffle)"
   ]
  },
  {
   "cell_type": "markdown",
   "metadata": {},
   "source": [
    "## Setting the Random Seed\n",
    "\n",
    "If I am testing some code, I'm going to have difficulty evaluating my code if my data are different each time. To address this, in development situations I can set the seed with the [``random.seed()``](https://docs.python.org/3/library/random.html) function so that I'm always picking the same values."
   ]
  },
  {
   "cell_type": "code",
   "execution_count": null,
   "metadata": {},
   "outputs": [],
   "source": [
    "random.seed(0)\n",
    "for i in range(5):\n",
    "    print(random.choice(hr_files))"
   ]
  },
  {
   "cell_type": "markdown",
   "metadata": {},
   "source": [
    "<a rel=\"license\" href=\"http://creativecommons.org/licenses/by-nc-sa/4.0/\"><img alt=\"Creative Commons License\" style=\"border-width:0\" src=\"https://i.creativecommons.org/l/by-nc-sa/4.0/88x31.png\" /></a><br /><span xmlns:dct=\"http://purl.org/dc/terms/\" property=\"dct:title\">University of Uah Data Science for Health</span> by <span xmlns:cc=\"http://creativecommons.org/ns#\" property=\"cc:attributionName\">Brian E. Chapman</span> is licensed under a <a rel=\"license\" href=\"http://creativecommons.org/licenses/by-nc-sa/4.0/\">Creative Commons Attribution-NonCommercial-ShareAlike 4.0 International License</a>."
   ]
  },
  {
   "cell_type": "code",
   "execution_count": null,
   "metadata": {},
   "outputs": [],
   "source": []
  }
 ],
 "metadata": {
  "kernelspec": {
   "display_name": "Python 3",
   "language": "python",
   "name": "python3"
  },
  "language_info": {
   "codemirror_mode": {
    "name": "ipython",
    "version": 3
   },
   "file_extension": ".py",
   "mimetype": "text/x-python",
   "name": "python",
   "nbconvert_exporter": "python",
   "pygments_lexer": "ipython3",
   "version": "3.7.3"
  }
 },
 "nbformat": 4,
 "nbformat_minor": 1
}
