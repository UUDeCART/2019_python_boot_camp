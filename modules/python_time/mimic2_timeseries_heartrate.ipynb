{
 "cells": [
  {
   "cell_type": "markdown",
   "metadata": {},
   "source": [
    "# Identifying Patient Cohorts in [MIMIC-II](http://www.ncbi.nlm.nih.gov/pmc/articles/PMC3124312/)\n"
   ]
  },
  {
   "cell_type": "code",
   "execution_count": 1,
   "metadata": {},
   "outputs": [],
   "source": [
    "%matplotlib inline"
   ]
  },
  {
   "cell_type": "code",
   "execution_count": 2,
   "metadata": {},
   "outputs": [],
   "source": [
    "import pymysql\n",
    "import pandas as pd\n",
    "import getpass\n",
    "import pandas as pd\n",
    "import seaborn as sns\n",
    "import datetime\n",
    "import time\n",
    "import matplotlib.pyplot as plt"
   ]
  },
  {
   "cell_type": "code",
   "execution_count": 18,
   "metadata": {},
   "outputs": [
    {
     "name": "stdout",
     "output_type": "stream",
     "text": [
      "Enter MySQL passwd for jovyan········\n"
     ]
    }
   ],
   "source": [
    "conn = pymysql.connect(host=\"mysql\",\n",
    "                       port=3306,user=\"jovyan\",\n",
    "                       passwd=getpass.getpass(\"Enter MySQL passwd for jovyan\"),db='mimic2')\n",
    "cursor = conn.cursor()"
   ]
  },
  {
   "cell_type": "markdown",
   "metadata": {},
   "source": [
    "## Example Query: Heart Rate and Blood Pressure\n",
    "\n",
    "#### Select a patient from the following ids\n",
    "* 12613\n",
    "* 11923\n",
    "* 517\n",
    "* 14898"
   ]
  },
  {
   "cell_type": "code",
   "execution_count": null,
   "metadata": {},
   "outputs": [],
   "source": []
  },
  {
   "cell_type": "code",
   "execution_count": 5,
   "metadata": {},
   "outputs": [
    {
     "data": {
      "text/html": [
       "<div>\n",
       "<style scoped>\n",
       "    .dataframe tbody tr th:only-of-type {\n",
       "        vertical-align: middle;\n",
       "    }\n",
       "\n",
       "    .dataframe tbody tr th {\n",
       "        vertical-align: top;\n",
       "    }\n",
       "\n",
       "    .dataframe thead th {\n",
       "        text-align: right;\n",
       "    }\n",
       "</style>\n",
       "<table border=\"1\" class=\"dataframe\">\n",
       "  <thead>\n",
       "    <tr style=\"text-align: right;\">\n",
       "      <th></th>\n",
       "      <th>subject_id</th>\n",
       "      <th>icustay_id</th>\n",
       "      <th>charttime</th>\n",
       "      <th>realtime</th>\n",
       "      <th>value1num</th>\n",
       "      <th>value1uom</th>\n",
       "    </tr>\n",
       "  </thead>\n",
       "  <tbody>\n",
       "    <tr>\n",
       "      <th>0</th>\n",
       "      <td>11923</td>\n",
       "      <td>14882</td>\n",
       "      <td>2654-09-28 11:45:00</td>\n",
       "      <td>2654-09-28 11:57:00</td>\n",
       "      <td>115.0</td>\n",
       "      <td>BPM</td>\n",
       "    </tr>\n",
       "    <tr>\n",
       "      <th>1</th>\n",
       "      <td>11923</td>\n",
       "      <td>14882</td>\n",
       "      <td>2654-09-28 12:00:00</td>\n",
       "      <td>2654-09-28 12:04:00</td>\n",
       "      <td>118.0</td>\n",
       "      <td>BPM</td>\n",
       "    </tr>\n",
       "    <tr>\n",
       "      <th>2</th>\n",
       "      <td>11923</td>\n",
       "      <td>14882</td>\n",
       "      <td>2654-09-28 12:05:00</td>\n",
       "      <td>2654-09-28 13:36:00</td>\n",
       "      <td>122.0</td>\n",
       "      <td>BPM</td>\n",
       "    </tr>\n",
       "    <tr>\n",
       "      <th>3</th>\n",
       "      <td>11923</td>\n",
       "      <td>14882</td>\n",
       "      <td>2654-09-28 12:10:00</td>\n",
       "      <td>2654-09-28 13:36:00</td>\n",
       "      <td>177.0</td>\n",
       "      <td>BPM</td>\n",
       "    </tr>\n",
       "    <tr>\n",
       "      <th>4</th>\n",
       "      <td>11923</td>\n",
       "      <td>14882</td>\n",
       "      <td>2654-09-28 12:15:00</td>\n",
       "      <td>2654-09-28 13:36:00</td>\n",
       "      <td>194.0</td>\n",
       "      <td>BPM</td>\n",
       "    </tr>\n",
       "  </tbody>\n",
       "</table>\n",
       "</div>"
      ],
      "text/plain": [
       "   subject_id  icustay_id            charttime             realtime  \\\n",
       "0       11923       14882  2654-09-28 11:45:00  2654-09-28 11:57:00   \n",
       "1       11923       14882  2654-09-28 12:00:00  2654-09-28 12:04:00   \n",
       "2       11923       14882  2654-09-28 12:05:00  2654-09-28 13:36:00   \n",
       "3       11923       14882  2654-09-28 12:10:00  2654-09-28 13:36:00   \n",
       "4       11923       14882  2654-09-28 12:15:00  2654-09-28 13:36:00   \n",
       "\n",
       "   value1num value1uom  \n",
       "0      115.0       BPM  \n",
       "1      118.0       BPM  \n",
       "2      122.0       BPM  \n",
       "3      177.0       BPM  \n",
       "4      194.0       BPM  "
      ]
     },
     "execution_count": 5,
     "metadata": {},
     "output_type": "execute_result"
    }
   ],
   "source": [
    "hr = pd.read_sql(\"\"\"SELECT subject_id, \n",
    "                           icustay_id, \n",
    "                           charttime, \n",
    "                           realtime,\n",
    "                           value1num,\n",
    "                           value1uom\n",
    "                    FROM chartevents\n",
    "                    WHERE itemid in (211) AND\n",
    "                          subject_id in (11923)\"\"\"\n",
    "    ,conn)\n",
    "hr.head()"
   ]
  },
  {
   "cell_type": "code",
   "execution_count": 6,
   "metadata": {},
   "outputs": [
    {
     "data": {
      "text/html": [
       "<div>\n",
       "<style scoped>\n",
       "    .dataframe tbody tr th:only-of-type {\n",
       "        vertical-align: middle;\n",
       "    }\n",
       "\n",
       "    .dataframe tbody tr th {\n",
       "        vertical-align: top;\n",
       "    }\n",
       "\n",
       "    .dataframe thead th {\n",
       "        text-align: right;\n",
       "    }\n",
       "</style>\n",
       "<table border=\"1\" class=\"dataframe\">\n",
       "  <thead>\n",
       "    <tr style=\"text-align: right;\">\n",
       "      <th></th>\n",
       "      <th>subject_id</th>\n",
       "      <th>icustay_id</th>\n",
       "      <th>charttime</th>\n",
       "      <th>realtime</th>\n",
       "      <th>value1num</th>\n",
       "      <th>value1uom</th>\n",
       "      <th>value2num</th>\n",
       "      <th>value2uom</th>\n",
       "    </tr>\n",
       "  </thead>\n",
       "  <tbody>\n",
       "    <tr>\n",
       "      <th>0</th>\n",
       "      <td>11923</td>\n",
       "      <td>14882</td>\n",
       "      <td>2654-09-28 12:20:00</td>\n",
       "      <td>2654-09-28 13:36:00</td>\n",
       "      <td>117.0</td>\n",
       "      <td>mmHg</td>\n",
       "      <td>46.0</td>\n",
       "      <td>mmHg</td>\n",
       "    </tr>\n",
       "    <tr>\n",
       "      <th>1</th>\n",
       "      <td>11923</td>\n",
       "      <td>14882</td>\n",
       "      <td>2654-09-28 12:25:00</td>\n",
       "      <td>2654-09-28 13:36:00</td>\n",
       "      <td>185.0</td>\n",
       "      <td>mmHg</td>\n",
       "      <td>43.0</td>\n",
       "      <td>mmHg</td>\n",
       "    </tr>\n",
       "    <tr>\n",
       "      <th>2</th>\n",
       "      <td>11923</td>\n",
       "      <td>14882</td>\n",
       "      <td>2654-09-28 12:30:00</td>\n",
       "      <td>2654-09-28 13:36:00</td>\n",
       "      <td>248.0</td>\n",
       "      <td>mmHg</td>\n",
       "      <td>49.0</td>\n",
       "      <td>mmHg</td>\n",
       "    </tr>\n",
       "    <tr>\n",
       "      <th>3</th>\n",
       "      <td>11923</td>\n",
       "      <td>14882</td>\n",
       "      <td>2654-09-28 12:35:00</td>\n",
       "      <td>2654-09-28 13:36:00</td>\n",
       "      <td>192.0</td>\n",
       "      <td>mmHg</td>\n",
       "      <td>50.0</td>\n",
       "      <td>mmHg</td>\n",
       "    </tr>\n",
       "    <tr>\n",
       "      <th>4</th>\n",
       "      <td>11923</td>\n",
       "      <td>14882</td>\n",
       "      <td>2654-09-28 12:40:00</td>\n",
       "      <td>2654-09-28 13:36:00</td>\n",
       "      <td>159.0</td>\n",
       "      <td>mmHg</td>\n",
       "      <td>50.0</td>\n",
       "      <td>mmHg</td>\n",
       "    </tr>\n",
       "  </tbody>\n",
       "</table>\n",
       "</div>"
      ],
      "text/plain": [
       "   subject_id  icustay_id            charttime             realtime  \\\n",
       "0       11923       14882  2654-09-28 12:20:00  2654-09-28 13:36:00   \n",
       "1       11923       14882  2654-09-28 12:25:00  2654-09-28 13:36:00   \n",
       "2       11923       14882  2654-09-28 12:30:00  2654-09-28 13:36:00   \n",
       "3       11923       14882  2654-09-28 12:35:00  2654-09-28 13:36:00   \n",
       "4       11923       14882  2654-09-28 12:40:00  2654-09-28 13:36:00   \n",
       "\n",
       "   value1num value1uom  value2num value2uom  \n",
       "0      117.0      mmHg       46.0      mmHg  \n",
       "1      185.0      mmHg       43.0      mmHg  \n",
       "2      248.0      mmHg       49.0      mmHg  \n",
       "3      192.0      mmHg       50.0      mmHg  \n",
       "4      159.0      mmHg       50.0      mmHg  "
      ]
     },
     "execution_count": 6,
     "metadata": {},
     "output_type": "execute_result"
    }
   ],
   "source": [
    "bp = pd.read_sql(\"\"\"SELECT subject_id, \n",
    "                           icustay_id, \n",
    "                           charttime, \n",
    "                           realtime,\n",
    "                           value1num,\n",
    "                           value1uom,\n",
    "                           value2num,\n",
    "                           value2uom\n",
    "                    FROM chartevents\n",
    "                    WHERE itemid in (6, 51, 455, 6701) AND\n",
    "                          subject_id in (11923)\"\"\"\n",
    "    ,conn)\n",
    "bp.head()"
   ]
  },
  {
   "cell_type": "code",
   "execution_count": 7,
   "metadata": {},
   "outputs": [
    {
     "name": "stdout",
     "output_type": "stream",
     "text": [
      "14882    4361\n",
      "14884     199\n",
      "Name: icustay_id, dtype: int64\n",
      "11923    4560\n",
      "Name: subject_id, dtype: int64\n"
     ]
    }
   ],
   "source": [
    "print(bp[\"icustay_id\"].value_counts())\n",
    "print(bp[\"subject_id\"].value_counts())"
   ]
  },
  {
   "cell_type": "code",
   "execution_count": 8,
   "metadata": {},
   "outputs": [
    {
     "data": {
      "text/plain": [
       "14882    4106\n",
       "14884     191\n",
       "Name: icustay_id, dtype: int64"
      ]
     },
     "execution_count": 8,
     "metadata": {},
     "output_type": "execute_result"
    }
   ],
   "source": [
    "hr[\"icustay_id\"].value_counts()"
   ]
  },
  {
   "cell_type": "markdown",
   "metadata": {},
   "source": [
    "### Plot Heart Rate as a Time Series"
   ]
  },
  {
   "cell_type": "code",
   "execution_count": 11,
   "metadata": {},
   "outputs": [
    {
     "data": {
      "text/plain": [
       "<matplotlib.axes._subplots.AxesSubplot at 0x7faa5a6242e8>"
      ]
     },
     "execution_count": 11,
     "metadata": {},
     "output_type": "execute_result"
    },
    {
     "data": {
      "image/png": "[encoded data removed]",
      "text/plain": [
       "<Figure size 432x288 with 1 Axes>"
      ]
     },
     "metadata": {
      "needs_background": "light"
     },
     "output_type": "display_data"
    }
   ],
   "source": [
    "hr.plot(x=\"realtime\", y=[\"value1num\"])"
   ]
  },
  {
   "cell_type": "code",
   "execution_count": 13,
   "metadata": {},
   "outputs": [
    {
     "data": {
      "text/plain": [
       "<matplotlib.axes._subplots.AxesSubplot at 0x7faa5a565cc0>"
      ]
     },
     "execution_count": 13,
     "metadata": {},
     "output_type": "execute_result"
    },
    {
     "data": {
      "image/png": "[encoded data removed]",
      "text/plain": [
       "<Figure size 432x288 with 1 Axes>"
      ]
     },
     "metadata": {
      "needs_background": "light"
     },
     "output_type": "display_data"
    }
   ],
   "source": [
    "bp.plot(x=\"realtime\", y=[\"value1num\", \"value2num\"])"
   ]
  },
  {
   "cell_type": "markdown",
   "metadata": {},
   "source": [
    "### decorator를 사용하여 graph 그려보기"
   ]
  },
  {
   "cell_type": "code",
   "execution_count": 16,
   "metadata": {},
   "outputs": [
    {
     "data": {
      "text/html": [
       "<div>\n",
       "<style scoped>\n",
       "    .dataframe tbody tr th:only-of-type {\n",
       "        vertical-align: middle;\n",
       "    }\n",
       "\n",
       "    .dataframe tbody tr th {\n",
       "        vertical-align: top;\n",
       "    }\n",
       "\n",
       "    .dataframe thead th {\n",
       "        text-align: right;\n",
       "    }\n",
       "</style>\n",
       "<table border=\"1\" class=\"dataframe\">\n",
       "  <thead>\n",
       "    <tr style=\"text-align: right;\">\n",
       "      <th></th>\n",
       "      <th>subject_id</th>\n",
       "      <th>icustay_id</th>\n",
       "      <th>charttime</th>\n",
       "      <th>realtime</th>\n",
       "      <th>value1num</th>\n",
       "      <th>value1uom</th>\n",
       "    </tr>\n",
       "  </thead>\n",
       "  <tbody>\n",
       "    <tr>\n",
       "      <th>0</th>\n",
       "      <td>11923</td>\n",
       "      <td>14882</td>\n",
       "      <td>2654-09-28 11:45:00</td>\n",
       "      <td>2654-09-28 11:57:00</td>\n",
       "      <td>115.0</td>\n",
       "      <td>BPM</td>\n",
       "    </tr>\n",
       "    <tr>\n",
       "      <th>1</th>\n",
       "      <td>11923</td>\n",
       "      <td>14882</td>\n",
       "      <td>2654-09-28 12:00:00</td>\n",
       "      <td>2654-09-28 12:04:00</td>\n",
       "      <td>118.0</td>\n",
       "      <td>BPM</td>\n",
       "    </tr>\n",
       "    <tr>\n",
       "      <th>2</th>\n",
       "      <td>11923</td>\n",
       "      <td>14882</td>\n",
       "      <td>2654-09-28 12:05:00</td>\n",
       "      <td>2654-09-28 13:36:00</td>\n",
       "      <td>122.0</td>\n",
       "      <td>BPM</td>\n",
       "    </tr>\n",
       "    <tr>\n",
       "      <th>3</th>\n",
       "      <td>11923</td>\n",
       "      <td>14882</td>\n",
       "      <td>2654-09-28 12:10:00</td>\n",
       "      <td>2654-09-28 13:36:00</td>\n",
       "      <td>177.0</td>\n",
       "      <td>BPM</td>\n",
       "    </tr>\n",
       "    <tr>\n",
       "      <th>4</th>\n",
       "      <td>11923</td>\n",
       "      <td>14882</td>\n",
       "      <td>2654-09-28 12:15:00</td>\n",
       "      <td>2654-09-28 13:36:00</td>\n",
       "      <td>194.0</td>\n",
       "      <td>BPM</td>\n",
       "    </tr>\n",
       "  </tbody>\n",
       "</table>\n",
       "</div>"
      ],
      "text/plain": [
       "   subject_id  icustay_id            charttime             realtime  \\\n",
       "0       11923       14882  2654-09-28 11:45:00  2654-09-28 11:57:00   \n",
       "1       11923       14882  2654-09-28 12:00:00  2654-09-28 12:04:00   \n",
       "2       11923       14882  2654-09-28 12:05:00  2654-09-28 13:36:00   \n",
       "3       11923       14882  2654-09-28 12:10:00  2654-09-28 13:36:00   \n",
       "4       11923       14882  2654-09-28 12:15:00  2654-09-28 13:36:00   \n",
       "\n",
       "   value1num value1uom  \n",
       "0      115.0       BPM  \n",
       "1      118.0       BPM  \n",
       "2      122.0       BPM  \n",
       "3      177.0       BPM  \n",
       "4      194.0       BPM  "
      ]
     },
     "execution_count": 16,
     "metadata": {},
     "output_type": "execute_result"
    }
   ],
   "source": [
    "hr.head()"
   ]
  },
  {
   "cell_type": "code",
   "execution_count": 19,
   "metadata": {},
   "outputs": [
    {
     "ename": "NameError",
     "evalue": "name 'interaction' is not defined",
     "output_type": "error",
     "traceback": [
      "\u001b[0;31m---------------------------------------------------------------------------\u001b[0m",
      "\u001b[0;31mNameError\u001b[0m                                 Traceback (most recent call last)",
      "\u001b[0;32m<ipython-input-19-7b2d2706d9b1>\u001b[0m in \u001b[0;36m<module>\u001b[0;34m\u001b[0m\n\u001b[1;32m     14\u001b[0m \u001b[0mpatients\u001b[0m \u001b[0;34m=\u001b[0m \u001b[0mset\u001b[0m\u001b[0;34m(\u001b[0m\u001b[0mhr\u001b[0m\u001b[0;34m.\u001b[0m\u001b[0msubject_id\u001b[0m\u001b[0;34m)\u001b[0m\u001b[0;34m\u001b[0m\u001b[0;34m\u001b[0m\u001b[0m\n\u001b[1;32m     15\u001b[0m \u001b[0;34m\u001b[0m\u001b[0m\n\u001b[0;32m---> 16\u001b[0;31m \u001b[0;34m@\u001b[0m\u001b[0minteraction\u001b[0m\u001b[0;34m(\u001b[0m\u001b[0mpatient\u001b[0m \u001b[0;34m=\u001b[0m \u001b[0mpatients\u001b[0m\u001b[0;34m)\u001b[0m\u001b[0;34m\u001b[0m\u001b[0;34m\u001b[0m\u001b[0m\n\u001b[0m\u001b[1;32m     17\u001b[0m \u001b[0;32mdef\u001b[0m \u001b[0mupdate\u001b[0m\u001b[0;34m(\u001b[0m\u001b[0mpatient\u001b[0m\u001b[0;34m)\u001b[0m\u001b[0;34m:\u001b[0m\u001b[0;34m\u001b[0m\u001b[0;34m\u001b[0m\u001b[0m\n\u001b[1;32m     18\u001b[0m     \u001b[0mhr\u001b[0m\u001b[0;34m[\u001b[0m\u001b[0;34m\"subject_id\"\u001b[0m \u001b[0;34m==\u001b[0m \u001b[0mpatient\u001b[0m\u001b[0;34m]\u001b[0m\u001b[0;34m.\u001b[0m\u001b[0mplot\u001b[0m\u001b[0;34m(\u001b[0m\u001b[0mx\u001b[0m\u001b[0;34m=\u001b[0m\u001b[0;34m\"realtime\"\u001b[0m\u001b[0;34m,\u001b[0m \u001b[0my\u001b[0m \u001b[0;34m=\u001b[0m \u001b[0;34m\"value1num\"\u001b[0m\u001b[0;34m)\u001b[0m\u001b[0;34m\u001b[0m\u001b[0;34m\u001b[0m\u001b[0m\n",
      "\u001b[0;31mNameError\u001b[0m: name 'interaction' is not defined"
     ]
    }
   ],
   "source": [
    "from ipywidgets import interact, interactive, fixed, interact_manual, IntSlider\n",
    "import ipywidgets as widgets\n",
    "from IPython.display import display\n",
    "\n",
    "hr = pd.read_sql(\"\"\"SELECT subject_id, \n",
    "                       icustay_id, \n",
    "                       charttime, \n",
    "                       realtime,\n",
    "                       value1num,\n",
    "                       value1uom\n",
    "                FROM chartevents\n",
    "                WHERE itemid in (211)\"\"\"\n",
    ",conn)\n",
    "patients = set(hr.subject_id)\n",
    "\n",
    "@interaction(patient = patients)\n",
    "def update(patient):\n",
    "    hr[\"subject_id\" == patient].plot(x=\"realtime\", y = \"value1num\")\n",
    "\n",
    "interact(update);"
   ]
  }
 ],
 "metadata": {
  "kernelspec": {
   "display_name": "Python 3",
   "language": "python",
   "name": "python3"
  },
  "language_info": {
   "codemirror_mode": {
    "name": "ipython",
    "version": 3
   },
   "file_extension": ".py",
   "mimetype": "text/x-python",
   "name": "python",
   "nbconvert_exporter": "python",
   "pygments_lexer": "ipython3",
   "version": "3.7.3"
  }
 },
 "nbformat": 4,
 "nbformat_minor": 1
}
