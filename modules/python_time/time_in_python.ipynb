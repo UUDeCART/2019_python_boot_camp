{
 "cells": [
  {
   "cell_type": "markdown",
   "metadata": {},
   "source": [
    "# Time Data in Python\n",
    "#### &copy; Brian E. Chapman, Ph.D.\n",
    "Within the Python standard library there are three primary modules related to time:\n",
    "\n",
    "* [``time``](https://docs.python.org/3.5/library/time.html)\n",
    "* [``datetime``](https://docs.python.org/3.5/library/datetime.html#module-datetime)\n",
    "* [``calendar``](https://docs.python.org/3.5/library/calendar.html#module-calendar)"
   ]
  },
  {
   "cell_type": "markdown",
   "metadata": {},
   "source": [
    "## [``time``](https://docs.python.org/3.5/library/time.html)\n",
    "\n",
    "Let's start with the simplest function in the ``time`` module: ``time``.\n",
    "\n",
    "``time.time`` returns the number of elapsed seconds since the \"epoch.\" \n",
    "\n",
    ">The epoch is the point where the time starts. On January 1st of that year, at 0 hours, the “time since the epoch” is zero. For Unix, the epoch is 1970. To find out what the epoch is, look at gmtime(0). ([Python documentation on the epoch](https://docs.python.org/3.5/library/time.html))"
   ]
  },
  {
   "cell_type": "code",
   "execution_count": 1,
   "metadata": {},
   "outputs": [],
   "source": [
    "import time"
   ]
  },
  {
   "cell_type": "code",
   "execution_count": 3,
   "metadata": {},
   "outputs": [
    {
     "data": {
      "text/plain": [
       "time.struct_time(tm_year=1970, tm_mon=1, tm_mday=1, tm_hour=0, tm_min=0, tm_sec=0, tm_wday=3, tm_yday=1, tm_isdst=0)"
      ]
     },
     "execution_count": 3,
     "metadata": {},
     "output_type": "execute_result"
    }
   ],
   "source": [
    "time.gmtime(0)"
   ]
  },
  {
   "cell_type": "code",
   "execution_count": 16,
   "metadata": {},
   "outputs": [
    {
     "data": {
      "text/plain": [
       "1562170136.5778346"
      ]
     },
     "execution_count": 16,
     "metadata": {},
     "output_type": "execute_result"
    }
   ],
   "source": [
    "time.time()"
   ]
  },
  {
   "cell_type": "code",
   "execution_count": 17,
   "metadata": {},
   "outputs": [
    {
     "data": {
      "text/plain": [
       "'Wed Jul  3 16:08:59 2019'"
      ]
     },
     "execution_count": 17,
     "metadata": {},
     "output_type": "execute_result"
    }
   ],
   "source": [
    "time.ctime()"
   ]
  },
  {
   "cell_type": "code",
   "execution_count": 9,
   "metadata": {},
   "outputs": [
    {
     "name": "stdout",
     "output_type": "stream",
     "text": [
      "<class 'str'>\n",
      "Wed Jul  3 16:03:04 2019\n"
     ]
    }
   ],
   "source": [
    "print(type(time.asctime()))\n",
    "print(time.asctime())"
   ]
  },
  {
   "cell_type": "code",
   "execution_count": 10,
   "metadata": {},
   "outputs": [
    {
     "name": "stdout",
     "output_type": "stream",
     "text": [
      "<class 'str'>\n",
      "Wed Jul  3 16:03:05 2019\n"
     ]
    }
   ],
   "source": [
    "print(type(time.ctime()))\n",
    "print(time.ctime())\n"
   ]
  },
  {
   "cell_type": "code",
   "execution_count": 11,
   "metadata": {},
   "outputs": [
    {
     "data": {
      "text/plain": [
       "time.struct_time(tm_year=2019, tm_mon=7, tm_mday=3, tm_hour=16, tm_min=3, tm_sec=36, tm_wday=2, tm_yday=184, tm_isdst=0)"
      ]
     },
     "execution_count": 11,
     "metadata": {},
     "output_type": "execute_result"
    }
   ],
   "source": [
    "time.gmtime()"
   ]
  },
  {
   "cell_type": "code",
   "execution_count": 12,
   "metadata": {},
   "outputs": [
    {
     "data": {
      "text/plain": [
       "time.struct_time(tm_year=2019, tm_mon=7, tm_mday=3, tm_hour=16, tm_min=3, tm_sec=47, tm_wday=2, tm_yday=184, tm_isdst=0)"
      ]
     },
     "execution_count": 12,
     "metadata": {},
     "output_type": "execute_result"
    }
   ],
   "source": [
    "time.localtime()"
   ]
  },
  {
   "cell_type": "code",
   "execution_count": 13,
   "metadata": {},
   "outputs": [
    {
     "data": {
      "text/plain": [
       "<function time.strftime>"
      ]
     },
     "execution_count": 13,
     "metadata": {},
     "output_type": "execute_result"
    }
   ],
   "source": [
    "time.strftime"
   ]
  },
  {
   "cell_type": "code",
   "execution_count": 14,
   "metadata": {},
   "outputs": [
    {
     "data": {
      "text/plain": [
       "<function time.strptime>"
      ]
     },
     "execution_count": 14,
     "metadata": {},
     "output_type": "execute_result"
    }
   ],
   "source": [
    "time.strptime"
   ]
  },
  {
   "cell_type": "code",
   "execution_count": 15,
   "metadata": {},
   "outputs": [
    {
     "data": {
      "text/plain": [
       "0"
      ]
     },
     "execution_count": 15,
     "metadata": {},
     "output_type": "execute_result"
    }
   ],
   "source": [
    "time.timezone"
   ]
  },
  {
   "cell_type": "markdown",
   "metadata": {},
   "source": [
    "## ``time.struct_time``\n",
    "\n",
    "Python defines a class ``struct_time`` that inherits from the builtin type ``tuple``. The ``struct_time`` class defines attributes needed for unambiguously describing and computing about time.\n",
    "\n"
   ]
  },
  {
   "cell_type": "code",
   "execution_count": 20,
   "metadata": {},
   "outputs": [],
   "source": [
    "?time.struct_time"
   ]
  },
  {
   "cell_type": "markdown",
   "metadata": {},
   "source": [
    "## Creating strings from ``time_struct``\n",
    "\n",
    "Within our programs we would probably be keeping time data in a ``time_struct`` but we at times might want to present times to users in a more human friendly form. The ``time`` module defines the [``strftime``](https://docs.python.org/3.5/library/time.html#time.strftime) function for creating a string from a ``time_struct`` instance. \n",
    "\n",
    "#### First create a ``time_struct`` instance for my current time"
   ]
  },
  {
   "cell_type": "code",
   "execution_count": 57,
   "metadata": {},
   "outputs": [
    {
     "name": "stdout",
     "output_type": "stream",
     "text": [
      "7월 03, 2019\n",
      "03  7월 2019\n"
     ]
    }
   ],
   "source": [
    "mytime = time.localtime()\n",
    "print(time.strftime(\"%B %d, %Y\", mytime))\n",
    "print(time.strftime(\"%d %b %Y\", mytime))"
   ]
  },
  {
   "cell_type": "code",
   "execution_count": 42,
   "metadata": {},
   "outputs": [],
   "source": [
    "?time.strftime"
   ]
  },
  {
   "cell_type": "code",
   "execution_count": 25,
   "metadata": {},
   "outputs": [],
   "source": [
    "?time.strptime"
   ]
  },
  {
   "cell_type": "markdown",
   "metadata": {},
   "source": [
    "## [``locale``](https://docs.python.org/3.5/library/locale.html)\n",
    "\n",
    "As we have pointed out, styles for representing time varying across the world. There are a number of other styles that vary across the world. Currency is one obvious variance with $, &#163;, and &euro; being three common western currency symbols. There are also differences in numeric representations. For example, in the United States we use a comma (\",\") as a thousands separater while in countries like France this is the decimal point.\n",
    "\n",
    "Python provides a ``locale`` package to address thee differences. This Python package sits on top of your operating system's programs for handeling locale variation."
   ]
  },
  {
   "cell_type": "code",
   "execution_count": 26,
   "metadata": {},
   "outputs": [],
   "source": [
    "import locale \n"
   ]
  },
  {
   "cell_type": "markdown",
   "metadata": {},
   "source": [
    "#### Use tab completion to see what choices locale provides to what can be localized (e.g. currency)"
   ]
  },
  {
   "cell_type": "code",
   "execution_count": 29,
   "metadata": {},
   "outputs": [
    {
     "data": {
      "text/plain": [
       "2"
      ]
     },
     "execution_count": 29,
     "metadata": {},
     "output_type": "execute_result"
    }
   ],
   "source": [
    "locale.LC_"
   ]
  },
  {
   "cell_type": "markdown",
   "metadata": {},
   "source": [
    "### What locales are supported?\n",
    "\n",
    "On linux we can run ``locale -a`` on the command line to see what locale's I can work with."
   ]
  },
  {
   "cell_type": "code",
   "execution_count": 30,
   "metadata": {},
   "outputs": [
    {
     "name": "stdout",
     "output_type": "stream",
     "text": [
      "aa_DJ\r\n",
      "aa_DJ.utf8\r\n",
      "aa_ER\r\n",
      "aa_ER@saaho\r\n",
      "aa_ET\r\n",
      "af_ZA\r\n",
      "af_ZA.utf8\r\n",
      "agr_PE\r\n",
      "ak_GH\r\n",
      "am_ET\r\n",
      "an_ES\r\n",
      "an_ES.utf8\r\n",
      "anp_IN\r\n",
      "ar_AE\r\n",
      "ar_AE.utf8\r\n",
      "ar_BH\r\n",
      "ar_BH.utf8\r\n",
      "ar_DZ\r\n",
      "ar_DZ.utf8\r\n",
      "ar_EG\r\n",
      "ar_EG.utf8\r\n",
      "ar_IN\r\n",
      "ar_IQ\r\n",
      "ar_IQ.utf8\r\n",
      "ar_JO\r\n",
      "ar_JO.utf8\r\n",
      "ar_KW\r\n",
      "ar_KW.utf8\r\n",
      "ar_LB\r\n",
      "ar_LB.utf8\r\n",
      "ar_LY\r\n",
      "ar_LY.utf8\r\n",
      "ar_MA\r\n",
      "ar_MA.utf8\r\n",
      "ar_OM\r\n",
      "ar_OM.utf8\r\n",
      "ar_QA\r\n",
      "ar_QA.utf8\r\n",
      "ar_SA\r\n",
      "ar_SA.utf8\r\n",
      "ar_SD\r\n",
      "ar_SD.utf8\r\n",
      "ar_SS\r\n",
      "ar_SY\r\n",
      "ar_SY.utf8\r\n",
      "ar_TN\r\n",
      "ar_TN.utf8\r\n",
      "ar_YE\r\n",
      "ar_YE.utf8\r\n",
      "as_IN\r\n",
      "ast_ES\r\n",
      "ast_ES.utf8\r\n",
      "ayc_PE\r\n",
      "az_AZ\r\n",
      "az_IR\r\n",
      "be_BY\r\n",
      "be_BY@latin\r\n",
      "be_BY.utf8\r\n",
      "bem_ZM\r\n",
      "ber_DZ\r\n",
      "ber_MA\r\n",
      "bg_BG\r\n",
      "bg_BG.utf8\r\n",
      "bhb_IN.utf8\r\n",
      "bho_IN\r\n",
      "bho_NP\r\n",
      "bi_VU\r\n",
      "bn_BD\r\n",
      "bn_IN\r\n",
      "bo_CN\r\n",
      "bo_IN\r\n",
      "br_FR\r\n",
      "br_FR@euro\r\n",
      "br_FR.utf8\r\n",
      "brx_IN\r\n",
      "bs_BA\r\n",
      "bs_BA.utf8\r\n",
      "byn_ER\r\n",
      "C\r\n",
      "ca_AD\r\n",
      "ca_AD.utf8\r\n",
      "ca_ES\r\n",
      "ca_ES@euro\r\n",
      "ca_ES.utf8\r\n",
      "ca_ES@valencia\r\n",
      "ca_FR\r\n",
      "ca_FR.utf8\r\n",
      "ca_IT\r\n",
      "ca_IT.utf8\r\n",
      "ce_RU\r\n",
      "chr_US\r\n",
      "ckb_IQ\r\n",
      "cmn_TW\r\n",
      "crh_UA\r\n",
      "csb_PL\r\n",
      "cs_CZ\r\n",
      "cs_CZ.utf8\r\n",
      "C.UTF-8\r\n",
      "cv_RU\r\n",
      "cy_GB\r\n",
      "cy_GB.utf8\r\n",
      "da_DK\r\n",
      "da_DK.utf8\r\n",
      "de_AT\r\n",
      "de_AT@euro\r\n",
      "de_AT.utf8\r\n",
      "de_BE\r\n",
      "de_BE@euro\r\n",
      "de_BE.utf8\r\n",
      "de_CH\r\n",
      "de_CH.utf8\r\n",
      "de_DE\r\n",
      "de_DE@euro\r\n",
      "de_DE.utf8\r\n",
      "de_IT\r\n",
      "de_IT.utf8\r\n",
      "de_LI.utf8\r\n",
      "de_LU\r\n",
      "de_LU@euro\r\n",
      "de_LU.utf8\r\n",
      "doi_IN\r\n",
      "dv_MV\r\n",
      "dz_BT\r\n",
      "el_CY\r\n",
      "el_CY.utf8\r\n",
      "el_GR\r\n",
      "el_GR@euro\r\n",
      "el_GR.utf8\r\n",
      "en_AG\r\n",
      "en_AU\r\n",
      "en_AU.utf8\r\n",
      "en_BW\r\n",
      "en_BW.utf8\r\n",
      "en_CA\r\n",
      "en_CA.utf8\r\n",
      "en_DK\r\n",
      "en_DK.iso885915\r\n",
      "en_DK.utf8\r\n",
      "en_GB\r\n",
      "en_GB.iso885915\r\n",
      "en_GB.utf8\r\n",
      "en_HK\r\n",
      "en_HK.utf8\r\n",
      "en_IE\r\n",
      "en_IE@euro\r\n",
      "en_IE.utf8\r\n",
      "en_IL\r\n",
      "en_IN\r\n",
      "en_NG\r\n",
      "en_NZ\r\n",
      "en_NZ.utf8\r\n",
      "en_PH\r\n",
      "en_PH.utf8\r\n",
      "en_SC.utf8\r\n",
      "en_SG\r\n",
      "en_SG.utf8\r\n",
      "en_US\r\n",
      "en_US.iso885915\r\n",
      "en_US.utf8\r\n",
      "en_ZA\r\n",
      "en_ZA.utf8\r\n",
      "en_ZM\r\n",
      "en_ZW\r\n",
      "en_ZW.utf8\r\n",
      "eo\r\n",
      "eo_US.utf8\r\n",
      "es_AR\r\n",
      "es_AR.utf8\r\n",
      "es_BO\r\n",
      "es_BO.utf8\r\n",
      "es_CL\r\n",
      "es_CL.utf8\r\n",
      "es_CO\r\n",
      "es_CO.utf8\r\n",
      "es_CR\r\n",
      "es_CR.utf8\r\n",
      "es_CU\r\n",
      "es_DO\r\n",
      "es_DO.utf8\r\n",
      "es_EC\r\n",
      "es_EC.utf8\r\n",
      "es_ES\r\n",
      "es_ES@euro\r\n",
      "es_ES.utf8\r\n",
      "es_GT\r\n",
      "es_GT.utf8\r\n",
      "es_HN\r\n",
      "es_HN.utf8\r\n",
      "es_MX\r\n",
      "es_MX.utf8\r\n",
      "es_NI\r\n",
      "es_NI.utf8\r\n",
      "es_PA\r\n",
      "es_PA.utf8\r\n",
      "es_PE\r\n",
      "es_PE.utf8\r\n",
      "es_PR\r\n",
      "es_PR.utf8\r\n",
      "es_PY\r\n",
      "es_PY.utf8\r\n",
      "es_SV\r\n",
      "es_SV.utf8\r\n",
      "es_US\r\n",
      "es_US.utf8\r\n",
      "es_UY\r\n",
      "es_UY.utf8\r\n",
      "es_VE\r\n",
      "es_VE.utf8\r\n",
      "et_EE\r\n",
      "et_EE.iso885915\r\n",
      "et_EE.utf8\r\n",
      "eu_ES\r\n",
      "eu_ES@euro\r\n",
      "eu_ES.utf8\r\n",
      "eu_FR\r\n",
      "eu_FR@euro\r\n",
      "eu_FR.utf8\r\n",
      "fa_IR\r\n",
      "ff_SN\r\n",
      "fi_FI\r\n",
      "fi_FI@euro\r\n",
      "fi_FI.utf8\r\n",
      "fil_PH\r\n",
      "fo_FO\r\n",
      "fo_FO.utf8\r\n",
      "fr_BE\r\n",
      "fr_BE@euro\r\n",
      "fr_BE.utf8\r\n",
      "fr_CA\r\n",
      "fr_CA.utf8\r\n",
      "fr_CH\r\n",
      "fr_CH.utf8\r\n",
      "fr_FR\r\n",
      "fr_FR@euro\r\n",
      "fr_FR.utf8\r\n",
      "fr_LU\r\n",
      "fr_LU@euro\r\n",
      "fr_LU.utf8\r\n",
      "fur_IT\r\n",
      "fy_DE\r\n",
      "fy_NL\r\n",
      "ga_IE\r\n",
      "ga_IE@euro\r\n",
      "ga_IE.utf8\r\n",
      "gd_GB\r\n",
      "gd_GB.utf8\r\n",
      "gez_ER\r\n",
      "gez_ER@abegede\r\n",
      "gez_ET\r\n",
      "gez_ET@abegede\r\n",
      "gl_ES\r\n",
      "gl_ES@euro\r\n",
      "gl_ES.utf8\r\n",
      "gu_IN\r\n",
      "gv_GB\r\n",
      "gv_GB.utf8\r\n",
      "hak_TW\r\n",
      "ha_NG\r\n",
      "he_IL\r\n",
      "he_IL.utf8\r\n",
      "hif_FJ\r\n",
      "hi_IN\r\n",
      "hne_IN\r\n",
      "hr_HR\r\n",
      "hr_HR.utf8\r\n",
      "hsb_DE\r\n",
      "hsb_DE.utf8\r\n",
      "ht_HT\r\n",
      "hu_HU\r\n",
      "hu_HU.utf8\r\n",
      "hy_AM\r\n",
      "hy_AM.armscii8\r\n",
      "ia_FR\r\n",
      "id_ID\r\n",
      "id_ID.utf8\r\n",
      "ig_NG\r\n",
      "ik_CA\r\n",
      "is_IS\r\n",
      "is_IS.utf8\r\n",
      "it_CH\r\n",
      "it_CH.utf8\r\n",
      "it_IT\r\n",
      "it_IT@euro\r\n",
      "it_IT.utf8\r\n",
      "iu_CA\r\n",
      "ja_JP.eucjp\r\n",
      "ja_JP.utf8\r\n",
      "kab_DZ\r\n",
      "ka_GE\r\n",
      "ka_GE.utf8\r\n",
      "kk_KZ\r\n",
      "kk_KZ.rk1048\r\n",
      "kk_KZ.utf8\r\n",
      "kl_GL\r\n",
      "kl_GL.utf8\r\n",
      "km_KH\r\n",
      "kn_IN\r\n",
      "kok_IN\r\n",
      "ko_KR.euckr\r\n",
      "ko_KR.utf8\r\n",
      "ks_IN\r\n",
      "ks_IN@devanagari\r\n",
      "ku_TR\r\n",
      "ku_TR.utf8\r\n",
      "kw_GB\r\n",
      "kw_GB.utf8\r\n",
      "ky_KG\r\n",
      "lb_LU\r\n",
      "lg_UG\r\n",
      "lg_UG.utf8\r\n",
      "li_BE\r\n",
      "lij_IT\r\n",
      "li_NL\r\n",
      "ln_CD\r\n",
      "lo_LA\r\n",
      "lt_LT\r\n",
      "lt_LT.utf8\r\n",
      "lv_LV\r\n",
      "lv_LV.utf8\r\n",
      "lzh_TW\r\n",
      "mag_IN\r\n",
      "mai_IN\r\n",
      "mai_NP\r\n",
      "mfe_MU\r\n",
      "mg_MG\r\n",
      "mg_MG.utf8\r\n",
      "mhr_RU\r\n",
      "mi_NZ\r\n",
      "mi_NZ.utf8\r\n",
      "miq_NI\r\n",
      "mjw_IN\r\n",
      "mk_MK\r\n",
      "mk_MK.utf8\r\n",
      "ml_IN\r\n",
      "mni_IN\r\n",
      "mn_MN\r\n",
      "mr_IN\r\n",
      "ms_MY\r\n",
      "ms_MY.utf8\r\n",
      "mt_MT\r\n",
      "mt_MT.utf8\r\n",
      "my_MM\r\n",
      "nan_TW\r\n",
      "nan_TW@latin\r\n",
      "nb_NO\r\n",
      "nb_NO.utf8\r\n",
      "nds_DE\r\n",
      "nds_NL\r\n",
      "ne_NP\r\n",
      "nhn_MX\r\n",
      "niu_NU\r\n",
      "niu_NZ\r\n",
      "nl_AW\r\n",
      "nl_BE\r\n",
      "nl_BE@euro\r\n",
      "nl_BE.utf8\r\n",
      "nl_NL\r\n",
      "nl_NL@euro\r\n",
      "nl_NL.utf8\r\n",
      "nn_NO\r\n",
      "nn_NO.utf8\r\n",
      "nr_ZA\r\n",
      "nso_ZA\r\n",
      "oc_FR\r\n",
      "oc_FR.utf8\r\n",
      "om_ET\r\n",
      "om_KE\r\n",
      "om_KE.utf8\r\n",
      "or_IN\r\n",
      "os_RU\r\n",
      "pa_IN\r\n",
      "pap_AW\r\n",
      "pap_CW\r\n",
      "pa_PK\r\n",
      "pl_PL\r\n",
      "pl_PL.utf8\r\n",
      "POSIX\r\n",
      "ps_AF\r\n",
      "pt_BR\r\n",
      "pt_BR.utf8\r\n",
      "pt_PT\r\n",
      "pt_PT@euro\r\n",
      "pt_PT.utf8\r\n",
      "quz_PE\r\n",
      "raj_IN\r\n",
      "ro_RO\r\n",
      "ro_RO.utf8\r\n",
      "ru_RU\r\n",
      "ru_RU.cp1251\r\n",
      "ru_RU.koi8r\r\n",
      "ru_RU.utf8\r\n",
      "ru_UA\r\n",
      "ru_UA.utf8\r\n",
      "rw_RW\r\n",
      "sa_IN\r\n",
      "sat_IN\r\n",
      "sc_IT\r\n",
      "sd_IN\r\n",
      "sd_IN@devanagari\r\n",
      "sd_PK\r\n",
      "se_NO\r\n",
      "sgs_LT\r\n",
      "shn_MM\r\n",
      "shs_CA\r\n",
      "sid_ET\r\n",
      "si_LK\r\n",
      "sk_SK\r\n",
      "sk_SK.utf8\r\n",
      "sl_SI\r\n",
      "sl_SI.utf8\r\n",
      "sm_WS\r\n",
      "so_DJ\r\n",
      "so_DJ.utf8\r\n",
      "so_ET\r\n",
      "so_KE\r\n",
      "so_KE.utf8\r\n",
      "so_SO\r\n",
      "so_SO.utf8\r\n",
      "sq_AL\r\n",
      "sq_AL.utf8\r\n",
      "sq_MK\r\n",
      "sr_ME\r\n",
      "sr_RS\r\n",
      "sr_RS@latin\r\n",
      "ss_ZA\r\n",
      "st_ZA\r\n",
      "st_ZA.utf8\r\n",
      "sv_FI\r\n",
      "sv_FI@euro\r\n",
      "sv_FI.utf8\r\n",
      "sv_SE\r\n",
      "sv_SE.iso885915\r\n",
      "sv_SE.utf8\r\n",
      "sw_KE\r\n",
      "sw_TZ\r\n",
      "szl_PL\r\n",
      "ta_IN\r\n",
      "ta_LK\r\n",
      "tcy_IN.utf8\r\n",
      "te_IN\r\n",
      "tg_TJ\r\n",
      "tg_TJ.utf8\r\n",
      "the_NP\r\n",
      "th_TH\r\n",
      "th_TH.utf8\r\n",
      "ti_ER\r\n",
      "ti_ET\r\n",
      "tig_ER\r\n",
      "tk_TM\r\n",
      "tl_PH\r\n",
      "tl_PH.utf8\r\n",
      "tn_ZA\r\n",
      "to_TO\r\n",
      "tpi_PG\r\n",
      "tr_CY\r\n",
      "tr_CY.utf8\r\n",
      "tr_TR\r\n",
      "tr_TR.utf8\r\n",
      "ts_ZA\r\n",
      "tt_RU\r\n",
      "tt_RU@iqtelif\r\n",
      "ug_CN\r\n",
      "ug_CN@latin\r\n",
      "uk_UA\r\n",
      "uk_UA.utf8\r\n",
      "unm_US\r\n",
      "ur_IN\r\n",
      "ur_PK\r\n",
      "uz_UZ\r\n",
      "uz_UZ@cyrillic\r\n",
      "uz_UZ.utf8\r\n",
      "ve_ZA\r\n",
      "vi_VN\r\n",
      "wa_BE\r\n",
      "wa_BE@euro\r\n",
      "wa_BE.utf8\r\n",
      "wae_CH\r\n",
      "wal_ET\r\n",
      "wo_SN\r\n",
      "xh_ZA\r\n",
      "xh_ZA.utf8\r\n",
      "yi_US\r\n",
      "yi_US.utf8\r\n",
      "yo_NG\r\n",
      "yue_HK\r\n",
      "yuw_PG\r\n",
      "zh_CN\r\n",
      "zh_CN.gb18030\r\n",
      "zh_CN.gbk\r\n",
      "zh_CN.utf8\r\n",
      "zh_HK\r\n",
      "zh_HK.utf8\r\n",
      "zh_SG\r\n",
      "zh_SG.gbk\r\n",
      "zh_SG.utf8\r\n",
      "zh_TW\r\n",
      "zh_TW.euctw\r\n",
      "zh_TW.utf8\r\n",
      "zu_ZA\r\n",
      "zu_ZA.utf8\r\n"
     ]
    }
   ],
   "source": [
    "!locale -a"
   ]
  },
  {
   "cell_type": "markdown",
   "metadata": {},
   "source": [
    "#### To get a feel for locale and time we will render our current time in a variety of locale standards"
   ]
  },
  {
   "cell_type": "markdown",
   "metadata": {},
   "source": [
    "#### German"
   ]
  },
  {
   "cell_type": "code",
   "execution_count": null,
   "metadata": {},
   "outputs": [],
   "source": [
    "locale.setlocale(locale.LC_TIME, \"de_DE.UTF-8\")\n",
    "\n",
    "print(time.strftime(\"%B %d, %Y\", mytime))\n",
    "print(time.strftime(\"%d %b %Y\", mytime))"
   ]
  },
  {
   "cell_type": "markdown",
   "metadata": {},
   "source": [
    "#### Spanish"
   ]
  },
  {
   "cell_type": "code",
   "execution_count": 43,
   "metadata": {},
   "outputs": [
    {
     "name": "stdout",
     "output_type": "stream",
     "text": [
      "7월 03, 2019\n",
      "03  7월 2019\n",
      "2019-07-03 16:10:28  \n"
     ]
    }
   ],
   "source": [
    "locale.setlocale(locale.LC_TIME, \"ko_KR.utf8\")\n",
    "\n",
    "print(time.strftime(\"%B %d, %Y\", mytime))\n",
    "print(time.strftime(\"%d %b %Y\", mytime))\n",
    "print(time.strftime(\"%Y-%m-%d %H:%M:%S \", mytime))\n"
   ]
  },
  {
   "cell_type": "markdown",
   "metadata": {},
   "source": [
    "#### Korea"
   ]
  },
  {
   "cell_type": "code",
   "execution_count": null,
   "metadata": {},
   "outputs": [],
   "source": [
    "locale.setlocale(locale.LC_TIME, \"es_ES.UTF-8\")\n",
    "\n",
    "print(time.strftime(\"%B %d, %Y\", mytime))\n",
    "print(time.strftime(\"%d %b %Y\", mytime))"
   ]
  },
  {
   "cell_type": "markdown",
   "metadata": {},
   "source": [
    "#### Japanese"
   ]
  },
  {
   "cell_type": "code",
   "execution_count": null,
   "metadata": {},
   "outputs": [],
   "source": [
    "locale.setlocale(locale.LC_ALL, \"ja_JP.UTF-8\")\n",
    "\n",
    "print(time.strftime(\"%B %d, %Y\", mytime))\n",
    "print(time.strftime(\"%d %b %Y\", mytime))"
   ]
  },
  {
   "cell_type": "markdown",
   "metadata": {},
   "source": [
    "#### Chinese"
   ]
  },
  {
   "cell_type": "code",
   "execution_count": null,
   "metadata": {},
   "outputs": [],
   "source": [
    "locale.setlocale(locale.LC_ALL, \"zh_CN.UTF-8\")\n",
    "\n",
    "print(time.strftime(\"%B %d, %Y\", mytime))\n",
    "print(time.strftime(\"%d %b %Y\", mytime))"
   ]
  },
  {
   "cell_type": "markdown",
   "metadata": {},
   "source": [
    "#### Russian"
   ]
  },
  {
   "cell_type": "code",
   "execution_count": null,
   "metadata": {},
   "outputs": [],
   "source": [
    "locale.setlocale(locale.LC_ALL, \"ru_RU.utf8\")\n",
    "\n",
    "print(time.strftime(\"%B %d, %Y\", mytime))\n",
    "print(time.strftime(\"%d %b %Y\", mytime))"
   ]
  },
  {
   "cell_type": "code",
   "execution_count": null,
   "metadata": {},
   "outputs": [],
   "source": [
    "locale.setlocale(locale.LC_ALL, \"el_GR.UTF-8\")\n",
    "\n",
    "print(time.strftime(\"%B %d, %Y\", mytime))\n",
    "print(time.strftime(\"%d %b %Y\", mytime))"
   ]
  },
  {
   "cell_type": "markdown",
   "metadata": {},
   "source": [
    "### Set locale back to your local locale"
   ]
  },
  {
   "cell_type": "code",
   "execution_count": 58,
   "metadata": {},
   "outputs": [
    {
     "data": {
      "text/plain": [
       "'en_US.UTF-8'"
      ]
     },
     "execution_count": 58,
     "metadata": {},
     "output_type": "execute_result"
    }
   ],
   "source": [
    "locale.setlocale(locale.LC_ALL, \"\")\n"
   ]
  },
  {
   "cell_type": "code",
   "execution_count": 59,
   "metadata": {},
   "outputs": [
    {
     "data": {
      "text/plain": [
       "'07/03/2019 04:23:26 PM '"
      ]
     },
     "execution_count": 59,
     "metadata": {},
     "output_type": "execute_result"
    }
   ],
   "source": [
    "time.strftime(\"%x %X \", mytime)"
   ]
  },
  {
   "cell_type": "markdown",
   "metadata": {},
   "source": [
    "## Parsing Time Strings\n",
    "\n",
    "In our data science application it is more likely that we will need to take a string in some (arbitrary) format and parse it into a ``time_struct``. This is achieved with the  [``strptime`` function](https://docs.python.org/3.5/library/time.html#time.strptime) that is essentially the inverse of ``strftime``.\n",
    "\n",
    "## Exercise\n",
    "\n",
    "#### Write code to parse into ``struct_time`` instances the following dates and times:\n",
    "\n",
    "* \"January 27, 2016\"\n",
    "* \"2015 Feb 1\"\n",
    "* \"12/04/15\"\n",
    "* \"24/05/1968\"\n",
    "* \"07/27/2016 23:07:45\"\n",
    "* \"Mar 17, 2014 11:17 PM\""
   ]
  },
  {
   "cell_type": "code",
   "execution_count": 80,
   "metadata": {},
   "outputs": [
    {
     "data": {
      "text/plain": [
       "time.struct_time(tm_year=2016, tm_mon=1, tm_mday=27, tm_hour=0, tm_min=0, tm_sec=0, tm_wday=2, tm_yday=27, tm_isdst=-1)"
      ]
     },
     "execution_count": 80,
     "metadata": {},
     "output_type": "execute_result"
    }
   ],
   "source": [
    "dateStr = \"January 27, 2016\"\n",
    "date = time.strptime (dateStr, \"%B %d, %Y\")\n",
    "date"
   ]
  },
  {
   "cell_type": "code",
   "execution_count": 81,
   "metadata": {},
   "outputs": [
    {
     "name": "stdout",
     "output_type": "stream",
     "text": [
      "2016-01-27\n"
     ]
    }
   ],
   "source": [
    "print(time.strftime(\"%Y-%m-%d\", date))"
   ]
  },
  {
   "cell_type": "code",
   "execution_count": 64,
   "metadata": {},
   "outputs": [
    {
     "data": {
      "text/plain": [
       "time.struct_time(tm_year=2015, tm_mon=2, tm_mday=1, tm_hour=0, tm_min=0, tm_sec=0, tm_wday=6, tm_yday=32, tm_isdst=-1)"
      ]
     },
     "execution_count": 64,
     "metadata": {},
     "output_type": "execute_result"
    }
   ],
   "source": [
    "dateStr = \"2015 Feb 1\"\n",
    "time.strptime (dateStr, \"%Y %b %d\")"
   ]
  },
  {
   "cell_type": "code",
   "execution_count": 67,
   "metadata": {},
   "outputs": [
    {
     "data": {
      "text/plain": [
       "time.struct_time(tm_year=2015, tm_mon=4, tm_mday=12, tm_hour=0, tm_min=0, tm_sec=0, tm_wday=6, tm_yday=102, tm_isdst=-1)"
      ]
     },
     "execution_count": 67,
     "metadata": {},
     "output_type": "execute_result"
    }
   ],
   "source": [
    "dateStr = \"12/04/15\"\n",
    "time.strptime (dateStr, \"%d/%m/%y\")"
   ]
  },
  {
   "cell_type": "code",
   "execution_count": 69,
   "metadata": {},
   "outputs": [
    {
     "data": {
      "text/plain": [
       "time.struct_time(tm_year=1968, tm_mon=5, tm_mday=24, tm_hour=0, tm_min=0, tm_sec=0, tm_wday=4, tm_yday=145, tm_isdst=-1)"
      ]
     },
     "execution_count": 69,
     "metadata": {},
     "output_type": "execute_result"
    }
   ],
   "source": [
    "dateStr = \"24/05/1968\"\n",
    "time.strptime (dateStr, \"%d/%m/%Y\")"
   ]
  },
  {
   "cell_type": "code",
   "execution_count": 74,
   "metadata": {},
   "outputs": [
    {
     "data": {
      "text/plain": [
       "time.struct_time(tm_year=2016, tm_mon=7, tm_mday=27, tm_hour=23, tm_min=7, tm_sec=45, tm_wday=2, tm_yday=209, tm_isdst=-1)"
      ]
     },
     "execution_count": 74,
     "metadata": {},
     "output_type": "execute_result"
    }
   ],
   "source": [
    "timeStr = \"07/27/2016 23:07:45\"\n",
    "time.strptime (timeStr, \"%m/%d/%Y %H:%M:%S\")"
   ]
  },
  {
   "cell_type": "code",
   "execution_count": 76,
   "metadata": {},
   "outputs": [
    {
     "data": {
      "text/plain": [
       "time.struct_time(tm_year=2014, tm_mon=3, tm_mday=17, tm_hour=11, tm_min=17, tm_sec=0, tm_wday=0, tm_yday=76, tm_isdst=-1)"
      ]
     },
     "execution_count": 76,
     "metadata": {},
     "output_type": "execute_result"
    }
   ],
   "source": [
    "timeStr = \"Mar 17, 2014 11:17 PM\"\n",
    "time.strptime(timeStr, \"%b %d, %Y %H:%M %p\")"
   ]
  }
 ],
 "metadata": {
  "kernelspec": {
   "display_name": "Python 3",
   "language": "python",
   "name": "python3"
  },
  "language_info": {
   "codemirror_mode": {
    "name": "ipython",
    "version": 3
   },
   "file_extension": ".py",
   "mimetype": "text/x-python",
   "name": "python",
   "nbconvert_exporter": "python",
   "pygments_lexer": "ipython3",
   "version": "3.7.3"
  }
 },
 "nbformat": 4,
 "nbformat_minor": 1
}
