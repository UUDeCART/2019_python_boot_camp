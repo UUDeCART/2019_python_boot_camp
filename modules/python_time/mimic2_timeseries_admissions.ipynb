{
 "cells": [
  {
   "cell_type": "markdown",
   "metadata": {},
   "source": [
    "# Identifying Patient Cohorts in [MIMIC-II](http://www.ncbi.nlm.nih.gov/pmc/articles/PMC3124312/)\n"
   ]
  },
  {
   "cell_type": "code",
   "execution_count": 1,
   "metadata": {},
   "outputs": [],
   "source": [
    "%matplotlib inline"
   ]
  },
  {
   "cell_type": "code",
   "execution_count": 2,
   "metadata": {},
   "outputs": [],
   "source": [
    "import pymysql\n",
    "import pandas as pd\n",
    "import getpass\n",
    "import pandas as pd\n",
    "import seaborn as sns\n",
    "import datetime\n",
    "import time\n",
    "import matplotlib.pyplot as plt"
   ]
  },
  {
   "cell_type": "code",
   "execution_count": 3,
   "metadata": {},
   "outputs": [
    {
     "name": "stdout",
     "output_type": "stream",
     "text": [
      "Enter MySQL passwd for jovyan········\n"
     ]
    }
   ],
   "source": [
    "conn = pymysql.connect(host=\"mysql\",\n",
    "                       port=3306,user=\"jovyan\",\n",
    "                       passwd=getpass.getpass(\"Enter MySQL passwd for jovyan\"),db='mimic2')\n",
    "cursor = conn.cursor()"
   ]
  },
  {
   "cell_type": "code",
   "execution_count": 4,
   "metadata": {},
   "outputs": [],
   "source": [
    "mimic2Adm = pd.read_sql(\"\"\"SELECT * FROM admissions LIMIT 100\"\"\", conn)"
   ]
  },
  {
   "cell_type": "code",
   "execution_count": 5,
   "metadata": {},
   "outputs": [
    {
     "data": {
      "text/html": [
       "<div>\n",
       "<style scoped>\n",
       "    .dataframe tbody tr th:only-of-type {\n",
       "        vertical-align: middle;\n",
       "    }\n",
       "\n",
       "    .dataframe tbody tr th {\n",
       "        vertical-align: top;\n",
       "    }\n",
       "\n",
       "    .dataframe thead th {\n",
       "        text-align: right;\n",
       "    }\n",
       "</style>\n",
       "<table border=\"1\" class=\"dataframe\">\n",
       "  <thead>\n",
       "    <tr style=\"text-align: right;\">\n",
       "      <th></th>\n",
       "      <th>hadm_id</th>\n",
       "      <th>subject_id</th>\n",
       "      <th>admit_dt</th>\n",
       "      <th>disch_dt</th>\n",
       "    </tr>\n",
       "  </thead>\n",
       "  <tbody>\n",
       "    <tr>\n",
       "      <th>0</th>\n",
       "      <td>28766</td>\n",
       "      <td>56</td>\n",
       "      <td>2644-01-17 00:00:00</td>\n",
       "      <td>2644-01-23 00:00:00</td>\n",
       "    </tr>\n",
       "    <tr>\n",
       "      <th>1</th>\n",
       "      <td>2075</td>\n",
       "      <td>3</td>\n",
       "      <td>2682-09-07 00:00:00</td>\n",
       "      <td>2682-09-18 00:00:00</td>\n",
       "    </tr>\n",
       "    <tr>\n",
       "      <th>2</th>\n",
       "      <td>20666</td>\n",
       "      <td>21</td>\n",
       "      <td>3138-10-29 00:00:00</td>\n",
       "      <td>3138-11-11 00:00:00</td>\n",
       "    </tr>\n",
       "    <tr>\n",
       "      <th>3</th>\n",
       "      <td>20882</td>\n",
       "      <td>21</td>\n",
       "      <td>3139-03-19 00:00:00</td>\n",
       "      <td>3139-03-28 00:00:00</td>\n",
       "    </tr>\n",
       "    <tr>\n",
       "      <th>4</th>\n",
       "      <td>12532</td>\n",
       "      <td>12</td>\n",
       "      <td>2875-09-26 00:00:00</td>\n",
       "      <td>2875-10-09 00:00:00</td>\n",
       "    </tr>\n",
       "  </tbody>\n",
       "</table>\n",
       "</div>"
      ],
      "text/plain": [
       "   hadm_id  subject_id             admit_dt             disch_dt\n",
       "0    28766          56  2644-01-17 00:00:00  2644-01-23 00:00:00\n",
       "1     2075           3  2682-09-07 00:00:00  2682-09-18 00:00:00\n",
       "2    20666          21  3138-10-29 00:00:00  3138-11-11 00:00:00\n",
       "3    20882          21  3139-03-19 00:00:00  3139-03-28 00:00:00\n",
       "4    12532          12  2875-09-26 00:00:00  2875-10-09 00:00:00"
      ]
     },
     "execution_count": 5,
     "metadata": {},
     "output_type": "execute_result"
    }
   ],
   "source": [
    "mimic2Adm.head()"
   ]
  },
  {
   "cell_type": "markdown",
   "metadata": {},
   "source": [
    "## Exercise: Create a Histogram of the length of stay for subjects in the database"
   ]
  },
  {
   "cell_type": "code",
   "execution_count": 6,
   "metadata": {},
   "outputs": [
    {
     "data": {
      "text/html": [
       "<div>\n",
       "<style scoped>\n",
       "    .dataframe tbody tr th:only-of-type {\n",
       "        vertical-align: middle;\n",
       "    }\n",
       "\n",
       "    .dataframe tbody tr th {\n",
       "        vertical-align: top;\n",
       "    }\n",
       "\n",
       "    .dataframe thead th {\n",
       "        text-align: right;\n",
       "    }\n",
       "</style>\n",
       "<table border=\"1\" class=\"dataframe\">\n",
       "  <thead>\n",
       "    <tr style=\"text-align: right;\">\n",
       "      <th></th>\n",
       "      <th>hadm_id</th>\n",
       "      <th>subject_id</th>\n",
       "      <th>admit_dt</th>\n",
       "      <th>disch_dt</th>\n",
       "      <th>LOS</th>\n",
       "    </tr>\n",
       "  </thead>\n",
       "  <tbody>\n",
       "    <tr>\n",
       "      <th>0</th>\n",
       "      <td>28766</td>\n",
       "      <td>56</td>\n",
       "      <td>2644-01-17 00:00:00</td>\n",
       "      <td>2644-01-23 00:00:00</td>\n",
       "      <td>6</td>\n",
       "    </tr>\n",
       "    <tr>\n",
       "      <th>1</th>\n",
       "      <td>2075</td>\n",
       "      <td>3</td>\n",
       "      <td>2682-09-07 00:00:00</td>\n",
       "      <td>2682-09-18 00:00:00</td>\n",
       "      <td>11</td>\n",
       "    </tr>\n",
       "    <tr>\n",
       "      <th>2</th>\n",
       "      <td>20666</td>\n",
       "      <td>21</td>\n",
       "      <td>3138-10-29 00:00:00</td>\n",
       "      <td>3138-11-11 00:00:00</td>\n",
       "      <td>13</td>\n",
       "    </tr>\n",
       "    <tr>\n",
       "      <th>3</th>\n",
       "      <td>20882</td>\n",
       "      <td>21</td>\n",
       "      <td>3139-03-19 00:00:00</td>\n",
       "      <td>3139-03-28 00:00:00</td>\n",
       "      <td>9</td>\n",
       "    </tr>\n",
       "    <tr>\n",
       "      <th>4</th>\n",
       "      <td>12532</td>\n",
       "      <td>12</td>\n",
       "      <td>2875-09-26 00:00:00</td>\n",
       "      <td>2875-10-09 00:00:00</td>\n",
       "      <td>13</td>\n",
       "    </tr>\n",
       "  </tbody>\n",
       "</table>\n",
       "</div>"
      ],
      "text/plain": [
       "   hadm_id  subject_id             admit_dt             disch_dt  LOS\n",
       "0    28766          56  2644-01-17 00:00:00  2644-01-23 00:00:00    6\n",
       "1     2075           3  2682-09-07 00:00:00  2682-09-18 00:00:00   11\n",
       "2    20666          21  3138-10-29 00:00:00  3138-11-11 00:00:00   13\n",
       "3    20882          21  3139-03-19 00:00:00  3139-03-28 00:00:00    9\n",
       "4    12532          12  2875-09-26 00:00:00  2875-10-09 00:00:00   13"
      ]
     },
     "execution_count": 6,
     "metadata": {},
     "output_type": "execute_result"
    }
   ],
   "source": [
    "mimic2Adm[\"LOS\"] = mimic2Adm.apply(lambda row: (row[\"disch_dt\"] - row[\"admit_dt\"]).days, axis = 1)\n",
    "mimic2Adm.head()"
   ]
  },
  {
   "cell_type": "code",
   "execution_count": 7,
   "metadata": {},
   "outputs": [
    {
     "data": {
      "text/plain": [
       "<matplotlib.axes._subplots.AxesSubplot at 0x7f13a4b89048>"
      ]
     },
     "execution_count": 7,
     "metadata": {},
     "output_type": "execute_result"
    },
    {
     "data": {
      "image/png": "[encoded data removed]",
      "text/plain": [
       "<Figure size 432x288 with 1 Axes>"
      ]
     },
     "metadata": {
      "needs_background": "light"
     },
     "output_type": "display_data"
    }
   ],
   "source": [
    "mimic2Adm.LOS.plot.hist()"
   ]
  },
  {
   "cell_type": "code",
   "execution_count": 8,
   "metadata": {},
   "outputs": [
    {
     "data": {
      "text/plain": [
       "count    100.000000\n",
       "mean      13.490000\n",
       "std       17.103071\n",
       "min        0.000000\n",
       "25%        4.000000\n",
       "50%        8.000000\n",
       "75%       16.000000\n",
       "max      117.000000\n",
       "Name: LOS, dtype: float64"
      ]
     },
     "execution_count": 8,
     "metadata": {},
     "output_type": "execute_result"
    }
   ],
   "source": [
    "mimic2Adm.LOS.describe()"
   ]
  },
  {
   "cell_type": "markdown",
   "metadata": {},
   "source": [
    "## Exercise: Create a histogram of the day of the week when patients are admitted"
   ]
  },
  {
   "cell_type": "code",
   "execution_count": 18,
   "metadata": {},
   "outputs": [],
   "source": [
    "mimic2Adm[\"AdmDaysOnWeek\"] = mimic2Adm.apply(lambda row: int(time.strftime(\"%w\", row[\"admit_dt\"].timetuple())), axis = 1)"
   ]
  },
  {
   "cell_type": "code",
   "execution_count": 19,
   "metadata": {},
   "outputs": [
    {
     "data": {
      "text/html": [
       "<div>\n",
       "<style scoped>\n",
       "    .dataframe tbody tr th:only-of-type {\n",
       "        vertical-align: middle;\n",
       "    }\n",
       "\n",
       "    .dataframe tbody tr th {\n",
       "        vertical-align: top;\n",
       "    }\n",
       "\n",
       "    .dataframe thead th {\n",
       "        text-align: right;\n",
       "    }\n",
       "</style>\n",
       "<table border=\"1\" class=\"dataframe\">\n",
       "  <thead>\n",
       "    <tr style=\"text-align: right;\">\n",
       "      <th></th>\n",
       "      <th>hadm_id</th>\n",
       "      <th>subject_id</th>\n",
       "      <th>admit_dt</th>\n",
       "      <th>disch_dt</th>\n",
       "      <th>LOS</th>\n",
       "      <th>AdmDaysOnWeek</th>\n",
       "    </tr>\n",
       "  </thead>\n",
       "  <tbody>\n",
       "    <tr>\n",
       "      <th>0</th>\n",
       "      <td>28766</td>\n",
       "      <td>56</td>\n",
       "      <td>2644-01-17 00:00:00</td>\n",
       "      <td>2644-01-23 00:00:00</td>\n",
       "      <td>6</td>\n",
       "      <td>3</td>\n",
       "    </tr>\n",
       "    <tr>\n",
       "      <th>1</th>\n",
       "      <td>2075</td>\n",
       "      <td>3</td>\n",
       "      <td>2682-09-07 00:00:00</td>\n",
       "      <td>2682-09-18 00:00:00</td>\n",
       "      <td>11</td>\n",
       "      <td>4</td>\n",
       "    </tr>\n",
       "    <tr>\n",
       "      <th>2</th>\n",
       "      <td>20666</td>\n",
       "      <td>21</td>\n",
       "      <td>3138-10-29 00:00:00</td>\n",
       "      <td>3138-11-11 00:00:00</td>\n",
       "      <td>13</td>\n",
       "      <td>6</td>\n",
       "    </tr>\n",
       "    <tr>\n",
       "      <th>3</th>\n",
       "      <td>20882</td>\n",
       "      <td>21</td>\n",
       "      <td>3139-03-19 00:00:00</td>\n",
       "      <td>3139-03-28 00:00:00</td>\n",
       "      <td>9</td>\n",
       "      <td>0</td>\n",
       "    </tr>\n",
       "    <tr>\n",
       "      <th>4</th>\n",
       "      <td>12532</td>\n",
       "      <td>12</td>\n",
       "      <td>2875-09-26 00:00:00</td>\n",
       "      <td>2875-10-09 00:00:00</td>\n",
       "      <td>13</td>\n",
       "      <td>4</td>\n",
       "    </tr>\n",
       "  </tbody>\n",
       "</table>\n",
       "</div>"
      ],
      "text/plain": [
       "   hadm_id  subject_id             admit_dt             disch_dt  LOS  \\\n",
       "0    28766          56  2644-01-17 00:00:00  2644-01-23 00:00:00    6   \n",
       "1     2075           3  2682-09-07 00:00:00  2682-09-18 00:00:00   11   \n",
       "2    20666          21  3138-10-29 00:00:00  3138-11-11 00:00:00   13   \n",
       "3    20882          21  3139-03-19 00:00:00  3139-03-28 00:00:00    9   \n",
       "4    12532          12  2875-09-26 00:00:00  2875-10-09 00:00:00   13   \n",
       "\n",
       "   AdmDaysOnWeek  \n",
       "0              3  \n",
       "1              4  \n",
       "2              6  \n",
       "3              0  \n",
       "4              4  "
      ]
     },
     "execution_count": 19,
     "metadata": {},
     "output_type": "execute_result"
    }
   ],
   "source": [
    "mimic2Adm.head()"
   ]
  },
  {
   "cell_type": "code",
   "execution_count": 22,
   "metadata": {},
   "outputs": [
    {
     "data": {
      "text/plain": [
       "<matplotlib.axes._subplots.AxesSubplot at 0x7f13a1835be0>"
      ]
     },
     "execution_count": 22,
     "metadata": {},
     "output_type": "execute_result"
    },
    {
     "data": {
      "image/png": "[encoded data removed]",
      "text/plain": [
       "<Figure size 432x288 with 1 Axes>"
      ]
     },
     "metadata": {
      "needs_background": "light"
     },
     "output_type": "display_data"
    }
   ],
   "source": [
    "mimic2Adm.AdmDaysOnWeek.plot.hist()"
   ]
  },
  {
   "cell_type": "code",
   "execution_count": 23,
   "metadata": {},
   "outputs": [
    {
     "data": {
      "text/plain": [
       "count    100.000000\n",
       "mean       3.070000\n",
       "std        2.046209\n",
       "min        0.000000\n",
       "25%        1.000000\n",
       "50%        3.000000\n",
       "75%        5.000000\n",
       "max        6.000000\n",
       "Name: AdmDaysOnWeek, dtype: float64"
      ]
     },
     "execution_count": 23,
     "metadata": {},
     "output_type": "execute_result"
    }
   ],
   "source": [
    "mimic2Adm.AdmDaysOnWeek.describe()"
   ]
  }
 ],
 "metadata": {
  "kernelspec": {
   "display_name": "Python 3",
   "language": "python",
   "name": "python3"
  },
  "language_info": {
   "codemirror_mode": {
    "name": "ipython",
    "version": 3
   },
   "file_extension": ".py",
   "mimetype": "text/x-python",
   "name": "python",
   "nbconvert_exporter": "python",
   "pygments_lexer": "ipython3",
   "version": "3.7.3"
  }
 },
 "nbformat": 4,
 "nbformat_minor": 1
}
