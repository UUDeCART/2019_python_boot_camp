{
 "cells": [
  {
   "cell_type": "markdown",
   "metadata": {},
   "source": [
    "# Python's [``datetime``](https://docs.python.org/3.5/library/datetime.html#module-datetime) package\n",
    "\n",
    "### Python documentation description of ``datetime``\n",
    "\n",
    ">The datetime module supplies classes for manipulating dates and times in both simple and complex ways. While date and time arithmetic is supported, the focus of the implementation is on efficient attribute extraction for output formatting and manipulation. For related functionality, see also the time and calendar modules.\n",
    ">\n",
    "There are two kinds of date and time objects: “naive” and “aware”.\n",
    ">\n",
    "An aware object has sufficient knowledge of applicable algorithmic and political time adjustments, such as time zone and daylight saving time information, to locate itself relative to other aware objects. An aware object is used to represent a specific moment in time that is not open to interpretation.\n",
    ">\n",
    "A naive object does not contain enough information to unambiguously locate itself relative to other date/time objects. Whether a naive object represents Coordinated Universal Time (UTC), local time, or time in some other timezone is purely up to the program, just like it is up to the program whether a particular number represents metres, miles, or mass. Naive objects are easy to understand and to work with, at the cost of ignoring some aspects of reality. ([Python documentation](https://docs.python.org/3.5/library/datetime.html#module-datetime))\n",
    "\n",
    "``datetime`` defines two objects:\n",
    "\n",
    "* [``date``](https://docs.python.org/3.5/library/datetime.html#datetime.date)\n",
    "    * A representation of dates with year, month, day\n",
    "* [``time``](https://docs.python.org/3.5/library/datetime.html#time-objects)\n",
    "    * A class for representing time (not sure of relationship with the ``time`` module)\n",
    "* [``datetime``](https://docs.python.org/3.5/library/datetime.html#datetime.datetime)\n",
    "    * A combination of the date class and the time class\n",
    "* [``timedelta``](https://docs.python.org/3.5/library/datetime.html#datetime.timedelta)"
   ]
  },
  {
   "cell_type": "code",
   "execution_count": null,
   "metadata": {},
   "outputs": [],
   "source": [
    "import datetime\n",
    "import time"
   ]
  },
  {
   "cell_type": "markdown",
   "metadata": {},
   "source": [
    "## Creating datetime objects"
   ]
  },
  {
   "cell_type": "markdown",
   "metadata": {},
   "source": [
    "### We can create datetime objects using the class constructor\n",
    "\n",
    "If you do ``help(datetime.datetime)`` you will find that year, month, and day are **positional arguments**, and there are a variety of **keyword arguments** for hours, minutes, etc."
   ]
  },
  {
   "cell_type": "code",
   "execution_count": null,
   "metadata": {},
   "outputs": [],
   "source": [
    "start_time = datetime.datetime(1994, 9, 26, hour=7, minute=45)"
   ]
  },
  {
   "cell_type": "markdown",
   "metadata": {},
   "source": [
    "### There are [``today``](https://docs.python.org/3.5/library/datetime.html#datetime.datetime.today) and  [``now``](https://docs.python.org/3.5/library/datetime.html#datetime.datetime.utcnow) class methods for determining the current tme without and with time zone support"
   ]
  },
  {
   "cell_type": "code",
   "execution_count": null,
   "metadata": {},
   "outputs": [],
   "source": [
    "now = datetime.datetime.now()\n",
    "print(now)"
   ]
  },
  {
   "cell_type": "markdown",
   "metadata": {},
   "source": [
    "### If I have a  timestamp (e.g. from ``time.time()``) I can create a datetime object from it"
   ]
  },
  {
   "cell_type": "code",
   "execution_count": null,
   "metadata": {},
   "outputs": [],
   "source": [
    "mytime = time.time()\n",
    "mydatetime = datetime.datetime.fromtimestamp(mytime)"
   ]
  },
  {
   "cell_type": "code",
   "execution_count": null,
   "metadata": {},
   "outputs": [],
   "source": [
    "help(datetime.time)"
   ]
  },
  {
   "cell_type": "markdown",
   "metadata": {},
   "source": [
    "### [``timedelta``](https://docs.python.org/3.5/library/datetime.html#datetime.timedelta)\n",
    "\n",
    "datetime and time instances are valuable largely because we can reason with them. For example, I can do comparisons and arithmetic between two dates."
   ]
  },
  {
   "cell_type": "code",
   "execution_count": null,
   "metadata": {},
   "outputs": [],
   "source": [
    "print(\"Now greater than start_time:\",now > start_time)"
   ]
  },
  {
   "cell_type": "code",
   "execution_count": null,
   "metadata": {},
   "outputs": [],
   "source": [
    "print(\"Now less than start_time:\", now < start_time)"
   ]
  },
  {
   "cell_type": "markdown",
   "metadata": {},
   "source": []
  },
  {
   "cell_type": "code",
   "execution_count": null,
   "metadata": {},
   "outputs": [],
   "source": [
    "delta = now - start_time\n",
    "print(type(delta))"
   ]
  },
  {
   "cell_type": "markdown",
   "metadata": {},
   "source": [
    "### Using our ``timedelta`` object we can compute the elapsed number of days (or seconds)"
   ]
  },
  {
   "cell_type": "code",
   "execution_count": null,
   "metadata": {},
   "outputs": [],
   "source": [
    "print(\"number of elapsed days:\", delta.days)\n",
    "print(\"number of elapsed seconds:\", delta.total_seconds())"
   ]
  },
  {
   "cell_type": "code",
   "execution_count": null,
   "metadata": {},
   "outputs": [],
   "source": []
  }
 ],
 "metadata": {
  "kernelspec": {
   "display_name": "Python [default]",
   "language": "python",
   "name": "python3"
  },
  "language_info": {
   "codemirror_mode": {
    "name": "ipython",
    "version": 3
   },
   "file_extension": ".py",
   "mimetype": "text/x-python",
   "name": "python",
   "nbconvert_exporter": "python",
   "pygments_lexer": "ipython3",
   "version": "3.6.4"
  }
 },
 "nbformat": 4,
 "nbformat_minor": 1
}
