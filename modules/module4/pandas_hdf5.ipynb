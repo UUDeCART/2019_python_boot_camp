{
 "cells": [
  {
   "cell_type": "markdown",
   "metadata": {},
   "source": [
    "# [Pandas and HDF5](http://pandas.pydata.org/)"
   ]
  },
  {
   "cell_type": "code",
   "execution_count": null,
   "metadata": {},
   "outputs": [],
   "source": [
    "% matplotlib inline"
   ]
  },
  {
   "cell_type": "code",
   "execution_count": null,
   "metadata": {},
   "outputs": [],
   "source": [
    "import os\n",
    "import shutil\n",
    "import glob\n",
    "import sqlite3 as sqlite\n",
    "DATADIR = os.path.join(os.path.expanduser(\"~\"),\n",
    "                       \"DATA\", \"Bioinf\")\n",
    "print(os.path.exists(DATADIR))\n",
    "\n",
    "import pandas as pd\n",
    "import seaborn as sns\n",
    "\n",
    "sns.set()"
   ]
  },
  {
   "cell_type": "markdown",
   "metadata": {},
   "source": [
    "## Reading/Writing Text Data with  Pandas"
   ]
  },
  {
   "cell_type": "markdown",
   "metadata": {},
   "source": [
    "One of the beauties of Pandas is the ease of data input/output that it provides. It has the capability to read a variety of common data formats including\n",
    "* Tabular text data\n",
    "    * [``read_csv``](http://pandas.pydata.org/pandas-docs/stable/generated/pandas.read_csv.html): read comma separated files\n",
    "    * [``read_table``](http://pandas.pydata.org/pandas-docs/stable/generated/pandas.read_table.html): read tab separated files\n",
    "        * These are both wrappers to the same function with different default values\n",
    "    * [``read_excel``](http://pandas.pydata.org/pandas-docs/stable/generated/pandas.read_excel.html)\n",
    "* Databases\n",
    "    * [``read_sql``](http://pandas.pydata.org/pandas-docs/stable/generated/pandas.read_sql.html)\n",
    "* Excel\n",
    "    \n",
    "* HDF5, a high performance file format for very large data\n",
    "    * [``read_hdf``](http://pandas.pydata.org/pandas-docs/version/0.17.0/generated/pandas.read_hdf.html)\n",
    "\n"
   ]
  },
  {
   "cell_type": "markdown",
   "metadata": {},
   "source": [
    "## What is HDF5?\n",
    "\n",
    "> HDF5 is a data model, library, and file format for storing and managing data. It supports an unlimited variety of datatypes, and is designed for flexible and efficient I/O and for high volume and complex data. HDF5 is portable and is extensible, allowing applications to evolve in their use of HDF5. ([HDF5 Home Page](https://www.hdfgroup.org/HDF5/))\n",
    "\n",
    "> HDF5 is a unique technology suite that makes possible the management of extremely large and complex data collections. ([HDF5 FAQ](https://www.hdfgroup.org/about/hdf_technologies.html))\n",
    "\n",
    "The roots of HDF5 go back to the late 1980s at the National Center for Supercomputing Applications and was shortly thereafter adopted by NASA as the data form for its Earth Observing System ([Wikipedia](https://en.wikipedia.org/wiki/Hierarchical_Data_Format))."
   ]
  },
  {
   "cell_type": "markdown",
   "metadata": {},
   "source": [
    "## Why Use HDF5?\n",
    "\n",
    "HDF5 offers both disk utilization and performance enhancements over naive file foramts, such as CSV files. We can illustrate this with gene expression data. In the ``/home/jovyan/DATA/Bioinf`` directory we have the PANCAN12 data file stored in two formats:\n",
    "\n",
    "1. The original text file (``PANCAN12.IlluminaHiSeq_RNASeqV2.geneExp.tumor_whitelist``)\n",
    "1. The data stored as an HDF5 file (``PANCAN12.IlluminaHiSeq_RNASeqV2.geneExp.tumor_whitelist.hdf5``\n",
    "\n",
    "The HDF5 file is only about 2/3 the size of the original file. We will also see noticable improvements in how long it takes to read the data from disk."
   ]
  },
  {
   "cell_type": "markdown",
   "metadata": {},
   "source": [
    "```bash\n",
    "-rw-r--r-- 1 jovyan staff 538029908 Jun  8 20:49 PANCAN12.IlluminaHiSeq_RNASeqV2.geneExp.tumor_whitelist.hdf5                      \n",
    "-rwxr-xr-x 1 jovyan staff 839788724 Jun  8 20:50 PANCAN12.IlluminaHiSeq_RNASeqV2.geneExp.tumor_whitelist                           \n",
    "```"
   ]
  },
  {
   "cell_type": "markdown",
   "metadata": {},
   "source": [
    "## Simple Profiling\n",
    "\n",
    "One simple way we can evaluate the performance of our programs is by using Python's ``time`` module to measure how  how long it takes for a command to execute. This is somewhat naive because our computers are multitasking and a program might take a longer or shorter amount of time because the computer was doing more or fewer competing tasks. But it is a reasonable starting approach.\n",
    "\n",
    "Within the ``time`` module is a function [``time``](https://docs.python.org/3/library/time.html) that, on Unix systems, returns the number of elapsed seconds since January 1, 1970 ([see Unix epoch](https://en.wikipedia.org/wiki/Unix_time)).\n",
    "\n",
    "We can save the Unix time before we start the command and compare that to the Unix time after our command execute. \n",
    "\n",
    "**Note:** it takes tens of seconds to read the file in."
   ]
  },
  {
   "cell_type": "code",
   "execution_count": null,
   "metadata": {},
   "outputs": [],
   "source": [
    "import time\n",
    "url_txt = \\\n",
    "    os.path.join(DATADIR,\n",
    "                 \"PANCAN12.IlluminaHiSeq_RNASeqV2.geneExp.tumor_whitelist\")\n",
    "start = time.time()\n",
    "pd.read_table(url_txt)\n",
    "time_table = time.time()-start\n",
    "print(\"Elapsed time to read original file\",time_table)\n",
    "#data"
   ]
  },
  {
   "cell_type": "markdown",
   "metadata": {},
   "source": [
    "### Now Measure Time to Read in HDF5"
   ]
  },
  {
   "cell_type": "code",
   "execution_count": null,
   "metadata": {},
   "outputs": [],
   "source": [
    "url_txt = os.path.join(DATADIR,\"PANCAN12.IlluminaHiSeq_RNASeqV2.geneExp.tumor_whitelist.hdf5\")\n",
    "start = time.time()\n",
    "pd.read_hdf(url_txt)\n",
    "time_hdf5 = time.time()-start\n",
    "print(\"Elapsed time to read hdf5 file\",time_hdf5)"
   ]
  },
  {
   "cell_type": "markdown",
   "metadata": {},
   "source": [
    "## Slicing"
   ]
  },
  {
   "cell_type": "code",
   "execution_count": null,
   "metadata": {},
   "outputs": [],
   "source": [
    "data[0:2]\n"
   ]
  },
  {
   "cell_type": "markdown",
   "metadata": {},
   "source": [
    "## Pandas and HDF5\n",
    "\n",
    "* HDF5 is a high performance binary data format written in C\n",
    "* HDF5 facilitates a number of performance enhancements such as being able to access parts of the data without having to read into memory the whole dataset\n",
    "* Python has too different packages provide an HDF5 interface\n",
    "    * [h5py](http://www.h5py.org/)\n",
    "    * [pytables](http://www.pytables.org/moin)\n",
    "* Pandas uses pytable to interface with hdf5\n"
   ]
  },
  {
   "cell_type": "code",
   "execution_count": null,
   "metadata": {},
   "outputs": [],
   "source": [
    "!conda install pytables -y"
   ]
  },
  {
   "cell_type": "code",
   "execution_count": null,
   "metadata": {},
   "outputs": [],
   "source": [
    "url_hdf = os.path.join(DATADIR, \"PANCAN12.IlluminaHiSeq_RNASeqV2.geneExp.tumor_whitelist.hdf5\")\n",
    "start = time.time()\n",
    "data_hdf5 = pd.read_hdf(url_hdf)\n",
    "time_hdf5 = time.time()-start\n",
    "print(\"HDF5 %5.4f x faster than traditional read\"%(time_table/time_hdf5))"
   ]
  },
  {
   "cell_type": "code",
   "execution_count": null,
   "metadata": {},
   "outputs": [],
   "source": [
    "data_hdf5"
   ]
  },
  {
   "cell_type": "code",
   "execution_count": null,
   "metadata": {},
   "outputs": [],
   "source": [
    "21000*3000*8\n"
   ]
  },
  {
   "cell_type": "code",
   "execution_count": null,
   "metadata": {},
   "outputs": [],
   "source": []
  }
 ],
 "metadata": {
  "kernelspec": {
   "display_name": "Python [default]",
   "language": "python",
   "name": "python3"
  },
  "language_info": {
   "codemirror_mode": {
    "name": "ipython",
    "version": 3
   },
   "file_extension": ".py",
   "mimetype": "text/x-python",
   "name": "python",
   "nbconvert_exporter": "python",
   "pygments_lexer": "ipython3",
   "version": "3.6.4"
  }
 },
 "nbformat": 4,
 "nbformat_minor": 1
}
