{
 "cells": [
  {
   "cell_type": "markdown",
   "metadata": {},
   "source": [
    "# [Pandas](http://pandas.pydata.org/)"
   ]
  },
  {
   "cell_type": "code",
   "execution_count": null,
   "metadata": {},
   "outputs": [],
   "source": [
    "% matplotlib inline"
   ]
  },
  {
   "cell_type": "code",
   "execution_count": null,
   "metadata": {},
   "outputs": [],
   "source": [
    "import os\n",
    "import shutil\n",
    "import glob\n",
    "import sqlite3 as sqlite\n",
    "DATADIR = os.path.join(os.path.expanduser(\"~\"),\"DATA\")\n",
    "print(os.path.exists(DATADIR))"
   ]
  },
  {
   "cell_type": "code",
   "execution_count": null,
   "metadata": {},
   "outputs": [],
   "source": [
    "import pandas as pd"
   ]
  },
  {
   "cell_type": "markdown",
   "metadata": {},
   "source": [
    "## Reading/Writing Text Data with  Pandas"
   ]
  },
  {
   "cell_type": "markdown",
   "metadata": {},
   "source": [
    "## Pandas and HDF5\n",
    "\n",
    "* HDF5 is a high performance binary data format written in C\n",
    "* HDF5 facilitates a number of performance enhancements such as being able to access parts of the data without having to read into memory the whole dataset\n",
    "* Python has too different packages provide an HDF5 interface\n",
    "    * [h5py](http://www.h5py.org/)\n",
    "    * [pytables](http://www.pytables.org/moin)\n",
    "* Pandas uses pytables to interface with hdf5\n"
   ]
  },
  {
   "cell_type": "code",
   "execution_count": null,
   "metadata": {},
   "outputs": [],
   "source": [
    "%%bash\n",
    "ls -ltra ~/DATA/Bioinf/PAN*"
   ]
  },
  {
   "cell_type": "code",
   "execution_count": null,
   "metadata": {},
   "outputs": [],
   "source": [
    "url = os.path.join(DATADIR, \"Bioinf\",\n",
    " \"PANCAN12.IlluminaHiSeq_RNASeqV2.geneExp.tumor_whitelist\")\n",
    "time_csv = %timeit -o -r 1 pd.read_table(url)"
   ]
  },
  {
   "cell_type": "code",
   "execution_count": null,
   "metadata": {},
   "outputs": [],
   "source": [
    "url = os.path.join(DATADIR, \"Bioinf\",\n",
    " \"PANCAN12.IlluminaHiSeq_RNASeqV2.geneExp.tumor_whitelist.hdf5\")\n",
    "time_hdf5 = %timeit -o -r 1 pd.read_hdf(url)"
   ]
  },
  {
   "cell_type": "code",
   "execution_count": null,
   "metadata": {},
   "outputs": [],
   "source": [
    "time_csv.best / time_hdf5.best"
   ]
  },
  {
   "cell_type": "code",
   "execution_count": null,
   "metadata": {},
   "outputs": [],
   "source": []
  }
 ],
 "metadata": {
  "kernelspec": {
   "display_name": "Python [default]",
   "language": "python",
   "name": "python3"
  },
  "language_info": {
   "codemirror_mode": {
    "name": "ipython",
    "version": 3
   },
   "file_extension": ".py",
   "mimetype": "text/x-python",
   "name": "python",
   "nbconvert_exporter": "python",
   "pygments_lexer": "ipython3",
   "version": "3.6.4"
  }
 },
 "nbformat": 4,
 "nbformat_minor": 1
}
