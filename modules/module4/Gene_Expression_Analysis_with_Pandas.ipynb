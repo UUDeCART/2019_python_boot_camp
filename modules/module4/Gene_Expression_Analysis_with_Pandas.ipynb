{
 "cells": [
  {
   "cell_type": "code",
   "execution_count": null,
   "metadata": {},
   "outputs": [],
   "source": [
    "% matplotlib inline"
   ]
  },
  {
   "cell_type": "markdown",
   "metadata": {},
   "source": [
    "# Analyzing Cancer Gene Expression Data Using Pandas\n",
    "\n",
    "**Data Science Bootcamp**   \n",
    "Created By: Shelley MacNeil   \n",
    "July 10, 2016 "
   ]
  },
  {
   "cell_type": "markdown",
   "metadata": {},
   "source": [
    "# Introduction to Pandas \n",
    "* Pandas is an open source Python library for data analysis, manipulation, and visualization\n",
    "* Pandas is awesome!\n",
    "* Similar to R programing \n",
    "* Makes data analysis in Python easier and faster\n",
    "* If you're not using Pandas in Python, you're probably working too hard..\n",
    "\n",
    "\n",
    "## We will use Pandas to...\n",
    "\n",
    "1) Read in Datasets  \n",
    "3) View and Slice Data  \n",
    "4) Merge Datasets  \n",
    "5) Parse and Save Data  \n",
    "6) Visualize and Analyze Data\n",
    "* Basic Statistics\n",
    "* Plotting the data\n",
    "    * Line Plots \n",
    "    * Boxplots\n",
    "    * Histograms\n",
    "    * Heatmaps\n",
    "    * Correlations   \n",
    "    \n",
    "## The Dataset\n",
    "\n",
    "* [``The Cancer Genome Atlas Project (TCGA)``](http://cancergenome.nih.gov/)\n",
    "    * Large scale multi-omic cancer project for multiple cancers \n",
    "    * Made data publically available for researchers to analyze and better understand/treat cancer : [``Data Available Here``](https://gdc-portal.nci.nih.gov/)\n",
    "    * Used to make numerous discoveries\n",
    "![TCGA Infograph](./Resources/TCGA_overview.png)\n",
    "\n",
    "### PANCAN12 Dataset\n",
    "* Gene Expression Data (RNA-seq) from TCGA\n",
    "    * 12 Different Cancer Types\n",
    "    * 20,501 Genes \n",
    "    * 3271 Cancer Patients \n",
    "![TCGA Pie Chart](./Resources/TCGA_pie_plot.png)\n"
   ]
  },
  {
   "cell_type": "markdown",
   "metadata": {},
   "source": [
    "### Importing Python Libraries Required for the Analysis\n",
    "\n",
    "Libraries provide standardized solutions for many problems that occur in every day programming. Documentation is available at https://docs.python.org or you can use the help function. \n",
    "\n",
    "The following packages are needed:\n",
    " \n",
    "* [``os``](https://docs.python.org/3/library/os.html?highlight=os#module-os): communicating with your operating system\n",
    "* [``time``](https://docs.python.org/2/library/time.html): provides various time-related functions\n",
    "* [``numpy``](http://www.numpy.org/): package for scientific computing in Python\n",
    "\n",
    "### Graphing Modules\n",
    "\n",
    "* [``matplotlib pyplot``](http://matplotlib.org/users/pyplot_tutorial.html): python 2D plotting library which produces publication quality figures in a variety of formats, and the most widely used graphing module\n",
    "* [``pandas``](http://pandas.pydata.org/): package providing high-performance, easy-to-use data structures and data analysis tools in Python\n",
    "* [``seaborn``](https://web.stanford.edu/~mwaskom/software/seaborn/): package for drawing attractive statistical graphics based on matplotlib \n",
    "\n",
    "DATADIR = file path to data"
   ]
  },
  {
   "cell_type": "code",
   "execution_count": null,
   "metadata": {},
   "outputs": [],
   "source": [
    "import os \n",
    "import time \n",
    "import numpy as np\n",
    "\n",
    "DATADIR = os.path.join(os.path.expanduser(\"~\"),\n",
    "                       \"DATA\", \"Bioinf\")\n",
    "print(os.path.exists(DATADIR))\n",
    "\n",
    "import matplotlib.pyplot as plt\n",
    "import pandas as pd\n",
    "import seaborn as sns\n",
    "sns.set()\n",
    "DATADIR"
   ]
  },
  {
   "cell_type": "markdown",
   "metadata": {},
   "source": [
    "## 1 . Reading Data into Python using Pandas "
   ]
  },
  {
   "cell_type": "markdown",
   "metadata": {},
   "source": [
    "One of the beauties of Pandas is the ease of data input/output that it provides  \n",
    "Pandas can read compressed data and very large data quickly  \n",
    "\n",
    "It has the capability to read:\n",
    "* Tabular text data\n",
    "    * [``read_csv``](http://pandas.pydata.org/pandas-docs/stable/generated/pandas.read_csv.html): read comma separated files\n",
    "    * [``read_table``](http://pandas.pydata.org/pandas-docs/stable/generated/pandas.read_table.html): read tab separated files\n",
    "    * These are both wrappers to the same function with different default values\n",
    "* Relational Databases\n",
    "    * [``read_sql``](http://pandas.pydata.org/pandas-docs/stable/generated/pandas.read_sql.html)\n",
    "* HDF5, a high performance file format for very large data\n",
    "    * [``read_hdf``](http://pandas.pydata.org/pandas-docs/version/0.17.0/generated/pandas.read_hdf.html)\n",
    "* Excel\n",
    "    * [``read_excel``](http://pandas.pydata.org/pandas-docs/stable/generated/pandas.read_excel.html)\n",
    "\n",
    "Pandas has the ability to read from a local disk or remote URL, with a wide variety of protocols  \n",
    "   * [``read_html``](http://pandas.pydata.org/pandas-docs/stable/generated/pandas.read_html.html): Read from HTML File\n",
    "   * ftp: Read files from a server\n",
    "   \n",
    "   \n",
    "### Recording Speed\n",
    "\n",
    "\n",
    "Often times we want to see how fast operations are happening  \n",
    "Use the **time** function to record how long it takes it read in the file\n",
    "\n",
    "### Specify that We are Using the Pandas Library with .pd\n",
    "Results in a Pandas Data Frame\n",
    "Specify row names with **index_col** and column names with **header** functions "
   ]
  },
  {
   "cell_type": "code",
   "execution_count": null,
   "metadata": {},
   "outputs": [],
   "source": [
    "geneexp_path = os.path.join(DATADIR,\"PANCAN12.IlluminaHiSeq_RNASeqV2.geneExp.tumor_whitelist\")\n",
    "geneexpression_data = pd.read_table(geneexp_path, index_col=0, header=0)\n"
   ]
  },
  {
   "cell_type": "markdown",
   "metadata": {},
   "source": [
    "## Reading in a Subset of the Data\n",
    "\n",
    "### Specify what Columns and Row Numbers We Want to Read in \n",
    "* ``nrows``: number of rows to read\n",
    "* ``usecols``: a range of column numbers or collection of names of columns to use"
   ]
  },
  {
   "cell_type": "code",
   "execution_count": null,
   "metadata": {},
   "outputs": [],
   "source": [
    "subdata = pd.read_table(geneexp_path,\n",
    "            nrows=5,\n",
    "            usecols=range(20,40))\n",
    "subdata"
   ]
  },
  {
   "cell_type": "markdown",
   "metadata": {},
   "source": [
    "### Read in Specific Columns by Name"
   ]
  },
  {
   "cell_type": "code",
   "execution_count": null,
   "metadata": {},
   "outputs": [],
   "source": [
    "subdata_col_names = pd.read_table(geneexp_path, \n",
    "            usecols=[\"TCGA-05-4396\",\"TCGA-05-4397\",\n",
    "                     \"TCGA-05-4398\",\"TCGA-05-4402\",\n",
    "                     \"TCGA-05-4403\"],)\n",
    "subdata_col_names"
   ]
  },
  {
   "cell_type": "markdown",
   "metadata": {},
   "source": [
    "## 2. Viewing Data with Pandas\n",
    "* gene expression values for 3271 patients, with 12 different cancers, for 20,501 genes \n",
    "    * [``shape function``](http://pandas.pydata.org/pandas-docs/version/0.17.0/generated/pandas.DataFrame.shape.html): tells us the number of rows and coulmns in the dataframe\n",
    "    * **Columns** = patient samples (TCGA identifiers)\n",
    "    * **Rows** = gene names"
   ]
  },
  {
   "cell_type": "code",
   "execution_count": null,
   "metadata": {},
   "outputs": [],
   "source": [
    "print(geneexpression_data.shape)\n",
    "geneexpression_data"
   ]
  },
  {
   "cell_type": "markdown",
   "metadata": {},
   "source": [
    "## Slicing the Data\n",
    "\n",
    "### This file is rather big so lets look at the data in smaller chunks\n",
    "\n",
    "View the top and bottom rows of the data using **.head ( ) and .tail ( )** commands"
   ]
  },
  {
   "cell_type": "code",
   "execution_count": null,
   "metadata": {},
   "outputs": [],
   "source": [
    "geneexpression_data.head()"
   ]
  },
  {
   "cell_type": "code",
   "execution_count": null,
   "metadata": {},
   "outputs": [],
   "source": [
    "geneexpression_data.tail()"
   ]
  },
  {
   "cell_type": "markdown",
   "metadata": {},
   "source": [
    "## View Specifc Columns and Rows using Indexing (.ix command)\n",
    "\n",
    "#### Data frame structure in brackets\n",
    "* 1st position = rows\n",
    "* second positon = columns\n",
    "* [ rows, columns ]\n",
    "\n",
    "### View specifc columns\n",
    "Use the semi-colon to take all rows"
   ]
  },
  {
   "cell_type": "code",
   "execution_count": null,
   "metadata": {},
   "outputs": [],
   "source": [
    "first_5_columns = geneexpression_data.ix[:,0:5]\n",
    "first_5_columns.head()"
   ]
  },
  {
   "cell_type": "markdown",
   "metadata": {},
   "source": [
    "### View specific rows \n",
    "Use the semi-colon to take all columns"
   ]
  },
  {
   "cell_type": "code",
   "execution_count": null,
   "metadata": {},
   "outputs": [],
   "source": [
    "first_5_rows = geneexpression_data.ix[0:5,:]\n",
    "first_5_rows"
   ]
  },
  {
   "cell_type": "markdown",
   "metadata": {},
   "source": [
    "## Exercise 1\n",
    "\n",
    "Use the method above(.ix) to only view the columns **3000 through 3005** and rows **8000 through 8010** "
   ]
  },
  {
   "cell_type": "code",
   "execution_count": null,
   "metadata": {},
   "outputs": [],
   "source": [
    "Parsed_Data = \n",
    "Parsed_Data"
   ]
  },
  {
   "cell_type": "markdown",
   "metadata": {},
   "source": [
    "##  Reading in the Metadata\n",
    "\n",
    "**Metadata** = Data that contains information about other data \n",
    "\n",
    "**PANCAN12_CancerTypes.txt** = File containing information about which type of cancer each patient has (5125 samples)"
   ]
  },
  {
   "cell_type": "code",
   "execution_count": null,
   "metadata": {},
   "outputs": [],
   "source": [
    "DATADIR2 = os.path.join(os.getcwd(), \"Resources\")\n",
    "DATADIR2\n",
    "cancer_type_path = os.path.join(DATADIR2,\"PANCAN12_CancerTypes.txt\")\n",
    "cancer_type_path\n",
    "cancer_type_data = pd.read_table(cancer_type_path, index_col=0, header=0)\n",
    "print(cancer_type_data.shape)\n",
    "cancer_type_data"
   ]
  },
  {
   "cell_type": "markdown",
   "metadata": {},
   "source": [
    "## 3. Merging the Gene Expression Data with the Metadata\n",
    "\n",
    "We need to merge the Metadata with our gene expression data so we can analyze the different cancer types\n",
    "\n",
    "### Transpose the Gene Expression Data\n",
    "\n",
    "The metadata has the patient identifiers as the row names \n",
    "The gene expression data has the patient identifiers as the column names\n",
    "Therefore, we need to transpose the gene expression data so both files are in the same orientation\n",
    "* **.transpose( ) function**\n",
    "\n",
    "![Transpose Visulization](https://upload.wikimedia.org/wikipedia/commons/e/e4/Matrix_transpose.gif)"
   ]
  },
  {
   "cell_type": "code",
   "execution_count": null,
   "metadata": {},
   "outputs": [],
   "source": [
    "geneexpression_data_t = geneexpression_data.transpose()\n",
    "geneexpression_data_t.head()"
   ]
  },
  {
   "cell_type": "markdown",
   "metadata": {},
   "source": [
    "###  Merge the Data with the Meta Data\n",
    "\n",
    "* **.merge() Function** : Must specify which columns to merge on using **left/right_index = TRUE**\n",
    "\n",
    "**Result** =  combined dataset with both gene expression values and information about the cancer type for each patient"
   ]
  },
  {
   "cell_type": "code",
   "execution_count": null,
   "metadata": {},
   "outputs": [],
   "source": [
    "geneexpression_data_classes= cancer_type_data.merge(geneexpression_data_t, left_index=True, right_index=True)\n",
    "geneexpression_data_classes.head()"
   ]
  },
  {
   "cell_type": "markdown",
   "metadata": {},
   "source": [
    "### Sort the Data Based on Cancer Type \n",
    "* **.sort_values** function"
   ]
  },
  {
   "cell_type": "code",
   "execution_count": null,
   "metadata": {},
   "outputs": [],
   "source": [
    "geneexpression_data_sorted = geneexpression_data_classes.sort_values(['Cancer'], ascending=True)\n",
    "geneexpression_data_sorted"
   ]
  },
  {
   "cell_type": "markdown",
   "metadata": {},
   "source": [
    "## 4. Create a Pie Chart for Cancer Frequency \n",
    "* What percentages of each cancer type are found in the PANCAN12 dataset?\n",
    "* **.value_counts( )** counts the number of times each cancer occurs\n",
    "* **.plot.pie( )** creates the pie chart and percentages"
   ]
  },
  {
   "cell_type": "code",
   "execution_count": null,
   "metadata": {},
   "outputs": [],
   "source": [
    "freq_cancer_types = geneexpression_data_sorted[\"Cancer\"].value_counts()\n",
    "print(freq_cancer_types)\n",
    "freq_cancer_types.plot.pie(fontsize=14, autopct='%1.1f%%')\n",
    "#pie_plot"
   ]
  },
  {
   "cell_type": "markdown",
   "metadata": {},
   "source": [
    "## 5. Parsing Data with Pandas\n",
    "\n",
    "Often times we only need a subset of the data and need to create a new dataframe from the existing data.\n",
    "\n",
    "Since this file contains information for 12 different cancers types we can subset the cancers we want to focus on using:\n",
    "\n",
    "* Select patient samples (rows) which have Lung Adendocarcinoma (LUAD): 253 patient samples\n",
    "    * **.loc function** : selects data based on a label"
   ]
  },
  {
   "cell_type": "code",
   "execution_count": null,
   "metadata": {},
   "outputs": [],
   "source": [
    "LUAD = geneexpression_data_sorted.loc[geneexpression_data_sorted['Cancer'].isin(['LUAD'])]\n",
    "print(LUAD.shape)\n",
    "LUAD"
   ]
  },
  {
   "cell_type": "markdown",
   "metadata": {},
   "source": [
    "### Exercise 2\n",
    "\n",
    "Write a code that can parse both LUAD and LUSC simultaneously \n",
    "\n",
    "**Hint:** Use the same code as above, but add LUSC\n",
    "\n"
   ]
  },
  {
   "cell_type": "code",
   "execution_count": null,
   "metadata": {},
   "outputs": [],
   "source": [
    "LUAD_LUSC = \n",
    "print(LUAD_LUSC.shape)\n",
    "LUAD_LUSC"
   ]
  },
  {
   "cell_type": "markdown",
   "metadata": {},
   "source": [
    "##  6. Write the Data to a File\n",
    "\n",
    "Exporting Pandas dataframes to multiple different file types with ease\n",
    "[``Alternative Formats``](https://pandas-docs.github.io/pandas-docs-travis/io.html)\n",
    "\n",
    "* .to_csv\n",
    "* .to_excel\n",
    "* .to_sql\n",
    "* .to_html\n",
    "* .to_stata\n",
    "\n",
    "Here, we will export to a comma seperated file (.csv)\n"
   ]
  },
  {
   "cell_type": "code",
   "execution_count": null,
   "metadata": {},
   "outputs": [],
   "source": [
    "out_file_path= os.path.join(DATADIR2,\"LUAD.csv\")\n",
    "LUAD.to_csv(out_file_path, sep= \"\\t\")"
   ]
  },
  {
   "cell_type": "markdown",
   "metadata": {},
   "source": [
    " ## 6. Perform Basic Statistics with Pandas\n",
    " \n",
    " ### **The .describe( ) function** \n",
    " * computes a variety of summary statistics on the columns of the data frame"
   ]
  },
  {
   "cell_type": "code",
   "execution_count": null,
   "metadata": {},
   "outputs": [],
   "source": [
    "first_100_genes = LUAD.ix[:,0:100]\n",
    "stats = first_100_genes.describe()\n",
    "stats"
   ]
  },
  {
   "cell_type": "markdown",
   "metadata": {},
   "source": [
    "## 7. Normalizing the Data\n",
    "\n",
    "### We do we Need to Log the Gene Expression Data\n",
    "\n",
    "* As seen, the range of values for each gene is very large and not of the same magnitute\n",
    "* Logging gene expression data normalizes that data\n",
    "* Creates a normal distribution nessecary for particular statistical tests\n",
    "* Samller numbers are better for graphing\n",
    "* [``Tips for analyzing gene expression data``](https://www.biogazelle.com/seven-tips-bio-statistical-analysis-gene-expression-data)\n",
    "\n",
    "### Create a Histogram of Data Before Logging \n",
    "* A **Histogram** is a graphical representation of the distribution of numerical data\n",
    "\n",
    "* y-axis = frequency \n",
    "* x-axis = gene expression values\n",
    "* Left Skewed Distribution\n",
    "\n",
    "### EGFR \n",
    "* EGFR is a cell surface protein that binds to epidermal growth factor and induces cell proliferation. Overexpression of EGFR can lead to cancer\n"
   ]
  },
  {
   "cell_type": "code",
   "execution_count": null,
   "metadata": {},
   "outputs": [],
   "source": [
    "EGFR = geneexpression_data_sorted[['EGFR']]\n",
    "EGFR.hist(sharey=True, figsize= (5,5), xlabelsize=11, ylabelsize=14)\n",
    "plt.xlabel(\"Gene Expression Values (unlogged)\",fontsize= 18 )\n",
    "plt.ylabel(\"Frequency\",fontsize= 18 )"
   ]
  },
  {
   "cell_type": "markdown",
   "metadata": {},
   "source": [
    "### We will log the data with the **.log**  function\n",
    "\n",
    "We will only log coulmns 1:20502 because column 0 is the Cancer Type, and you cannot do math on strings. \n",
    "\n",
    "But, why are we getting Infinity?? "
   ]
  },
  {
   "cell_type": "code",
   "execution_count": null,
   "metadata": {},
   "outputs": [],
   "source": [
    "gene_expression_log = np.log(geneexpression_data.transpose())\n",
    "gene_expression_log.head()"
   ]
  },
  {
   "cell_type": "markdown",
   "metadata": {},
   "source": [
    "## Exercise 2 \n",
    "\n",
    "Add another line of code, that does not return infinity\n",
    "\n",
    "**Hint**:\n",
    "* What creates an infinite log?\n",
    "* You will need to perfom some simple math on the **gene_expression_log_math** code before logging it\n"
   ]
  },
  {
   "cell_type": "code",
   "execution_count": null,
   "metadata": {},
   "outputs": [],
   "source": [
    "gene_expression_log_math = geneexpression_data.transpose()\n",
    "gene_expression_log = np.log(gene_expression_log_math)\n",
    "gene_expression_log.head()"
   ]
  },
  {
   "cell_type": "markdown",
   "metadata": {},
   "source": [
    "### Remerge with Meta Data\n",
    "\n",
    "* we have to remove it when logging"
   ]
  },
  {
   "cell_type": "code",
   "execution_count": null,
   "metadata": {},
   "outputs": [],
   "source": [
    "gene_expression_log_meta= cancer_type_data.merge(gene_expression_log, left_index=True, right_index=True)\n",
    "gene_expression_log_meta.head()"
   ]
  },
  {
   "cell_type": "markdown",
   "metadata": {},
   "source": [
    "### The Logged Data is Distribtuted More Evenly"
   ]
  },
  {
   "cell_type": "code",
   "execution_count": null,
   "metadata": {},
   "outputs": [],
   "source": [
    "EGFR_log = gene_expression_log_meta[['Cancer', 'EGFR']]\n",
    "EGFR_log.hist(sharey=True, figsize= (5,5), xlabelsize=11, ylabelsize=14)\n",
    "plt.xlabel(\"Gene Expression Values (logged)\",fontsize= 18 )\n",
    "plt.ylabel(\"Frequency\",fontsize= 18 )"
   ]
  },
  {
   "cell_type": "markdown",
   "metadata": {},
   "source": [
    "## 8. More on Plotting \n",
    "\n",
    "### Create a Basic Plot of EGFR Expression Across All Patients"
   ]
  },
  {
   "cell_type": "code",
   "execution_count": null,
   "metadata": {},
   "outputs": [],
   "source": [
    "basic_plot = EGFR_log.plot(rot=45, title='Expression of EGFR across all samples', grid = False, fontsize= 14,color='g', figsize= (10,8))\n",
    "basic_plot.set_xlabel(\"Patient Samples\",fontsize= 18 )\n",
    "basic_plot.set_ylabel(\"Gene Expression (logged)\", fontsize= 18)"
   ]
  },
  {
   "cell_type": "markdown",
   "metadata": {},
   "source": [
    "### Exercise 3\n",
    "\n",
    "Plot an interesting region of the data, any region is fine\n",
    "\n",
    "**Hint**:\n",
    "* Make a new variable of the subset data, and plot it\n",
    "* subset with the .xi function"
   ]
  },
  {
   "cell_type": "code",
   "execution_count": null,
   "metadata": {},
   "outputs": [],
   "source": [
    "subset= \n",
    "basic_plot = subset.plot(rot=45, title='Expression of EGFR across all samples', grid = False, fontsize= 14,color='g', figsize= (10,8))\n",
    "basic_plot.set_xlabel(\"Patient Samples\",fontsize= 18 )\n",
    "basic_plot.set_ylabel(\"Gene Expression (logged)\", fontsize= 18)\n",
    "\n"
   ]
  },
  {
   "cell_type": "markdown",
   "metadata": {},
   "source": [
    "## Create a Boxplot for EGFR Gene Expression Across all Cancer Types\n",
    "\n",
    "* Now that we have a normal distribution we can compare data points\n",
    "* Do particular cancers have higher EGFR expression than others? \n"
   ]
  },
  {
   "cell_type": "markdown",
   "metadata": {},
   "source": [
    "### Create the boxplot \n",
    "\n",
    "* Glioblastoma(GBM) has the highest EGFR expression which in well-known\n"
   ]
  },
  {
   "cell_type": "code",
   "execution_count": null,
   "metadata": {},
   "outputs": [],
   "source": [
    "EGFR_log.boxplot(by=\"Cancer\", fontsize=14, grid=False,figsize= (8,6) )\n",
    "plt.title(\"Boxplot of EGFR Expression for Each Cancer\", fontsize = 16 )\n",
    "plt.suptitle(\"\")\n",
    "plt.xlabel(\"Type of Cancer\",fontsize= 18 )\n",
    "plt.ylabel(\"Gene Expression (logged)\", fontsize= 18) "
   ]
  },
  {
   "cell_type": "markdown",
   "metadata": {},
   "source": [
    "## 9. Making a Heatmap using the Seaborn Library\n",
    "\n",
    "Above we imported the **Seaborn** library as sns\n",
    "* We will use to to make a **HeatMap** which is graphical representation of data where the individual values contained in a DataFrame are represented as colors. \n",
    "* First we subset the samples with \"BRCA\" cancer\n",
    "* Then we make a basic Heatmap and label it"
   ]
  },
  {
   "cell_type": "markdown",
   "metadata": {},
   "source": [
    "### Exercise 4\n",
    "\n",
    "Pull out the breast cancer samples only\n",
    "\n",
    "**Hints**\n",
    "* Modify the code we used to parse the LUAD cancers\n",
    "* make sure to parse from the logged data (gene_expression_log_meta)"
   ]
  },
  {
   "cell_type": "code",
   "execution_count": null,
   "metadata": {},
   "outputs": [],
   "source": [
    "BRCA = \n",
    "BRCA.head()"
   ]
  },
  {
   "cell_type": "markdown",
   "metadata": {},
   "source": [
    "### Make the HeatMap"
   ]
  },
  {
   "cell_type": "code",
   "execution_count": null,
   "metadata": {},
   "outputs": [],
   "source": [
    "BRCA_short = BRCA.ix[0:30,1:30]\n",
    "\n",
    "sns.heatmap(BRCA_short, linewidths=.5, annot=False)\n",
    "plt.title(\"Heat Map for Gene Expression in Breast Cancer \", fontsize = 16)\n",
    "plt.xlabel(\"Genes\",fontsize= 18 )\n",
    "plt.ylabel(\"Breast Cancer Patient Samples\", fontsize= 18) \n"
   ]
  },
  {
   "cell_type": "markdown",
   "metadata": {},
   "source": [
    "## Cluster the Heatmap to Find Patterns\n",
    "\n",
    "* using the **cluster map** Seaborn function to add dendrograms\n",
    "* hierarchical clustering arranging data in a hierarchy based on the distance or similarity between them so discover patterns "
   ]
  },
  {
   "cell_type": "code",
   "execution_count": null,
   "metadata": {},
   "outputs": [],
   "source": [
    "sns.clustermap(BRCA_short, yticklabels=False, cmap=\"RdBu_r\", linewidths=.5, figsize=(12, 10))\n",
    " "
   ]
  },
  {
   "cell_type": "markdown",
   "metadata": {},
   "source": [
    "## 10. Making Correlation Heatmaps\n",
    "\n",
    "* Often times we need to determine how similar or differnt two datasets are \n",
    "* **.corr() function** calculations the correlation of all samples in a dataframe\n",
    "* Different techniques (Spearman & Pearson) based on data distribution\n",
    "\n",
    "#### Here we are correlating the gene expression values for 30 genes with eachother to see if any patterns emerge\n",
    "* **Red** = highly correlated; **1** = perfect correlation \n",
    "* **Blue** = highly negatively correlated; **- value** = negatively correlated\n",
    "* **white** = no correlation; **0** = no correlation"
   ]
  },
  {
   "cell_type": "code",
   "execution_count": null,
   "metadata": {},
   "outputs": [],
   "source": [
    "BRCA_corrs = BRCA_short.corr( method='spearman')\n",
    "sns.clustermap(BRCA_corrs, vmax=0.8, square=True, yticklabels=False)\n"
   ]
  },
  {
   "cell_type": "markdown",
   "metadata": {},
   "source": [
    "### Question??? "
   ]
  }
 ],
 "metadata": {
  "kernelspec": {
   "display_name": "Python 2",
   "language": "python",
   "name": "python2"
  },
  "language_info": {
   "codemirror_mode": {
    "name": "ipython",
    "version": 2
   },
   "file_extension": ".py",
   "mimetype": "text/x-python",
   "name": "python",
   "nbconvert_exporter": "python",
   "pygments_lexer": "ipython2",
   "version": "2.7.13"
  }
 },
 "nbformat": 4,
 "nbformat_minor": 1
}
