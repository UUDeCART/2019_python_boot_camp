{
 "cells": [
  {
   "cell_type": "code",
   "execution_count": null,
   "metadata": {},
   "outputs": [],
   "source": [
    "from IPython.display import YouTubeVideo\n",
    "YouTubeVideo(\"FEySqC72B1o\")"
   ]
  },
  {
   "cell_type": "markdown",
   "metadata": {},
   "source": [
    "# Finding Gene Variants from Literature\n",
    "\n",
    "![condon](./AACodon.jpg)\n",
    "\n",
    "![doublehelix](doublehelix.png)"
   ]
  },
  {
   "cell_type": "code",
   "execution_count": null,
   "metadata": {},
   "outputs": [],
   "source": [
    "import pandas as pd\n",
    "import re\n",
    "import numpy as np"
   ]
  },
  {
   "cell_type": "code",
   "execution_count": null,
   "metadata": {},
   "outputs": [],
   "source": [
    "##Read in dataframe\n",
    "df = pd.read_excel(\"Yaeger2018.xlsx\", header=0)\n",
    "print(df.shape)\n",
    "df.head()"
   ]
  },
  {
   "cell_type": "markdown",
   "metadata": {},
   "source": [
    "### Select columns"
   ]
  },
  {
   "cell_type": "code",
   "execution_count": null,
   "metadata": {},
   "outputs": [],
   "source": [
    "#Select certain columns\n",
    "df =  df[df.columns[0:4]]\n",
    "df.head()"
   ]
  },
  {
   "cell_type": "code",
   "execution_count": null,
   "metadata": {},
   "outputs": [],
   "source": [
    "##Select certain columns\n",
    "columns = ['Hugo_Symbol', 'HGVSc', 'HGVSp_Short', 'dbSNP_RS']\n",
    "\n",
    "#fill any empty cell with an na value\n",
    "df[columns] = df[columns].fillna(\"\")\n",
    "print(len(df))\n",
    "\n",
    "#Drop any duplicate values\n",
    "df.drop_duplicates(['HGVSc'], inplace=True)\n",
    "print(len(df))"
   ]
  },
  {
   "cell_type": "markdown",
   "metadata": {},
   "source": [
    "### Select genes"
   ]
  },
  {
   "cell_type": "code",
   "execution_count": null,
   "metadata": {},
   "outputs": [],
   "source": [
    "genes = ('AKT1','APC','APLF','ARID1A','AR','ATM','ATR','FRP1','AXIN2','BARD1','BLM','BMPR1A','BRAF','BRCA1','BRCA2',\n",
    "'BRIP1','BTG2','CCND3','CCNE1','CDH1','CDK4','CDK12','CDKN1B','CHD4','CHEK1','CHEK2','KIT','CSMD3','CTCF','CUL3','DDR2',\n",
    "'DHX9','BAP1','DNMT3A','EGFR','ERBB1','EDNRB','ELF3','EMSY','EP300','EPCAM','ERBB2','ERBB2IP','ERCC1','ERCC2','ERCC3',\n",
    "'ERCC5','EYA4','FGFR2','FGFR3','FGFR4','FAM123B ','AMER1','FAM175A','ABRAXAS1','FANCA','FANCD2','FANCI','FANCL','FANCM',\n",
    "'SLX4 ','ABRAXAS1','FBXW7','FOXA1','FOXP1','FOXQ1','GATA3','GREM1','GALNT12','FGFR1','HOXB13','PSGD','HDAC2','KDM6A',\n",
    "'KEAP1','KRAS','KLF5','KMT2D','KMT2C','KMT2B','MAP2K1','MAP2K2','MAP2K4','MAP3K1','MET','MLH1','MLH3','MLLT4','MRE11A',\n",
    "'MSH2','MSH3','MSH6','NBN','NCOR1','NCOR2','NF1','NFE2L2','NTHL1','NOTCH1','NOTCH2','NRAS','PAIP1','MYH','PALB2',\n",
    "'PIK3CA','PMS2','POLD1','POLE','POLG','POLH','POLN','POLQ','PPPRR2A','PRKDC','PSMC3IP','PTPRD','PTEN','CDKN2A','P14ARF',\n",
    "'P16','RAD51','RAD51B','RAD51C','RAD51D','RAD54L','RB1','RECQL','RBM10','RET','REV3L','RFC4','RHOA','RHOB','RIF1','RINT1',\n",
    "'RPS20','PPP2R2A','RAD50','REPA1','RNF43','RUNX1','RXRA','SCG5','SF3B1','SMAD2','SMAD4','SMARCA1','SMARCA4','SOX9',\n",
    "'SPOP','STAG2','STK11','TCF7L2','TP53','TSC1','TXNIP','TOP1','TOPO1','U2AF1','ZFP36L1','ZFP36L2')"
   ]
  },
  {
   "cell_type": "code",
   "execution_count": null,
   "metadata": {},
   "outputs": [],
   "source": [
    "df2 = df.loc[df['Hugo_Symbol'].isin(genes)]\n",
    "print(len(df2))\n",
    "df2.head()"
   ]
  },
  {
   "cell_type": "code",
   "execution_count": null,
   "metadata": {},
   "outputs": [],
   "source": [
    "YouTubeVideo(\"-AMpVbzsiYs\")"
   ]
  },
  {
   "cell_type": "markdown",
   "metadata": {},
   "source": [
    "### Find Variants\n",
    "#### Substitution\n",
    "\n",
    "**Pattern**: `c.2047C>T`\n",
    "\n",
    "* `c.`\n",
    "* A number\n",
    "* A base (ACGT)\n",
    "* A `>` symbol\n",
    "* A base (ACGT)\n",
    "\n",
    "```Python\n",
    "r\"c\\.d+[ACTG]>[ACTG]\"\n",
    "```\n",
    "\n",
    "### Exercise\n",
    "\n",
    "Write a regular expression to capture the nuclitide position, the wild type base, and the variant base as shown in the video."
   ]
  },
  {
   "cell_type": "code",
   "execution_count": null,
   "metadata": {},
   "outputs": [],
   "source": []
  },
  {
   "cell_type": "markdown",
   "metadata": {},
   "source": [
    "### Find Variants\n",
    "#### Deletions\n",
    "\n",
    "**Pattern**\n",
    "\n",
    "`ENST00000374690.3:c.213_239delGCAGCAGCAGCAGCAGCAGCAGCAGCA'`\n",
    "* `c.`\n",
    "* number (deletion start)\n",
    "* `_`\n",
    "* number (deletion end)\n",
    "\n",
    "### Exercise\n",
    "#### Write a regular expression to capture deltion start and deletion end"
   ]
  },
  {
   "cell_type": "code",
   "execution_count": null,
   "metadata": {},
   "outputs": [],
   "source": [
    "YouTubeVideo(\"nNUE_PrfrQ8\")"
   ]
  },
  {
   "cell_type": "markdown",
   "metadata": {},
   "source": [
    "### p. Parsing `HGVSp_Short`\n",
    "\n",
    "* Pattern: `p.Gln72_Gln80del`\n",
    "\n",
    "### Exercise\n",
    "#### Write a regular expression to find the first number in the protein name (e.g. 72 above)\n"
   ]
  },
  {
   "cell_type": "code",
   "execution_count": null,
   "metadata": {},
   "outputs": [],
   "source": [
    "df2[\"Protein_number\"] = df2[\"HGVSp_Short\"].apply(find3)\n",
    "df2.head()"
   ]
  },
  {
   "cell_type": "markdown",
   "metadata": {},
   "source": [
    "### Exercise\n",
    "Use the regular expressions you wrote above and Pandas operations to create a Pandas DataFrame whose `head()` looks like the following."
   ]
  },
  {
   "cell_type": "markdown",
   "metadata": {},
   "source": [
    "<table border=\"1\" class=\"dataframe\">\n",
    "  <thead>\n",
    "    <tr style=\"text-align: right;\">\n",
    "      <th></th>\n",
    "      <th>Hugo_Symbol</th>\n",
    "      <th>HGVSc</th>\n",
    "      <th>HGVSp_Short</th>\n",
    "      <th>dbSNP_RS</th>\n",
    "      <th>Protein_number</th>\n",
    "      <th>nucltide_pos</th>\n",
    "      <th>wild_type_Base</th>\n",
    "      <th>variant_Base</th>\n",
    "      <th>Del_Start</th>\n",
    "      <th>Del_End</th>\n",
    "    </tr>\n",
    "  </thead>\n",
    "  <tbody>\n",
    "    <tr>\n",
    "      <th>0</th>\n",
    "      <td>AR</td>\n",
    "      <td>ENST00000374690.3:c.2047C&gt;T</td>\n",
    "      <td>p.Pro683Ser</td>\n",
    "      <td></td>\n",
    "      <td>683</td>\n",
    "      <td>2047</td>\n",
    "      <td>C</td>\n",
    "      <td>T</td>\n",
    "      <td>NaN</td>\n",
    "      <td>NaN</td>\n",
    "    </tr>\n",
    "    <tr>\n",
    "      <th>1</th>\n",
    "      <td>AR</td>\n",
    "      <td>ENST00000374690.3:c.213_239delGCAGCAGCAGCAGCAG...</td>\n",
    "      <td>p.Gln72_Gln80del</td>\n",
    "      <td></td>\n",
    "      <td>72</td>\n",
    "      <td>NaN</td>\n",
    "      <td>NaN</td>\n",
    "      <td>NaN</td>\n",
    "      <td>213</td>\n",
    "      <td>239</td>\n",
    "    </tr>\n",
    "    <tr>\n",
    "      <th>2</th>\n",
    "      <td>AR</td>\n",
    "      <td>ENST00000374690.3:c.2246C&gt;A</td>\n",
    "      <td>p.Ala749Asp</td>\n",
    "      <td></td>\n",
    "      <td>749</td>\n",
    "      <td>2246</td>\n",
    "      <td>C</td>\n",
    "      <td>A</td>\n",
    "      <td>NaN</td>\n",
    "      <td>NaN</td>\n",
    "    </tr>\n",
    "    <tr>\n",
    "      <th>3</th>\n",
    "      <td>AR</td>\n",
    "      <td>ENST00000374690.3:c.2256G&gt;A</td>\n",
    "      <td>p.Trp752*</td>\n",
    "      <td></td>\n",
    "      <td>752</td>\n",
    "      <td>2256</td>\n",
    "      <td>G</td>\n",
    "      <td>A</td>\n",
    "      <td>NaN</td>\n",
    "      <td>NaN</td>\n",
    "    </tr>\n",
    "    <tr>\n",
    "      <th>4</th>\n",
    "      <td>AR</td>\n",
    "      <td>ENST00000374690.3:c.2296G&gt;A</td>\n",
    "      <td>p.Ala766Thr</td>\n",
    "      <td></td>\n",
    "      <td>766</td>\n",
    "      <td>2296</td>\n",
    "      <td>G</td>\n",
    "      <td>A</td>\n",
    "      <td>NaN</td>\n",
    "      <td>NaN</td>\n",
    "    </tr>\n",
    "  </tbody>\n",
    "</table>"
   ]
  }
 ],
 "metadata": {
  "kernelspec": {
   "display_name": "Python [default]",
   "language": "python",
   "name": "python3"
  },
  "language_info": {
   "codemirror_mode": {
    "name": "ipython",
    "version": 3
   },
   "file_extension": ".py",
   "mimetype": "text/x-python",
   "name": "python",
   "nbconvert_exporter": "python",
   "pygments_lexer": "ipython3",
   "version": "3.6.4"
  }
 },
 "nbformat": 4,
 "nbformat_minor": 2
}
