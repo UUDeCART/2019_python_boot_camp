{
 "cells": [
  {
   "cell_type": "markdown",
   "metadata": {},
   "source": [
    "# Using Regular Expressions to Extract Information from Obituaries"
   ]
  },
  {
   "cell_type": "code",
   "execution_count": null,
   "metadata": {},
   "outputs": [],
   "source": [
    "import re\n",
    "import pandas as pd\n",
    "from IPython.display import YouTubeVideo"
   ]
  },
  {
   "cell_type": "code",
   "execution_count": null,
   "metadata": {},
   "outputs": [],
   "source": [
    "YouTubeVideo(\"dkdpvf6XHPQ\")"
   ]
  },
  {
   "cell_type": "code",
   "execution_count": null,
   "metadata": {},
   "outputs": [],
   "source": [
    "with open(\"../Resources/obits.txt\") as f0:\n",
    "    data = f0.readlines()"
   ]
  },
  {
   "cell_type": "code",
   "execution_count": null,
   "metadata": {},
   "outputs": [],
   "source": [
    "data = [d for d in data if d[0] not in \"0123456789\"]"
   ]
  },
  {
   "cell_type": "code",
   "execution_count": null,
   "metadata": {},
   "outputs": [],
   "source": [
    "txt = \"\".join(data)"
   ]
  },
  {
   "cell_type": "markdown",
   "metadata": {},
   "source": [
    "## Extracting Names\n",
    "\n",
    "* Do we want to capture first, last, middle names together or separately?\n",
    "* What patterns can we exploit?\n",
    "* What are the variations in names?"
   ]
  },
  {
   "cell_type": "code",
   "execution_count": null,
   "metadata": {},
   "outputs": [],
   "source": [
    "print(len(txt.split(\"\\n\")))"
   ]
  },
  {
   "cell_type": "code",
   "execution_count": null,
   "metadata": {},
   "outputs": [],
   "source": [
    "print(txt)"
   ]
  },
  {
   "cell_type": "code",
   "execution_count": null,
   "metadata": {},
   "outputs": [],
   "source": [
    "re.findall(r\"(?P<last_name>[cA-Z]{2,}), (?P<first_name>[A-Z][a-z]+)( (?P<middle_name>[A-Za-z.]+))?\", txt)"
   ]
  },
  {
   "cell_type": "code",
   "execution_count": null,
   "metadata": {},
   "outputs": [],
   "source": [
    "reName = re.compile(r\"(?P<last_name>[cA-Z]{2,}), (?P<first_name>[A-Z][a-z]+)( (?P<middle_name>[A-Za-z.]+))?\")\n",
    "for match in reName.finditer(txt):\n",
    "    print(match.groupdict())"
   ]
  },
  {
   "cell_type": "markdown",
   "metadata": {},
   "source": [
    "## Extracting Age\n",
    "\n"
   ]
  },
  {
   "cell_type": "code",
   "execution_count": null,
   "metadata": {},
   "outputs": [],
   "source": [
    "YouTubeVideo(\"ZGnEW1XQ-dk\")"
   ]
  },
  {
   "cell_type": "code",
   "execution_count": null,
   "metadata": {},
   "outputs": [],
   "source": [
    "print(txt)"
   ]
  },
  {
   "cell_type": "code",
   "execution_count": null,
   "metadata": {},
   "outputs": [],
   "source": [
    "reNameAge = re.compile(r\"(?P<last_name>[cA-Z]{2,}), (?P<first_name>[A-Z][a-z]+)( (?P<middle_name>[A-Za-z.]+))?,( (?P<age>\\d+))?\")\n",
    "reNameAge.findall(txt)\n",
    "for match in reNameAge.finditer(txt):\n",
    "    print(match.groupdict())"
   ]
  },
  {
   "cell_type": "markdown",
   "metadata": {},
   "source": [
    "## Extracting Place of Death"
   ]
  },
  {
   "cell_type": "code",
   "execution_count": null,
   "metadata": {},
   "outputs": [],
   "source": [
    "YouTubeVideo(\"aaftVUMcWgI\")"
   ]
  },
  {
   "cell_type": "code",
   "execution_count": null,
   "metadata": {},
   "outputs": [],
   "source": [
    "print(txt)"
   ]
  },
  {
   "cell_type": "code",
   "execution_count": null,
   "metadata": {},
   "outputs": [],
   "source": [
    "reNameAgePlace = re.compile(r\"(?P<last_name>[cA-Z]{2,}), (?P<first_name>[A-Z][a-z]+)( (?P<middle_name>[A-Za-z.]+))?,( (?P<age>\\d+))?(, of (?P<place>[A-Z][a-zA-Z ]+),)?\")\n",
    "for match in reNameAgePlace.finditer(txt):\n",
    "    print(match.groupdict())"
   ]
  },
  {
   "cell_type": "markdown",
   "metadata": {},
   "source": [
    "## Extracting Date of Death\n",
    "\n"
   ]
  },
  {
   "cell_type": "code",
   "execution_count": null,
   "metadata": {},
   "outputs": [],
   "source": [
    "YouTubeVideo(\"Vm1TS9P2Kj4\")"
   ]
  },
  {
   "cell_type": "code",
   "execution_count": null,
   "metadata": {},
   "outputs": [],
   "source": [
    "print(txt)"
   ]
  },
  {
   "cell_type": "code",
   "execution_count": null,
   "metadata": {},
   "outputs": [],
   "source": [
    "reNameAgePlaceDOD = re.compile(r\"(?P<last_name>[cA-Z]{2,}), (?P<first_name>[A-Z][a-z]+)( (?P<middle_name>[A-Za-z.]+))?,( (?P<age>\\d+))?(, of (?P<place>[A-Z][a-zA-Z ]+))?,( died (?P<dod>[A-Z][a-z.]+ \\d+))\")\n",
    "for match in reNameAgePlaceDOD.finditer(txt):\n",
    "    print(match.groupdict())"
   ]
  },
  {
   "cell_type": "code",
   "execution_count": null,
   "metadata": {},
   "outputs": [],
   "source": [
    "pd.DataFrame([match.groupdict() for match in reNameAgePlaceDOD.finditer(txt)])\n"
   ]
  },
  {
   "cell_type": "code",
   "execution_count": null,
   "metadata": {},
   "outputs": [],
   "source": [
    "name_re = re.compile(r'(?P<last_name>\\b[A-Z](c|ac)?[A-Z]+),\\s(?P<first_name>[A-Z][a-z]+)(\\s)?(?P<middle_name>[A-Z]([.a-z]*)?)?,')\n",
    "names = name_re.findall(txt)\n",
    "print(names)\n",
    "print(len(data))\n",
    "print(len(names))"
   ]
  },
  {
   "cell_type": "code",
   "execution_count": null,
   "metadata": {},
   "outputs": [],
   "source": []
  }
 ],
 "metadata": {
  "kernelspec": {
   "display_name": "Python [default]",
   "language": "python",
   "name": "python3"
  },
  "language_info": {
   "codemirror_mode": {
    "name": "ipython",
    "version": 3
   },
   "file_extension": ".py",
   "mimetype": "text/x-python",
   "name": "python",
   "nbconvert_exporter": "python",
   "pygments_lexer": "ipython3",
   "version": "3.6.4"
  }
 },
 "nbformat": 4,
 "nbformat_minor": 2
}
