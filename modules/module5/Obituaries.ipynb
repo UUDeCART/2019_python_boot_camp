{
 "cells": [
  {
   "cell_type": "markdown",
   "metadata": {},
   "source": [
    "# Using Regular Expressions to Extract Information from Obituaries"
   ]
  },
  {
   "cell_type": "code",
   "execution_count": 1,
   "metadata": {},
   "outputs": [],
   "source": [
    "import re\n",
    "import os\n",
    "import pandas as pd\n",
    "from IPython.display import YouTubeVideo"
   ]
  },
  {
   "cell_type": "code",
   "execution_count": null,
   "metadata": {},
   "outputs": [],
   "source": [
    "YouTubeVideo(\"dkdpvf6XHPQ\")"
   ]
  },
  {
   "cell_type": "code",
   "execution_count": 4,
   "metadata": {},
   "outputs": [],
   "source": [
    "with open(os.path.join(os.path.expanduser(\"~\"),\"DATA/Misc/obits.txt\")) as f0:\n",
    "    data = f0.readlines()"
   ]
  },
  {
   "cell_type": "code",
   "execution_count": 10,
   "metadata": {},
   "outputs": [],
   "source": [
    "data = [d for d in data if d[0] not in \"0123456789\"]"
   ]
  },
  {
   "cell_type": "code",
   "execution_count": 19,
   "metadata": {},
   "outputs": [],
   "source": [
    "txt = \" \".join(data)"
   ]
  },
  {
   "cell_type": "code",
   "execution_count": 18,
   "metadata": {},
   "outputs": [
    {
     "data": {
      "text/plain": [
       "\"BAIRD, Alice O., 96, of Pine, died Oct. 16. King Funeral Home, Hampton. (DN) \\n\\nBECKER, Patricia Joan, 68, of West Deer, died Oct. 16. King Funeral Home, Hampton. (DN) \\n\\nBELKE, Ronald, died Oct. 13. Thomas J. Gmiter Funeral Home, South Side. (DN) \\n\\nBELKE, Irene, died Oct. 13. Thomas J. Gmiter Funeral Home, South Side. (DN) \\n\\nBRADBURN, Arlene A., died Oct. 16. William Slater II Funeral Services, Scott. (DN) \\n\\nBRAUN, Justina F., 92, of McKees Rocks, died Oct. 15. McKees Rocks Funeral Home, McKees Rocks. (DN) \\n\\nBROWN, Dorothy C., 77, died Oct. 16. Rowland S. Cooke Funeral Home, East End. (DN) \\n\\nCHERNEGA, Mary M., 83, of East Pittsburgh, died Oct. 17. Patrick T. Lanigan Funeral Home, East Pittsburgh. (DN) \\n\\nCLOUSE, Walter J., 79, of Fox chapel, died Oct. 17. Weddell-Ajak Funeral Home, Aspinwall. (DN) \\n\\nDRURY, Anna H., 93, of Mount Washington, died Oct. 15. Daniel T. D'Alessandro Funeral Home, Lawrenceville. (DN) \\n\\nDUBOSKY, Mary Hotsur, 85, of North Huntingdon, died Oct. 16. William Snyder Funeral Home. \\n\\nEWART, Arthur E., of Penn Hill, died Oct. 17. Burket-Truby Funeral Home, Oakmont. (DN) \\n\\nFARKAS, Laura, of South Side, died Oct. 15. John J. Gmiter Funeral Home, South Side. (DN) \\n\\nFLEMING, Howard Lee, 66, of South Park, died Oct. 15. Kegel Funeral Home, Finleyville, Washington County. (DN) \\n\\nGAMBLE, Albert R., 87, of Oakmont, died Oct. 17. James C. Stump Funeral Home, Rostraver. (DN) \\n\\nGIDDANS, Donald, of Wilkinsburg, died Oct. 17. Spriggs-Watson Funeral Home, Homewood. \\n\\nGOLDBERG, Elaine Unger, 73, of Squirrel Hill, died Oct. 14. Ralph Schugar Chapel, Shadyside. (DN) \\n\\nGREGO, Kimberly A., 40, of Millvale, died Oct. 16. Healy-Haun Funeral Home, Millvale. (DN) \\n\\nMcCUE, Cletus, 67, of Lawrenceville, died Oct. 15. Daniel T. D'Alessandro Funeral Home, Lawrenceville. (DN) \\n\\nMcMULLAN, Bernard L., 53, of Brookline, died Oct. 17. Beinhauer's, Beechview. (DN) \\n\\nACKLIN, William H., 88, of South Fayette, died Oct. 14. Eugene C. Coleman Funeral Home, Washington County. (DN) \\n\\nBEGLY, Laurel M., of Brookline, died Oct. 14. Beinhauer's, Beechview. (DN) \\n\\nBOCK, Albert J., 75, of Allentown, died Oct. 13. James J. Barry Jr. Funeral Home, Allentown. (DN) \\n\\nCARR, Alberta Weaver, of Etna, died Oct. 14. Frank R. Perman Funeral Home, Shaler. (DN) \\n\\nCHARNOCK, Ruth A., of Avalon, died Oct. 15. Lawrence T. Miller Funeral Home, Bellevue. (DN) \\n\\nCHINCHILLA, Cecilia C., 74, died Oct. 13. John Syka Funeral Home, Ambridge. (DN) \\n\\nCRATSA, Steve, 79, of Penn Hills, died Oct. 14. Thomas D. English Funeral Home, Oakmont. (DN) \\n\\nCUNLIFFE, Grace Stotler, 72, of Plum, died Oct. 14. Maurice L. Knee Funeral Home, Plum. (DN) \\n\\nCUNNINGHAM, Leo H., 55, of North Side, died Oct. 14. Schellhaas Funeral Home, North Side. (DN) \""
      ]
     },
     "execution_count": 18,
     "metadata": {},
     "output_type": "execute_result"
    }
   ],
   "source": [
    "txt"
   ]
  },
  {
   "cell_type": "markdown",
   "metadata": {},
   "source": [
    "## Extracting Names\n",
    "\n",
    "* Do we want to capture first, last, middle names together or separately?\n",
    "* What patterns can we exploit?\n",
    "* What are the variations in names?"
   ]
  },
  {
   "cell_type": "code",
   "execution_count": 12,
   "metadata": {},
   "outputs": [
    {
     "name": "stdout",
     "output_type": "stream",
     "text": [
      "29\n"
     ]
    }
   ],
   "source": [
    "print(len(txt.split(\"\\n\")))"
   ]
  },
  {
   "cell_type": "code",
   "execution_count": 8,
   "metadata": {},
   "outputs": [
    {
     "name": "stdout",
     "output_type": "stream",
     "text": [
      "BAIRD, Alice O., 96, of Pine, died Oct. 16. King Funeral Home, Hampton. (DN) \n",
      "BECKER, Patricia Joan, 68, of West Deer, died Oct. 16. King Funeral Home, Hampton. (DN) \n",
      "BELKE, Ronald, died Oct. 13. Thomas J. Gmiter Funeral Home, South Side. (DN) \n",
      "BELKE, Irene, died Oct. 13. Thomas J. Gmiter Funeral Home, South Side. (DN) \n",
      "BRADBURN, Arlene A., died Oct. 16. William Slater II Funeral Services, Scott. (DN) \n",
      "BRAUN, Justina F., 92, of McKees Rocks, died Oct. 15. McKees Rocks Funeral Home, McKees Rocks. (DN) \n",
      "BROWN, Dorothy C., 77, died Oct. 16. Rowland S. Cooke Funeral Home, East End. (DN) \n",
      "CHERNEGA, Mary M., 83, of East Pittsburgh, died Oct. 17. Patrick T. Lanigan Funeral Home, East Pittsburgh. (DN) \n",
      "CLOUSE, Walter J., 79, of Fox chapel, died Oct. 17. Weddell-Ajak Funeral Home, Aspinwall. (DN) \n",
      "DRURY, Anna H., 93, of Mount Washington, died Oct. 15. Daniel T. D'Alessandro Funeral Home, Lawrenceville. (DN) \n",
      "DUBOSKY, Mary Hotsur, 85, of North Huntingdon, died Oct. 16. William Snyder Funeral Home. \n",
      "EWART, Arthur E., of Penn Hill, died Oct. 17. Burket-Truby Funeral Home, Oakmont. (DN) \n",
      "FARKAS, Laura, of South Side, died Oct. 15. John J. Gmiter Funeral Home, South Side. (DN) \n",
      "FLEMING, Howard Lee, 66, of South Park, died Oct. 15. Kegel Funeral Home, Finleyville, Washington County. (DN) \n",
      "GAMBLE, Albert R., 87, of Oakmont, died Oct. 17. James C. Stump Funeral Home, Rostraver. (DN) \n",
      "GIDDANS, Donald, of Wilkinsburg, died Oct. 17. Spriggs-Watson Funeral Home, Homewood. \n",
      "GOLDBERG, Elaine Unger, 73, of Squirrel Hill, died Oct. 14. Ralph Schugar Chapel, Shadyside. (DN) \n",
      "GREGO, Kimberly A., 40, of Millvale, died Oct. 16. Healy-Haun Funeral Home, Millvale. (DN) \n",
      "McCUE, Cletus, 67, of Lawrenceville, died Oct. 15. Daniel T. D'Alessandro Funeral Home, Lawrenceville. (DN) \n",
      "McMULLAN, Bernard L., 53, of Brookline, died Oct. 17. Beinhauer's, Beechview. (DN) \n",
      "ACKLIN, William H., 88, of South Fayette, died Oct. 14. Eugene C. Coleman Funeral Home, Washington County. (DN) \n",
      "BEGLY, Laurel M., of Brookline, died Oct. 14. Beinhauer's, Beechview. (DN) \n",
      "BOCK, Albert J., 75, of Allentown, died Oct. 13. James J. Barry Jr. Funeral Home, Allentown. (DN) \n",
      "CARR, Alberta Weaver, of Etna, died Oct. 14. Frank R. Perman Funeral Home, Shaler. (DN) \n",
      "CHARNOCK, Ruth A., of Avalon, died Oct. 15. Lawrence T. Miller Funeral Home, Bellevue. (DN) \n",
      "CHINCHILLA, Cecilia C., 74, died Oct. 13. John Syka Funeral Home, Ambridge. (DN) \n",
      "CRATSA, Steve, 79, of Penn Hills, died Oct. 14. Thomas D. English Funeral Home, Oakmont. (DN) \n",
      "CUNLIFFE, Grace Stotler, 72, of Plum, died Oct. 14. Maurice L. Knee Funeral Home, Plum. (DN) \n",
      "CUNNINGHAM, Leo H., 55, of North Side, died Oct. 14. Schellhaas Funeral Home, North Side. (DN) \n"
     ]
    }
   ],
   "source": [
    "print(txt)"
   ]
  },
  {
   "cell_type": "code",
   "execution_count": 20,
   "metadata": {},
   "outputs": [
    {
     "data": {
      "text/plain": [
       "[('BAIRD', 'Alice', ' O.', 'O.'),\n",
       " ('BECKER', 'Patricia', ' Joan', 'Joan'),\n",
       " ('BELKE', 'Ronald', '', ''),\n",
       " ('BELKE', 'Irene', '', ''),\n",
       " ('BRADBURN', 'Arlene', ' A.', 'A.'),\n",
       " ('BRAUN', 'Justina', ' F.', 'F.'),\n",
       " ('BROWN', 'Dorothy', ' C.', 'C.'),\n",
       " ('CHERNEGA', 'Mary', ' M.', 'M.'),\n",
       " ('CLOUSE', 'Walter', ' J.', 'J.'),\n",
       " ('DRURY', 'Anna', ' H.', 'H.'),\n",
       " ('DUBOSKY', 'Mary', ' Hotsur', 'Hotsur'),\n",
       " ('EWART', 'Arthur', ' E.', 'E.'),\n",
       " ('FARKAS', 'Laura', '', ''),\n",
       " ('FLEMING', 'Howard', ' Lee', 'Lee'),\n",
       " ('GAMBLE', 'Albert', ' R.', 'R.'),\n",
       " ('GIDDANS', 'Donald', '', ''),\n",
       " ('GOLDBERG', 'Elaine', ' Unger', 'Unger'),\n",
       " ('GREGO', 'Kimberly', ' A.', 'A.'),\n",
       " ('McCUE', 'Cletus', '', ''),\n",
       " ('McMULLAN', 'Bernard', ' L.', 'L.'),\n",
       " ('ACKLIN', 'William', ' H.', 'H.'),\n",
       " ('BEGLY', 'Laurel', ' M.', 'M.'),\n",
       " ('BOCK', 'Albert', ' J.', 'J.'),\n",
       " ('CARR', 'Alberta', ' Weaver', 'Weaver'),\n",
       " ('CHARNOCK', 'Ruth', ' A.', 'A.'),\n",
       " ('CHINCHILLA', 'Cecilia', ' C.', 'C.'),\n",
       " ('CRATSA', 'Steve', '', ''),\n",
       " ('CUNLIFFE', 'Grace', ' Stotler', 'Stotler'),\n",
       " ('CUNNINGHAM', 'Leo', ' H.', 'H.')]"
      ]
     },
     "execution_count": 20,
     "metadata": {},
     "output_type": "execute_result"
    }
   ],
   "source": [
    "re.findall(r\"(?P<last_name>[cA-Z]{2,}), (?P<first_name>[A-Z][a-z]+)( (?P<middle_name>[A-Za-z.]+))?\", txt) ##마지막에 ?은 optional group middlename에는 space"
   ]
  },
  {
   "cell_type": "code",
   "execution_count": 24,
   "metadata": {},
   "outputs": [
    {
     "name": "stdout",
     "output_type": "stream",
     "text": [
      "{'last_name': 'BAIRD', 'first_name': 'Alice', 'middle_name': 'O.'}\n",
      "{'last_name': 'BECKER', 'first_name': 'Patricia', 'middle_name': 'Joan'}\n",
      "{'last_name': 'BELKE', 'first_name': 'Ronald', 'middle_name': None}\n",
      "{'last_name': 'BELKE', 'first_name': 'Irene', 'middle_name': None}\n",
      "{'last_name': 'BRADBURN', 'first_name': 'Arlene', 'middle_name': 'A.'}\n",
      "{'last_name': 'BRAUN', 'first_name': 'Justina', 'middle_name': 'F.'}\n",
      "{'last_name': 'BROWN', 'first_name': 'Dorothy', 'middle_name': 'C.'}\n",
      "{'last_name': 'CHERNEGA', 'first_name': 'Mary', 'middle_name': 'M.'}\n",
      "{'last_name': 'CLOUSE', 'first_name': 'Walter', 'middle_name': 'J.'}\n",
      "{'last_name': 'DRURY', 'first_name': 'Anna', 'middle_name': 'H.'}\n",
      "{'last_name': 'DUBOSKY', 'first_name': 'Mary', 'middle_name': 'Hotsur'}\n",
      "{'last_name': 'EWART', 'first_name': 'Arthur', 'middle_name': 'E.'}\n",
      "{'last_name': 'FARKAS', 'first_name': 'Laura', 'middle_name': None}\n",
      "{'last_name': 'FLEMING', 'first_name': 'Howard', 'middle_name': 'Lee'}\n",
      "{'last_name': 'GAMBLE', 'first_name': 'Albert', 'middle_name': 'R.'}\n",
      "{'last_name': 'GIDDANS', 'first_name': 'Donald', 'middle_name': None}\n",
      "{'last_name': 'GOLDBERG', 'first_name': 'Elaine', 'middle_name': 'Unger'}\n",
      "{'last_name': 'GREGO', 'first_name': 'Kimberly', 'middle_name': 'A.'}\n",
      "{'last_name': 'McCUE', 'first_name': 'Cletus', 'middle_name': None}\n",
      "{'last_name': 'McMULLAN', 'first_name': 'Bernard', 'middle_name': 'L.'}\n",
      "{'last_name': 'ACKLIN', 'first_name': 'William', 'middle_name': 'H.'}\n",
      "{'last_name': 'BEGLY', 'first_name': 'Laurel', 'middle_name': 'M.'}\n",
      "{'last_name': 'BOCK', 'first_name': 'Albert', 'middle_name': 'J.'}\n",
      "{'last_name': 'CARR', 'first_name': 'Alberta', 'middle_name': 'Weaver'}\n",
      "{'last_name': 'CHARNOCK', 'first_name': 'Ruth', 'middle_name': 'A.'}\n",
      "{'last_name': 'CHINCHILLA', 'first_name': 'Cecilia', 'middle_name': 'C.'}\n",
      "{'last_name': 'CRATSA', 'first_name': 'Steve', 'middle_name': None}\n",
      "{'last_name': 'CUNLIFFE', 'first_name': 'Grace', 'middle_name': 'Stotler'}\n",
      "{'last_name': 'CUNNINGHAM', 'first_name': 'Leo', 'middle_name': 'H.'}\n"
     ]
    }
   ],
   "source": [
    "reName = re.compile(r\"(?P<last_name>[cA-Z]{2,}), (?P<first_name>[A-Z][a-z]+)( (?P<middle_name>[A-Za-z.]+))?\")\n",
    "for match in reName.finditer(txt):\n",
    "    print(match.groupdict())"
   ]
  },
  {
   "cell_type": "code",
   "execution_count": 26,
   "metadata": {},
   "outputs": [],
   "source": [
    "reName = re.compile(r\"(?P<last_name>[cA-Z]{2,}), (?P<first_name>[A-Z][a-z]+)( (?P<middle_name>[A-Za-z.]+))?\")\n",
    "matchiter = reName.finditer(txt)"
   ]
  },
  {
   "cell_type": "code",
   "execution_count": 36,
   "metadata": {},
   "outputs": [],
   "source": [
    "match = next(matchiter)"
   ]
  },
  {
   "cell_type": "code",
   "execution_count": 37,
   "metadata": {},
   "outputs": [
    {
     "data": {
      "text/plain": [
       "<re.Match object; span=(326, 345), match='BRADBURN, Arlene A.'>"
      ]
     },
     "execution_count": 37,
     "metadata": {},
     "output_type": "execute_result"
    }
   ],
   "source": [
    "match"
   ]
  },
  {
   "cell_type": "code",
   "execution_count": 38,
   "metadata": {},
   "outputs": [
    {
     "data": {
      "text/plain": [
       "<function Match.start(group=0, /)>"
      ]
     },
     "execution_count": 38,
     "metadata": {},
     "output_type": "execute_result"
    }
   ],
   "source": [
    "match.start"
   ]
  },
  {
   "cell_type": "markdown",
   "metadata": {},
   "source": [
    "## Extracting Age\n",
    "\n"
   ]
  },
  {
   "cell_type": "code",
   "execution_count": null,
   "metadata": {},
   "outputs": [],
   "source": [
    "YouTubeVideo(\"ZGnEW1XQ-dk\")"
   ]
  },
  {
   "cell_type": "code",
   "execution_count": null,
   "metadata": {},
   "outputs": [],
   "source": [
    "print(txt)"
   ]
  },
  {
   "cell_type": "code",
   "execution_count": null,
   "metadata": {},
   "outputs": [],
   "source": [
    "reNameAge = re.compile(r\"(?P<last_name>[cA-Z]{2,}), (?P<first_name>[A-Z][a-z]+)( (?P<middle_name>[A-Za-z.]+))?,( (?P<age>\\d+))?\")\n",
    "reNameAge.findall(txt)\n",
    "for match in reNameAge.finditer(txt):\n",
    "    print(match.groupdict())"
   ]
  },
  {
   "cell_type": "markdown",
   "metadata": {},
   "source": [
    "## Extracting Place of Death"
   ]
  },
  {
   "cell_type": "code",
   "execution_count": null,
   "metadata": {},
   "outputs": [],
   "source": [
    "YouTubeVideo(\"aaftVUMcWgI\")"
   ]
  },
  {
   "cell_type": "code",
   "execution_count": null,
   "metadata": {},
   "outputs": [],
   "source": [
    "print(txt)"
   ]
  },
  {
   "cell_type": "code",
   "execution_count": null,
   "metadata": {},
   "outputs": [],
   "source": [
    "reNameAgePlace = re.compile(r\"(?P<last_name>[cA-Z]{2,}), (?P<first_name>[A-Z][a-z]+)( (?P<middle_name>[A-Za-z.]+))?,( (?P<age>\\d+))?(, of (?P<place>[A-Z][a-zA-Z ]+),)?\")\n",
    "for match in reNameAgePlace.finditer(txt):\n",
    "    print(match.groupdict())"
   ]
  },
  {
   "cell_type": "markdown",
   "metadata": {},
   "source": [
    "## Extracting Date of Death\n",
    "\n"
   ]
  },
  {
   "cell_type": "code",
   "execution_count": null,
   "metadata": {},
   "outputs": [],
   "source": [
    "YouTubeVideo(\"Vm1TS9P2Kj4\")"
   ]
  },
  {
   "cell_type": "code",
   "execution_count": null,
   "metadata": {},
   "outputs": [],
   "source": [
    "print(txt)"
   ]
  },
  {
   "cell_type": "code",
   "execution_count": null,
   "metadata": {},
   "outputs": [],
   "source": [
    "reNameAgePlaceDOD = re.compile(r\"(?P<last_name>[cA-Z]{2,}), (?P<first_name>[A-Z][a-z]+)( (?P<middle_name>[A-Za-z.]+))?,( (?P<age>\\d+))?(, of (?P<place>[A-Z][a-zA-Z ]+))?,( died (?P<dod>[A-Z][a-z.]+ \\d+))\")\n",
    "for match in reNameAgePlaceDOD.finditer(txt):\n",
    "    print(match.groupdict())"
   ]
  },
  {
   "cell_type": "code",
   "execution_count": null,
   "metadata": {},
   "outputs": [],
   "source": [
    "pd.DataFrame([match.groupdict() for match in reNameAgePlaceDOD.finditer(txt)])\n"
   ]
  },
  {
   "cell_type": "code",
   "execution_count": null,
   "metadata": {},
   "outputs": [],
   "source": [
    "name_re = re.compile(r'(?P<last_name>\\b[A-Z](c|ac)?[A-Z]+),\\s(?P<first_name>[A-Z][a-z]+)(\\s)?(?P<middle_name>[A-Z]([.a-z]*)?)?,')\n",
    "names = name_re.findall(txt)\n",
    "print(names)\n",
    "print(len(data))\n",
    "print(len(names))"
   ]
  },
  {
   "cell_type": "code",
   "execution_count": null,
   "metadata": {},
   "outputs": [],
   "source": []
  }
 ],
 "metadata": {
  "kernelspec": {
   "display_name": "Python 3",
   "language": "python",
   "name": "python3"
  },
  "language_info": {
   "codemirror_mode": {
    "name": "ipython",
    "version": 3
   },
   "file_extension": ".py",
   "mimetype": "text/x-python",
   "name": "python",
   "nbconvert_exporter": "python",
   "pygments_lexer": "ipython3",
   "version": "3.7.3"
  }
 },
 "nbformat": 4,
 "nbformat_minor": 2
}
