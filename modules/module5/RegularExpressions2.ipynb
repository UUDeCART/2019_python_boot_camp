{
 "cells": [
  {
   "cell_type": "markdown",
   "metadata": {},
   "source": [
    "# Regular Expressions Part 2\n",
    "### My goto reference is the [Regular Expression How To](http://docs.python.org/3/howto/regex.html) webpage.\n",
    "\n",
    "## What this notebook covers\n",
    "\n",
    "1. Groups\n",
    "1. Match Objects\n",
    "3. Named Groups\n",
    "4. Modifying Strings with Regular Expressions"
   ]
  },
  {
   "cell_type": "markdown",
   "metadata": {},
   "source": [
    "### Groups\n",
    "* Individual parts of a regular expression can be identified using parentheses **()**. \n",
    "* These are then known as *GROUPS*. \n",
    "* Groups can be made optional by putting a question mark **(?)** after the group. \n"
   ]
  },
  {
   "cell_type": "markdown",
   "metadata": {},
   "source": [
    "# Examples"
   ]
  },
  {
   "cell_type": "code",
   "execution_count": null,
   "metadata": {},
   "outputs": [],
   "source": [
    "testString = \"\"\"\n",
    "Br. Chapman died yesterday. Brian Chapman, much beloved, Brian E. Chapman Brian Earl Chapman \n",
    "Wendy Webber Chapman Clare \n",
    "1234 4321.1234 Clare A Chapman python python.org \n",
    "http://python.org www.python.org jython zython Brad Bob cpython brian http://www.python.org perl Perl PERL\n",
    "https://www.utah.edu\n",
    "\n",
    "https://www.python.org\"\"\""
   ]
  },
  {
   "cell_type": "markdown",
   "metadata": {},
   "source": [
    "### Here is a regular expression to match `python` or `perl`\n",
    "```Python\n",
    "r\"\"\"(p(ython|erl))\"\"\"\n",
    "```\n",
    "#### This uses a group `ython|erl` within a larger group"
   ]
  },
  {
   "cell_type": "code",
   "execution_count": null,
   "metadata": {},
   "outputs": [],
   "source": [
    "e4 = r\"\"\"(p(ython|erl))\"\"\"\n",
    "println(matchall(e4, testString))\n",
    "\n"
   ]
  },
  {
   "cell_type": "markdown",
   "metadata": {},
   "source": [
    "### Optional Groups\n",
    "#### Here is a regular expression to match pars of the python web address\n",
    "#### All groups are optional except for `python`"
   ]
  },
  {
   "cell_type": "code",
   "execution_count": null,
   "metadata": {},
   "outputs": [],
   "source": [
    "r1 = r\"\"\"(http[s]*://)?(www\\.)?(python)(\\.org)?\"\"\"\n",
    "for m in matchall(r1, testString)\n",
    "    println(m)\n",
    "    println(typeof(m))\n",
    "    println(\"**********\")\n",
    "end"
   ]
  },
  {
   "cell_type": "markdown",
   "metadata": {},
   "source": [
    "## Matched Objects\n",
    "### `matchall` is useful: it returns the strings we matched. But...\n",
    "### There is a more powerful way of working with what we've matched\n",
    "* [`eachmatch`]()\n",
    "* [`match`]()\n",
    "* The match object contains methods that describe the attribute of the matched string, for example, the span of the matched string."
   ]
  },
  {
   "cell_type": "code",
   "execution_count": null,
   "metadata": {},
   "outputs": [],
   "source": [
    "m = match(r1, testString)\n",
    "println(typeof(m))"
   ]
  },
  {
   "cell_type": "code",
   "execution_count": null,
   "metadata": {},
   "outputs": [],
   "source": [
    "for m in eachmatch(r1, testString)\n",
    "    println(m)\n",
    "    println(m.match)\n",
    "    println(m[1], \" \", m[2], \" \", m[3], \" \", m[4])\n",
    "    println(\"***************\")\n",
    "end"
   ]
  },
  {
   "cell_type": "code",
   "execution_count": null,
   "metadata": {},
   "outputs": [],
   "source": [
    "println(m.offset, \" \", m.offsets)"
   ]
  },
  {
   "cell_type": "code",
   "execution_count": null,
   "metadata": {},
   "outputs": [],
   "source": [
    "range(1,4)"
   ]
  },
  {
   "cell_type": "code",
   "execution_count": null,
   "metadata": {},
   "outputs": [],
   "source": [
    "for m in eachmatch(r1, testString)\n",
    "    println(m)\n",
    "    for i in range(1,4) \n",
    "        if m[i] != nothing\n",
    "            println(m[i], \" \", m.offsets[i])\n",
    "        end\n",
    "    end\n",
    "    println(\"***************\")\n",
    "end"
   ]
  },
  {
   "cell_type": "markdown",
   "metadata": {},
   "source": [
    "## Named Groups\n",
    "* As we've defined groups so far, the individual groups can be accessed through indexing\n",
    "* Groups can be named as follows:\n",
    "```python   \n",
    "    (?P<frame>[0-9]+)\n",
    "```    \n",
    "\n",
    "### Named groups can be accessed either through index or name"
   ]
  },
  {
   "cell_type": "code",
   "execution_count": null,
   "metadata": {},
   "outputs": [],
   "source": [
    "r1 = r\"\"\"(?P<protocol>http[s]*://)?(?P<prefix>www\\.)?(?P<name>python)(?P<suffix>\\.org)?\"\"\"\n",
    "for d in eachmatch(r1, testString)\n",
    "    println(\"d[1]=$(d[1]); d[2]=$(d[2]); d[3]=$(d[3]); d[4]=$(d[4])\")\n",
    "end"
   ]
  },
  {
   "cell_type": "code",
   "execution_count": null,
   "metadata": {},
   "outputs": [],
   "source": [
    "for d in eachmatch(r1, testString)\n",
    "    println(\"d[:protocol]=$(d[:protocol]); d[:prefix]=$(d[:prefix]); d[:name]=$(d[:name]); d[:suffix]=$(d[:suffix])\")\n",
    "end    \n"
   ]
  },
  {
   "cell_type": "code",
   "execution_count": null,
   "metadata": {},
   "outputs": [],
   "source": [
    "name = r\"\"\"((?P<fname>[A-Z][a-z]+)\\s((?P<mname>[A-Z][A-Za-z\\.]*)\\s)?(?P<lname>[A-Z][A-Za-z]+))\"\"\"\n",
    "\n",
    "for n in eachmatch(name, testString)\n",
    "    println(\"$(n.match) <$(n.offset), $(n.offset+length(n.match))>\")\n",
    "    println(\"$(n[:lname]), $(n[:fname])\")\n",
    "    #print (\"*\"*42)\n",
    "end"
   ]
  },
  {
   "cell_type": "markdown",
   "metadata": {},
   "source": [
    "## Modifying Strings with re\n",
    "* Regular expressions can also be used to modify text\n",
    "* Here is an example where we are identifying multiple white spaces, including tabs and newlines, and replacing them with a single space."
   ]
  },
  {
   "cell_type": "code",
   "execution_count": null,
   "metadata": {},
   "outputs": [],
   "source": [
    "test = \"\"\"Brian E.     Chapman\\t\\n has many bikes, including    a Big  Dummy, which  is probably the\\t\\t\\nbike with   the    best name.\"\"\"\n",
    "\n",
    "\"\"\"cleans up whitepsaces in text by replacing series of all whitespaces with a single space\"\"\"\n",
    "function cleanText(txt)\n",
    "    \n",
    "    txt2 = replace(txt, r\"\\s+\", \" \"\"\")\n",
    "    return txt2\n",
    "end    \n",
    "println(test)\n",
    "println(\"*\"^42)\n",
    "println(cleanText(test))"
   ]
  },
  {
   "cell_type": "markdown",
   "metadata": {},
   "source": []
  },
  {
   "cell_type": "code",
   "execution_count": null,
   "metadata": {},
   "outputs": [],
   "source": []
  }
 ],
 "metadata": {
  "anaconda-cloud": {},
  "kernelspec": {
   "display_name": "Julia 0.5.2",
   "language": "julia",
   "name": "julia-0.5"
  },
  "language_info": {
   "file_extension": ".jl",
   "mimetype": "application/julia",
   "name": "julia",
   "version": "0.5.2"
  }
 },
 "nbformat": 4,
 "nbformat_minor": 1
}
