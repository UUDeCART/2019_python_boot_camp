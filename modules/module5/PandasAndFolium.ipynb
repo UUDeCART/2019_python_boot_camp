{
 "cells": [
  {
   "cell_type": "markdown",
   "metadata": {},
   "source": [
    "## Visualizing Spatial Data with Pandas and Folium"
   ]
  },
  {
   "cell_type": "code",
   "execution_count": null,
   "metadata": {},
   "outputs": [],
   "source": [
    "import os\n",
    "DATADIR = os.path.join(os.path.expanduser(\"~\"),\"DATA\",\n",
    "                       \"Misc\")\n",
    "print(os.path.exists(DATADIR))\n",
    "import pandas as pd\n",
    "import numpy as np"
   ]
  },
  {
   "cell_type": "code",
   "execution_count": null,
   "metadata": {},
   "outputs": [],
   "source": [
    "!pip install folium\n",
    "import folium\n"
   ]
  },
  {
   "cell_type": "markdown",
   "metadata": {},
   "source": [
    "`Accidents7904.csv` located in `~/DATA/Misc` is a a record of all the automobile accidents in the UK between 1974 and 2004. This is quite a large data set but nothing that Pandas can't handle, in principle. However, given that we don't want to over tax our system, we will limit ourselves to reading in only parts of the data.\n",
    "\n",
    "The original data contains 6224198 rows. However, because GPS was not declassified until the late 1990s, the early accidents do not have lattitude and longitude values are so not of interest to us. The first longitude/lattitude value occurs at row 4883216.\n",
    "\n",
    "We can use the [`skiprows`](https://pandas.pydata.org/pandas-docs/stable/generated/pandas.read_table.html) keyword. \n",
    "\n",
    "`skiprows` can take\n",
    "* An integer number of rows to skip\n",
    "* A sequence (e.g. a list) of row numbers to skip\n",
    "* Or a function that returns `True` if the row should be skipped and `False` otherwise."
   ]
  },
  {
   "cell_type": "markdown",
   "metadata": {},
   "source": [
    "### Read in the data\n",
    "\n",
    "We'll use a `lambda` function to specify which rows to skip"
   ]
  },
  {
   "cell_type": "code",
   "execution_count": null,
   "metadata": {},
   "outputs": [],
   "source": [
    "data = pd.read_csv(os.path.join(DATADIR, \"Accidents7904.csv\"),\n",
    "                        skiprows = lambda index: index >0 and index <=4883216 \n",
    "                   \n",
    "                        )#.dropna()"
   ]
  },
  {
   "cell_type": "markdown",
   "metadata": {},
   "source": [
    "### What are our columns?"
   ]
  },
  {
   "cell_type": "code",
   "execution_count": null,
   "metadata": {},
   "outputs": [],
   "source": [
    "data.columns"
   ]
  },
  {
   "cell_type": "markdown",
   "metadata": {},
   "source": [
    "### What are the values in these columns?"
   ]
  },
  {
   "cell_type": "code",
   "execution_count": null,
   "metadata": {},
   "outputs": [],
   "source": [
    "data['Accident_Severity'].unique()"
   ]
  },
  {
   "cell_type": "code",
   "execution_count": null,
   "metadata": {},
   "outputs": [],
   "source": [
    "data[\"Number_of_Casualties\"].unique()"
   ]
  },
  {
   "cell_type": "code",
   "execution_count": null,
   "metadata": {},
   "outputs": [],
   "source": [
    "data[\"Light_Conditions\"].unique()"
   ]
  },
  {
   "cell_type": "markdown",
   "metadata": {},
   "source": [
    "## Let's limit ourselves to the following columns:\n",
    "\n",
    "* `Longitude`\n",
    "* `Latitude`\n",
    "* `Time`\n",
    "* `Number_of_Casualites`"
   ]
  },
  {
   "cell_type": "code",
   "execution_count": null,
   "metadata": {},
   "outputs": [],
   "source": [
    "data = pd.read_csv(os.path.join(DATADIR, \"Accidents7904.csv\"),\n",
    "                   usecols=['Longitude',\"Latitude\",\n",
    "                            \"Date\", \"Time\",\"Number_of_Casualties\"],\n",
    "                   skiprows = lambda index: index >0 and index <=4883216 )\n",
    "                   \n",
    "                        "
   ]
  },
  {
   "cell_type": "code",
   "execution_count": null,
   "metadata": {},
   "outputs": [],
   "source": [
    "data.head()"
   ]
  },
  {
   "cell_type": "code",
   "execution_count": null,
   "metadata": {},
   "outputs": [],
   "source": [
    "data.shape"
   ]
  },
  {
   "cell_type": "markdown",
   "metadata": {},
   "source": [
    "### We can drop missing values"
   ]
  },
  {
   "cell_type": "code",
   "execution_count": null,
   "metadata": {},
   "outputs": [],
   "source": [
    "data2 = data.dropna()"
   ]
  },
  {
   "cell_type": "code",
   "execution_count": null,
   "metadata": {},
   "outputs": [],
   "source": [
    "data2.shape"
   ]
  },
  {
   "cell_type": "code",
   "execution_count": null,
   "metadata": {},
   "outputs": [],
   "source": [
    "type(data2.iloc[0,3])"
   ]
  },
  {
   "cell_type": "code",
   "execution_count": null,
   "metadata": {},
   "outputs": [],
   "source": [
    "type(data2.loc[0,\"Time\"])"
   ]
  },
  {
   "cell_type": "markdown",
   "metadata": {},
   "source": [
    "#### Date's and Times are not recognized as such and so are left as strings\n",
    "\n",
    "* We could set `locale`\n",
    "* Or we can convert later"
   ]
  },
  {
   "cell_type": "code",
   "execution_count": null,
   "metadata": {},
   "outputs": [],
   "source": [
    "data2[\"Date\"] = pd.to_datetime(data2[\"Date\"],format=\"%d/%m/%Y\", \n",
    "                              errors='ignore')"
   ]
  },
  {
   "cell_type": "code",
   "execution_count": null,
   "metadata": {},
   "outputs": [],
   "source": [
    "from datetime import datetime\n",
    "tmp = datetime.strptime(\"09:30\",\"%H:%M\")\n",
    "print(tmp.time())"
   ]
  },
  {
   "cell_type": "code",
   "execution_count": null,
   "metadata": {},
   "outputs": [],
   "source": [
    "data2[\"Time\"] = data2.apply(lambda row: datetime.strptime(row[\"Time\"],\"%H:%M\").time(), \n",
    "                            axis=1)"
   ]
  },
  {
   "cell_type": "code",
   "execution_count": null,
   "metadata": {},
   "outputs": [],
   "source": [
    "data2.head()"
   ]
  },
  {
   "cell_type": "markdown",
   "metadata": {},
   "source": [
    "####  We can use the [``sample``](http://pandas.pydata.org/pandas-docs/stable/generated/pandas.DataFrame.sample.html) method to get a subset of DataFrame"
   ]
  },
  {
   "cell_type": "code",
   "execution_count": null,
   "metadata": {},
   "outputs": [],
   "source": [
    "subdata = data2.sample(2000)\n",
    "mean_long = np.mean(subdata['Longitude'])\n",
    "mean_lat  = np.mean(subdata['Latitude'])\n"
   ]
  },
  {
   "cell_type": "code",
   "execution_count": null,
   "metadata": {},
   "outputs": [],
   "source": [
    "help(folium.Map)"
   ]
  },
  {
   "cell_type": "code",
   "execution_count": null,
   "metadata": {},
   "outputs": [],
   "source": [
    "map = folium.Map(location=[mean_lat, mean_long], \n",
    "                 tiles=\"Stamen Terrain\", zoom_start=5.5)\n",
    "for _, s in subdata.iterrows():\n",
    "    rslt = folium.Marker([s[\"Latitude\"], s[\"Longitude\"]],\n",
    "                  popup=\"%s\\n%s\\n# Causalities: %d\"%(s[\"Date\"],\n",
    "                                                     s[\"Time\"],\n",
    "                                                     s[\"Number_of_Casualties\"]),\n",
    "                  icon=folium.Icon(icon='cloud')).add_to(map)\n",
    "map"
   ]
  },
  {
   "cell_type": "markdown",
   "metadata": {},
   "source": [
    "### Example 2\n",
    "\n",
    "* Filter Pandas DataFrame on number of casualties\n",
    "* Select different [Bootstrap icon](https://www.w3schools.com/icons/bootstrap_icons_glyphicons.asp)\n",
    "* Set different color"
   ]
  },
  {
   "cell_type": "code",
   "execution_count": null,
   "metadata": {},
   "outputs": [],
   "source": [
    "from ipywidgets import interact, interactive, fixed, interact_manual, IntSlider\n",
    "import ipywidgets as widgets\n",
    "from IPython.display import display"
   ]
  },
  {
   "cell_type": "code",
   "execution_count": null,
   "metadata": {},
   "outputs": [],
   "source": [
    "help(folium.Map)"
   ]
  },
  {
   "cell_type": "code",
   "execution_count": null,
   "metadata": {},
   "outputs": [],
   "source": [
    "subdata = data2.sample(100)\n",
    "mean_long = np.mean(subdata['Longitude'])\n",
    "mean_lat  = np.mean(subdata['Latitude'])\n",
    "tiles = [\"OpenStreetMap\", \"Mapbox Bright\", \"Mapbox Control Room\", \n",
    "         \"Stamen Terrain\", \"Stamen Toner\", \"Stamen Watercolor\", \n",
    "         \"CartoDB positron\",\"CartoDB dark_matter\"]\n",
    "@interact(num_cas=IntSlider(min=1,\n",
    "                            max=subdata.Number_of_Casualties.max(), \n",
    "                            value=subdata.Number_of_Casualties.max()), \n",
    "          data2 = fixed(subdata), \n",
    "          loclat = fixed(mean_lat), \n",
    "          tile=tiles,\n",
    "          loclon=fixed(mean_long))\n",
    "def plot_accidents(data2, num_cas, loclat, loclon, tile):\n",
    "    map2 = folium.Map(location=[loclat, loclon], \n",
    "                     tiles=tile, zoom_start=5.5)\n",
    "    for _, s in data2[data2[\"Number_of_Casualties\"]>=num_cas].iterrows():\n",
    "        rslt = folium.Marker([s[\"Latitude\"], s[\"Longitude\"]],\n",
    "                      popup=\"%s\\n%s\\n# Causalities: %d\"%(s[\"Date\"],\n",
    "                                                         s[\"Time\"],\n",
    "                                                         s[\"Number_of_Casualties\"]),\n",
    "                      icon=folium.Icon(icon=\"fa-ambulance\", color='red', prefix=\"fa\"),\n",
    "                            tooltip = 'Click for accident details').add_to(map2)\n",
    "    display(map2)"
   ]
  },
  {
   "cell_type": "code",
   "execution_count": null,
   "metadata": {},
   "outputs": [],
   "source": []
  }
 ],
 "metadata": {
  "kernelspec": {
   "display_name": "Python [default]",
   "language": "python",
   "name": "python3"
  },
  "language_info": {
   "codemirror_mode": {
    "name": "ipython",
    "version": 3
   },
   "file_extension": ".py",
   "mimetype": "text/x-python",
   "name": "python",
   "nbconvert_exporter": "python",
   "pygments_lexer": "ipython3",
   "version": "3.6.4"
  }
 },
 "nbformat": 4,
 "nbformat_minor": 1
}
